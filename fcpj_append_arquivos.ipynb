{
  "nbformat": 4,
  "nbformat_minor": 0,
  "metadata": {
    "colab": {
      "name": "fcpj_append_arquivos.ipynb",
      "provenance": [],
      "collapsed_sections": [],
      "authorship_tag": "ABX9TyOPDCOXOPQzsqbjbk2CEJXF",
      "include_colab_link": true
    },
    "kernelspec": {
      "name": "python3",
      "display_name": "Python 3"
    }
  },
  "cells": [
    {
      "cell_type": "markdown",
      "metadata": {
        "id": "view-in-github",
        "colab_type": "text"
      },
      "source": [
        "<a href=\"https://colab.research.google.com/github/tmalveirac/fcpc/blob/master/fcpj_append_arquivos.ipynb\" target=\"_parent\"><img src=\"https://colab.research.google.com/assets/colab-badge.svg\" alt=\"Open In Colab\"/></a>"
      ]
    },
    {
      "cell_type": "markdown",
      "metadata": {
        "id": "XLpy-0kc3tS1",
        "colab_type": "text"
      },
      "source": [
        "## Preparação do arquivo histórico 2010-2019 Pagamento PJ \n",
        "FCPF\n",
        "\n",
        "```\n",
        "# Será incluído o ano em cada df e feito um append\n",
        "\n",
        "```\n",
        "\n"
      ]
    },
    {
      "cell_type": "code",
      "metadata": {
        "id": "Jnspg7Jw3n4T",
        "colab_type": "code",
        "colab": {}
      },
      "source": [
        "import pandas as pd"
      ],
      "execution_count": 0,
      "outputs": []
    },
    {
      "cell_type": "code",
      "metadata": {
        "id": "VHpNY-094K7B",
        "colab_type": "code",
        "colab": {}
      },
      "source": [
        "df_2010 = pd.read_csv('/content/FCPC - 2010.csv')\n",
        "df_2011 = pd.read_csv('/content/FCPC - 2011.csv')\n",
        "df_2012 = pd.read_csv('/content/FCPC - 2012.csv')\n",
        "df_2013 = pd.read_csv('/content/FCPC - 2013.csv')\n",
        "df_2014 = pd.read_csv('/content/FCPC - 2014.csv')\n",
        "df_2015 = pd.read_csv('/content/FCPC - 2015.csv')\n",
        "df_2016 = pd.read_csv('/content/FCPC - 2016.csv')\n",
        "df_2017 = pd.read_csv('/content/FCPC - 2017.csv')\n",
        "df_2018 = pd.read_csv('/content/FCPC - 2018.csv')\n",
        "df_2019 = pd.read_csv('/content/FCPC - 2019.csv')"
      ],
      "execution_count": 0,
      "outputs": []
    },
    {
      "cell_type": "code",
      "metadata": {
        "id": "Q2aBF8yZ5DhL",
        "colab_type": "code",
        "colab": {}
      },
      "source": [
        "# Inserção do ano\n",
        "df_2010['ano'] = '2010'\n",
        "df_2011['ano'] = '2011'\n",
        "df_2012['ano'] = '2012'\n",
        "df_2013['ano'] = '2013'\n",
        "df_2014['ano'] = '2014'\n",
        "df_2015['ano'] = '2015'\n",
        "df_2016['ano'] = '2016'\n",
        "df_2017['ano'] = '2017'\n",
        "df_2018['ano'] = '2018'\n",
        "df_2019['ano'] = '2019'"
      ],
      "execution_count": 0,
      "outputs": []
    },
    {
      "cell_type": "code",
      "metadata": {
        "id": "NeseqjJr5oVq",
        "colab_type": "code",
        "colab": {}
      },
      "source": [
        "#App\n",
        "df = df_2010\n",
        "df_total = df.append(df_2011).append(df_2012).append(df_2013).append(df_2014).append(df_2015).append(df_2016).append(df_2017).append(df_2018).append(df_2019)"
      ],
      "execution_count": 0,
      "outputs": []
    },
    {
      "cell_type": "code",
      "metadata": {
        "id": "eUqebNAS6CIM",
        "colab_type": "code",
        "outputId": "c2d72c6d-abbe-47f5-ebec-9f66dd61f00e",
        "colab": {
          "base_uri": "https://localhost:8080/",
          "height": 34
        }
      },
      "source": [
        "df_total.shape"
      ],
      "execution_count": 5,
      "outputs": [
        {
          "output_type": "execute_result",
          "data": {
            "text/plain": [
              "(100155, 6)"
            ]
          },
          "metadata": {
            "tags": []
          },
          "execution_count": 5
        }
      ]
    },
    {
      "cell_type": "code",
      "metadata": {
        "id": "_MlslXmn6I2u",
        "colab_type": "code",
        "colab": {}
      },
      "source": [
        "df_total.to_csv('/content/fcpc_despesas_pj_2010_2019.csv', index=False)"
      ],
      "execution_count": 0,
      "outputs": []
    }
  ]
}