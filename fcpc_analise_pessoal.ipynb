{
  "nbformat": 4,
  "nbformat_minor": 0,
  "metadata": {
    "colab": {
      "name": "fcpc_analise_pessoal.ipynb",
      "provenance": [],
      "collapsed_sections": [],
      "toc_visible": true,
      "authorship_tag": "ABX9TyP0mzZpfK9bTFxzIOyvKrqZ",
      "include_colab_link": true
    },
    "kernelspec": {
      "name": "python3",
      "display_name": "Python 3"
    }
  },
  "cells": [
    {
      "cell_type": "markdown",
      "metadata": {
        "id": "view-in-github",
        "colab_type": "text"
      },
      "source": [
        "<a href=\"https://colab.research.google.com/github/tmalveirac/fcpc/blob/master/fcpc_analise_pessoal.ipynb\" target=\"_parent\"><img src=\"https://colab.research.google.com/assets/colab-badge.svg\" alt=\"Open In Colab\"/></a>"
      ]
    },
    {
      "cell_type": "markdown",
      "metadata": {
        "id": "cqUIrvCksr7g",
        "colab_type": "text"
      },
      "source": [
        "## Análise de Pagamentos para Pessoa Física FCPC - Fundação Cearense de Pesquisa e Cultura - CNPJ 05.330.436/0001-62\n"
      ]
    },
    {
      "cell_type": "code",
      "metadata": {
        "id": "BHTDc2JZpFL6",
        "colab_type": "code",
        "colab": {}
      },
      "source": [
        "import pandas as pd\n",
        "import matplotlib.pyplot as plt\n",
        "from datetime import datetime  \n",
        "plt.rcParams['figure.figsize'] = (20,7)\n",
        "pd.set_option('display.float_format', '{:.2f}'.format)\n",
        "pd.options.display.float_format = '${:,.2f}'.format"
      ],
      "execution_count": 0,
      "outputs": []
    },
    {
      "cell_type": "code",
      "metadata": {
        "id": "RW7fS-YrpsJP",
        "colab_type": "code",
        "outputId": "3e971278-3999-479a-e34d-f1b6dadcb2fb",
        "colab": {
          "base_uri": "https://localhost:8080/",
          "height": 606
        }
      },
      "source": [
        "#Pagamentos pessoa física 2020\n",
        "df_2020 = pd.read_csv('/content/2020.csv')\n",
        "df_2020['ano'] = 2020\n",
        "#Append com os dados histórios de 2002-2019\n",
        "df_2002_2019 = pd.read_csv('/content/fcpc_despesas_pf_2002_2019.csv')\n",
        "df = df_2020.append(df_2002_2019)\n",
        "df"
      ],
      "execution_count": 2,
      "outputs": [
        {
          "output_type": "execute_result",
          "data": {
            "text/html": [
              "<div>\n",
              "<style scoped>\n",
              "    .dataframe tbody tr th:only-of-type {\n",
              "        vertical-align: middle;\n",
              "    }\n",
              "\n",
              "    .dataframe tbody tr th {\n",
              "        vertical-align: top;\n",
              "    }\n",
              "\n",
              "    .dataframe thead th {\n",
              "        text-align: right;\n",
              "    }\n",
              "</style>\n",
              "<table border=\"1\" class=\"dataframe\">\n",
              "  <thead>\n",
              "    <tr style=\"text-align: right;\">\n",
              "      <th></th>\n",
              "      <th>CPF</th>\n",
              "      <th>NOME</th>\n",
              "      <th>TIPO DE PAGAMENTO</th>\n",
              "      <th>PROJETO</th>\n",
              "      <th>DATA</th>\n",
              "      <th>VALOR (R$)</th>\n",
              "      <th>ano</th>\n",
              "    </tr>\n",
              "  </thead>\n",
              "  <tbody>\n",
              "    <tr>\n",
              "      <th>0</th>\n",
              "      <td>***.000.443-**</td>\n",
              "      <td>VIRGINIA XAVIER NUNES</td>\n",
              "      <td>BOLSA DE ESTUDO E PESQUISA</td>\n",
              "      <td>3510 - ACORDO DE PARCERIA LOCKTEC/FCPC/IFCE - ...</td>\n",
              "      <td>06/04/2020</td>\n",
              "      <td>1.100,00</td>\n",
              "      <td>2020</td>\n",
              "    </tr>\n",
              "    <tr>\n",
              "      <th>1</th>\n",
              "      <td>***.000.443-**</td>\n",
              "      <td>VIRGINIA XAVIER NUNES</td>\n",
              "      <td>BOLSA DE ESTUDO E PESQUISA</td>\n",
              "      <td>3510 - ACORDO DE PARCERIA LOCKTEC/FCPC/IFCE - ...</td>\n",
              "      <td>03/03/2020</td>\n",
              "      <td>1.100,00</td>\n",
              "      <td>2020</td>\n",
              "    </tr>\n",
              "    <tr>\n",
              "      <th>2</th>\n",
              "      <td>***.000.443-**</td>\n",
              "      <td>VIRGINIA XAVIER NUNES</td>\n",
              "      <td>BOLSA DE ESTUDO E PESQUISA</td>\n",
              "      <td>3510 - ACORDO DE PARCERIA LOCKTEC/FCPC/IFCE - ...</td>\n",
              "      <td>10/02/2020</td>\n",
              "      <td>1.100,00</td>\n",
              "      <td>2020</td>\n",
              "    </tr>\n",
              "    <tr>\n",
              "      <th>3</th>\n",
              "      <td>***.001.953-**</td>\n",
              "      <td>BIANCA MARIA DE MELO ALVES COELHO</td>\n",
              "      <td>RPA [P.FÍSICA]</td>\n",
              "      <td>3464 - TC. LG/UFC/FCPC - AVANTTE</td>\n",
              "      <td>06/03/2020</td>\n",
              "      <td>4.950,00</td>\n",
              "      <td>2020</td>\n",
              "    </tr>\n",
              "    <tr>\n",
              "      <th>4</th>\n",
              "      <td>***.002.393-**</td>\n",
              "      <td>GEISIANE FRANCA ALMEIDA</td>\n",
              "      <td>LIQUIDO DA FOLHA</td>\n",
              "      <td>3548 - TC. LENOVO/UFC/FCPC - LDE: LENOVO DIAGN...</td>\n",
              "      <td>22/04/2020</td>\n",
              "      <td>3.031,21</td>\n",
              "      <td>2020</td>\n",
              "    </tr>\n",
              "    <tr>\n",
              "      <th>...</th>\n",
              "      <td>...</td>\n",
              "      <td>...</td>\n",
              "      <td>...</td>\n",
              "      <td>...</td>\n",
              "      <td>...</td>\n",
              "      <td>...</td>\n",
              "      <td>...</td>\n",
              "    </tr>\n",
              "    <tr>\n",
              "      <th>239604</th>\n",
              "      <td>NÃO SE APLICA</td>\n",
              "      <td>JANAINA BACELO DE FIGUEIREDO</td>\n",
              "      <td>DIÁRIAS [PAGTO]</td>\n",
              "      <td>3460 - CT. UFC/FCPC - PARFOR 75/2018</td>\n",
              "      <td>28/08/2019</td>\n",
              "      <td>177,00</td>\n",
              "      <td>2019</td>\n",
              "    </tr>\n",
              "    <tr>\n",
              "      <th>239605</th>\n",
              "      <td>NÃO SE APLICA</td>\n",
              "      <td>JANAINA BACELO DE FIGUEIREDO</td>\n",
              "      <td>DIÁRIAS [PAGTO]</td>\n",
              "      <td>3460 - CT. UFC/FCPC - PARFOR 75/2018</td>\n",
              "      <td>21/08/2019</td>\n",
              "      <td>177,00</td>\n",
              "      <td>2019</td>\n",
              "    </tr>\n",
              "    <tr>\n",
              "      <th>239606</th>\n",
              "      <td>NÃO SE APLICA</td>\n",
              "      <td>JANAINA BACELO DE FIGUEIREDO</td>\n",
              "      <td>DIÁRIAS [PAGTO]</td>\n",
              "      <td>3460 - CT. UFC/FCPC - PARFOR 75/2018</td>\n",
              "      <td>14/08/2019</td>\n",
              "      <td>177,00</td>\n",
              "      <td>2019</td>\n",
              "    </tr>\n",
              "    <tr>\n",
              "      <th>239607</th>\n",
              "      <td>NÃO SE APLICA</td>\n",
              "      <td>JANAINA BACELO DE FIGUEIREDO</td>\n",
              "      <td>DIÁRIAS [PAGTO]</td>\n",
              "      <td>3460 - CT. UFC/FCPC - PARFOR 75/2018</td>\n",
              "      <td>01/08/2019</td>\n",
              "      <td>177,00</td>\n",
              "      <td>2019</td>\n",
              "    </tr>\n",
              "    <tr>\n",
              "      <th>239608</th>\n",
              "      <td>NÃO SE APLICA</td>\n",
              "      <td>JANAINA BACELO DE FIGUEIREDO</td>\n",
              "      <td>DIÁRIAS [PAGTO]</td>\n",
              "      <td>3460 - CT. UFC/FCPC - PARFOR 75/2018</td>\n",
              "      <td>28/06/2019</td>\n",
              "      <td>1.157,00</td>\n",
              "      <td>2019</td>\n",
              "    </tr>\n",
              "  </tbody>\n",
              "</table>\n",
              "<p>242299 rows × 7 columns</p>\n",
              "</div>"
            ],
            "text/plain": [
              "                   CPF                               NOME  ... VALOR (R$)   ano\n",
              "0       ***.000.443-**              VIRGINIA XAVIER NUNES  ...   1.100,00  2020\n",
              "1       ***.000.443-**              VIRGINIA XAVIER NUNES  ...   1.100,00  2020\n",
              "2       ***.000.443-**              VIRGINIA XAVIER NUNES  ...   1.100,00  2020\n",
              "3       ***.001.953-**  BIANCA MARIA DE MELO ALVES COELHO  ...   4.950,00  2020\n",
              "4       ***.002.393-**            GEISIANE FRANCA ALMEIDA  ...   3.031,21  2020\n",
              "...                ...                                ...  ...        ...   ...\n",
              "239604   NÃO SE APLICA       JANAINA BACELO DE FIGUEIREDO  ...     177,00  2019\n",
              "239605   NÃO SE APLICA       JANAINA BACELO DE FIGUEIREDO  ...     177,00  2019\n",
              "239606   NÃO SE APLICA       JANAINA BACELO DE FIGUEIREDO  ...     177,00  2019\n",
              "239607   NÃO SE APLICA       JANAINA BACELO DE FIGUEIREDO  ...     177,00  2019\n",
              "239608   NÃO SE APLICA       JANAINA BACELO DE FIGUEIREDO  ...   1.157,00  2019\n",
              "\n",
              "[242299 rows x 7 columns]"
            ]
          },
          "metadata": {
            "tags": []
          },
          "execution_count": 2
        }
      ]
    },
    {
      "cell_type": "code",
      "metadata": {
        "id": "2yFFvxnbp5CL",
        "colab_type": "code",
        "outputId": "d39b59f4-578c-45c6-d386-d471592be99d",
        "colab": {
          "base_uri": "https://localhost:8080/",
          "height": 297
        }
      },
      "source": [
        "#Tratando o valor\n",
        "df['valor_limpo'] = df['VALOR (R$)'].str.replace('.', '').str.replace(',', '.')\n",
        "#Convertendo para Numerico\n",
        "df['valor_numerico'] = pd.to_numeric(df['valor_limpo'])\n",
        "df.describe()"
      ],
      "execution_count": 3,
      "outputs": [
        {
          "output_type": "execute_result",
          "data": {
            "text/html": [
              "<div>\n",
              "<style scoped>\n",
              "    .dataframe tbody tr th:only-of-type {\n",
              "        vertical-align: middle;\n",
              "    }\n",
              "\n",
              "    .dataframe tbody tr th {\n",
              "        vertical-align: top;\n",
              "    }\n",
              "\n",
              "    .dataframe thead th {\n",
              "        text-align: right;\n",
              "    }\n",
              "</style>\n",
              "<table border=\"1\" class=\"dataframe\">\n",
              "  <thead>\n",
              "    <tr style=\"text-align: right;\">\n",
              "      <th></th>\n",
              "      <th>ano</th>\n",
              "      <th>valor_numerico</th>\n",
              "    </tr>\n",
              "  </thead>\n",
              "  <tbody>\n",
              "    <tr>\n",
              "      <th>count</th>\n",
              "      <td>$242,299.00</td>\n",
              "      <td>$242,299.00</td>\n",
              "    </tr>\n",
              "    <tr>\n",
              "      <th>mean</th>\n",
              "      <td>$2,011.44</td>\n",
              "      <td>$1,603.80</td>\n",
              "    </tr>\n",
              "    <tr>\n",
              "      <th>std</th>\n",
              "      <td>$4.92</td>\n",
              "      <td>$3,088.20</td>\n",
              "    </tr>\n",
              "    <tr>\n",
              "      <th>min</th>\n",
              "      <td>$2,002.00</td>\n",
              "      <td>$0.00</td>\n",
              "    </tr>\n",
              "    <tr>\n",
              "      <th>25%</th>\n",
              "      <td>$2,007.00</td>\n",
              "      <td>$180.00</td>\n",
              "    </tr>\n",
              "    <tr>\n",
              "      <th>50%</th>\n",
              "      <td>$2,012.00</td>\n",
              "      <td>$622.00</td>\n",
              "    </tr>\n",
              "    <tr>\n",
              "      <th>75%</th>\n",
              "      <td>$2,015.00</td>\n",
              "      <td>$2,000.00</td>\n",
              "    </tr>\n",
              "    <tr>\n",
              "      <th>max</th>\n",
              "      <td>$2,020.00</td>\n",
              "      <td>$328,428.65</td>\n",
              "    </tr>\n",
              "  </tbody>\n",
              "</table>\n",
              "</div>"
            ],
            "text/plain": [
              "              ano  valor_numerico\n",
              "count $242,299.00     $242,299.00\n",
              "mean    $2,011.44       $1,603.80\n",
              "std         $4.92       $3,088.20\n",
              "min     $2,002.00           $0.00\n",
              "25%     $2,007.00         $180.00\n",
              "50%     $2,012.00         $622.00\n",
              "75%     $2,015.00       $2,000.00\n",
              "max     $2,020.00     $328,428.65"
            ]
          },
          "metadata": {
            "tags": []
          },
          "execution_count": 3
        }
      ]
    },
    {
      "cell_type": "code",
      "metadata": {
        "id": "WzrnUhLdI4Np",
        "colab_type": "code",
        "outputId": "d854dee9-8ef2-4dca-e3f5-37ecae59b3f9",
        "colab": {
          "base_uri": "https://localhost:8080/",
          "height": 136
        }
      },
      "source": [
        "#Tratando a data\n",
        "#dmy_dt2 = datetime.strptime(date_str2, '%m/%d/%y') \n",
        "df['data_limpa'] = pd.to_datetime(df['DATA']) \n",
        "df['data_limpa'].describe()"
      ],
      "execution_count": 4,
      "outputs": [
        {
          "output_type": "execute_result",
          "data": {
            "text/plain": [
              "count                  242299\n",
              "unique                   4441\n",
              "top       2002-12-20 00:00:00\n",
              "freq                     2382\n",
              "first     2002-01-02 00:00:00\n",
              "last      2020-12-03 00:00:00\n",
              "Name: data_limpa, dtype: object"
            ]
          },
          "metadata": {
            "tags": []
          },
          "execution_count": 4
        }
      ]
    },
    {
      "cell_type": "markdown",
      "metadata": {
        "id": "unpchSzgCdZ6",
        "colab_type": "text"
      },
      "source": [
        "# Análise Total por Ano\n"
      ]
    },
    {
      "cell_type": "code",
      "metadata": {
        "id": "CuS1K3YSqNR8",
        "colab_type": "code",
        "outputId": "20abe6eb-a3ff-4cd5-e19a-6bd9f5890ff8",
        "colab": {
          "base_uri": "https://localhost:8080/",
          "height": 374
        }
      },
      "source": [
        "total_ano_df =  df.groupby('ano')['valor_numerico'].sum()\n",
        "total_ano_df"
      ],
      "execution_count": 5,
      "outputs": [
        {
          "output_type": "execute_result",
          "data": {
            "text/plain": [
              "ano\n",
              "2002   $17,675,191.56\n",
              "2003    $9,408,110.81\n",
              "2004   $10,082,756.28\n",
              "2005   $11,926,991.68\n",
              "2006   $16,814,320.76\n",
              "2007   $13,491,904.83\n",
              "2008    $9,027,475.89\n",
              "2009   $13,029,335.26\n",
              "2010   $28,027,584.68\n",
              "2011   $24,811,577.93\n",
              "2012   $23,927,559.13\n",
              "2013   $27,713,212.87\n",
              "2014   $35,337,048.72\n",
              "2015   $38,892,222.45\n",
              "2016   $30,550,019.40\n",
              "2017   $21,727,345.20\n",
              "2018   $26,781,705.72\n",
              "2019   $23,556,127.87\n",
              "2020    $5,817,808.41\n",
              "Name: valor_numerico, dtype: float64"
            ]
          },
          "metadata": {
            "tags": []
          },
          "execution_count": 5
        }
      ]
    },
    {
      "cell_type": "code",
      "metadata": {
        "id": "49THHIg42Uln",
        "colab_type": "code",
        "outputId": "ea23b481-3a3e-4d9a-9581-3688639e275a",
        "colab": {
          "base_uri": "https://localhost:8080/",
          "height": 305
        }
      },
      "source": [
        "total_ano_df.plot(kind='bar')\n",
        "plt.xticks(rotation=45)\n",
        "plt.ticklabel_format(axis=\"y\", style=\"sci\", scilimits=(6,6)) #Em milhões\n",
        "plt.show()"
      ],
      "execution_count": 6,
      "outputs": [
        {
          "output_type": "display_data",
          "data": {
            "image/png": "[encoded data removed]",
            "text/plain": [
              "<Figure size 432x288 with 1 Axes>"
            ]
          },
          "metadata": {
            "tags": [],
            "needs_background": "light"
          }
        }
      ]
    },
    {
      "cell_type": "markdown",
      "metadata": {
        "id": "eAvmpg75Fh0o",
        "colab_type": "text"
      },
      "source": [
        "## Análise Total por CPF"
      ]
    },
    {
      "cell_type": "code",
      "metadata": {
        "id": "9YXb9YdyFpfa",
        "colab_type": "code",
        "outputId": "8d4e73ca-5894-4173-9822-4cc83c865237",
        "colab": {
          "base_uri": "https://localhost:8080/",
          "height": 170
        }
      },
      "source": [
        "total_cpf_df =  df.groupby(['CPF', 'NOME'])['valor_numerico'].sum()\n",
        "total_cpf_df.describe()"
      ],
      "execution_count": 7,
      "outputs": [
        {
          "output_type": "execute_result",
          "data": {
            "text/plain": [
              "count      $28,339.00\n",
              "mean       $13,712.49\n",
              "std        $57,932.14\n",
              "min             $0.00\n",
              "25%           $285.72\n",
              "50%         $1,320.00\n",
              "75%         $6,000.00\n",
              "max     $1,624,238.71\n",
              "Name: valor_numerico, dtype: float64"
            ]
          },
          "metadata": {
            "tags": []
          },
          "execution_count": 7
        }
      ]
    },
    {
      "cell_type": "code",
      "metadata": {
        "id": "5WAp4AylG42M",
        "colab_type": "code",
        "outputId": "b01230f2-da53-4be6-e819-8823202430d3",
        "colab": {
          "base_uri": "https://localhost:8080/",
          "height": 391
        }
      },
      "source": [
        "total_cpf_top_20 = total_cpf_df.sort_values(ascending=False).head(20)\n",
        "total_cpf_top_20"
      ],
      "execution_count": 8,
      "outputs": [
        {
          "output_type": "execute_result",
          "data": {
            "text/plain": [
              "CPF             NOME                               \n",
              "***.488.873-**  ADRIANO CESAR PRADO CYSNE             $1,624,238.71\n",
              "***.966.093-**  FAUSTO NILO COSTA JUNIOR              $1,475,056.29\n",
              "***.374.043-**  DAMIAO CARNEIRO DE ALMEIDA            $1,401,243.11\n",
              "***.162.073-**  ANTONIO DE BARROS SERRA               $1,366,082.34\n",
              "***.775.263-**  JAVAM DE CASTRO MACHADO               $1,264,069.05\n",
              "***.774.083-**  RAQUEL DE MELO ROLIM                  $1,263,226.04\n",
              "***.096.683-**  MARCELO ARAUJO LIMA                   $1,212,615.61\n",
              "***.501.533-**  FRANCISCO RODRIGO PORTO CAVALCANTI    $1,190,588.69\n",
              "***.839.713-**  FRANCISCO EDUARDO ARAUJO SOARES       $1,175,651.56\n",
              "***.725.698-**  LEONILDO ADAO CHRISTOFOLETTI          $1,151,452.15\n",
              "***.311.163-**  LUIZ ROBERTO DE OLIVEIRA              $1,075,104.26\n",
              "***.541.043-**  MARCOS AURELIO FROTA VASCONCELOS      $1,056,103.62\n",
              "***.174.183-**  FRANCISCO VANILSON PINHEIRO LEITE     $1,050,733.77\n",
              "***.830.183-**  ROSSANA MARIA DE CASTRO ANDRADE       $1,040,057.06\n",
              "***.034.523-**  HELANO DE SOUSA CASTRO                $1,008,796.50\n",
              "***.262.273-**  JILSEPH LOPES DA SILVA                $1,002,998.06\n",
              "***.468.963-**  FRANCISCO SULIANO MESQUITA DE PAULA     $983,810.48\n",
              "***.577.653-**  NARODYNAIA DA COSTA RIBEIRO             $983,646.30\n",
              "***.402.813-**  ALYSSON BANDEIRA GURGEL                 $979,312.42\n",
              "***.219.163-**  DIEGO RODRIGUES TAVARES                 $972,584.72\n",
              "Name: valor_numerico, dtype: float64"
            ]
          },
          "metadata": {
            "tags": []
          },
          "execution_count": 8
        }
      ]
    },
    {
      "cell_type": "code",
      "metadata": {
        "id": "W6qmaVmEGaVn",
        "colab_type": "code",
        "outputId": "171ea973-8b2a-42d6-e307-d358142b83a3",
        "colab": {
          "base_uri": "https://localhost:8080/",
          "height": 579
        }
      },
      "source": [
        "total_cpf_top_20.plot(kind='bar')\n",
        "plt.ticklabel_format(axis=\"y\", style=\"sci\", scilimits=(3,3)) #Em milhares\n",
        "plt.show()"
      ],
      "execution_count": 9,
      "outputs": [
        {
          "output_type": "display_data",
          "data": {
            "image/png": "[encoded data removed]",
            "text/plain": [
              "<Figure size 432x288 with 1 Axes>"
            ]
          },
          "metadata": {
            "tags": [],
            "needs_background": "light"
          }
        }
      ]
    },
    {
      "cell_type": "code",
      "metadata": {
        "id": "oURP3uVWHgWw",
        "colab_type": "code",
        "outputId": "77e80016-3b9d-4dc2-c205-c4f418cd13a3",
        "colab": {
          "base_uri": "https://localhost:8080/",
          "height": 270
        }
      },
      "source": [
        "adriano_df = df[df['NOME'] == 'ADRIANO CESAR PRADO CYSNE'].sort_values('valor_numerico', ascending=False)\n",
        "adriano_df[['data_limpa', 'valor_numerico']].sort_values('data_limpa').plot(x='data_limpa', y='valor_numerico')\n",
        "plt.show()"
      ],
      "execution_count": 10,
      "outputs": [
        {
          "output_type": "display_data",
          "data": {
            "image/png": "[encoded data removed]",
            "text/plain": [
              "<Figure size 432x288 with 1 Axes>"
            ]
          },
          "metadata": {
            "tags": [],
            "needs_background": "light"
          }
        }
      ]
    },
    {
      "cell_type": "markdown",
      "metadata": {
        "id": "oGq8zq-4Lrgn",
        "colab_type": "text"
      },
      "source": [
        "## Análise Total de CPF por ano"
      ]
    },
    {
      "cell_type": "code",
      "metadata": {
        "id": "ehSu3_NaLvxw",
        "colab_type": "code",
        "outputId": "6318c8f0-b903-4a05-ecd5-75029ece83c6",
        "colab": {
          "base_uri": "https://localhost:8080/",
          "height": 170
        }
      },
      "source": [
        "total_cpf_ano_df =  df.groupby(['ano','CPF', 'NOME'])['valor_numerico'].sum()\n",
        "total_cpf_ano_df.describe()"
      ],
      "execution_count": 11,
      "outputs": [
        {
          "output_type": "execute_result",
          "data": {
            "text/plain": [
              "count    $63,551.00\n",
              "mean      $6,114.75\n",
              "std      $14,636.08\n",
              "min           $0.00\n",
              "25%         $360.00\n",
              "50%       $1,400.00\n",
              "75%       $5,027.52\n",
              "max     $733,043.14\n",
              "Name: valor_numerico, dtype: float64"
            ]
          },
          "metadata": {
            "tags": []
          },
          "execution_count": 11
        }
      ]
    },
    {
      "cell_type": "code",
      "metadata": {
        "id": "d0dJb86uL3L4",
        "colab_type": "code",
        "outputId": "51dc7c8b-0038-43ff-c9c2-ed3b9d9ba698",
        "colab": {
          "base_uri": "https://localhost:8080/",
          "height": 476
        }
      },
      "source": [
        "#total_cpf_ano_top_df = pd.Series(dtype='float64', name='valor_numerico')\n",
        "\n",
        "#Inicializar um Series com o mesmo template\n",
        "total_cpf_ano_top_df = total_cpf_ano_df.head(0)\n",
        "\n",
        "for ano in total_cpf_ano_df.index.levels[0]:\n",
        "  total_cpf_ano_top_df = total_cpf_ano_top_df.append(total_cpf_ano_df[total_cpf_ano_df.index.isin([f'{ano}'], level=0)].sort_values(ascending=False).head(5))\n",
        "\n",
        "lista_anos = [2016,2017,2018,2019,2020]\n",
        "total_cpf_ano_top_df[total_cpf_ano_top_df.index.isin(lista_anos, level=0)]"
      ],
      "execution_count": 12,
      "outputs": [
        {
          "output_type": "execute_result",
          "data": {
            "text/plain": [
              "ano   CPF             NOME                                  \n",
              "2016  ***.839.713-**  FRANCISCO EDUARDO ARAUJO SOARES          $442,608.42\n",
              "      ***.966.093-**  FAUSTO NILO COSTA JUNIOR                 $318,561.49\n",
              "      ***.725.698-**  LEONILDO ADAO CHRISTOFOLETTI             $295,587.39\n",
              "      ***.468.963-**  FRANCISCO SULIANO MESQUITA DE PAULA      $290,566.73\n",
              "      ***.140.963-**  FRANCISCO QUEIROZ D. NETO                $259,866.36\n",
              "2017  ***.162.073-**  ANTONIO DE BARROS SERRA                  $186,600.00\n",
              "      ***.541.043-**  MARCOS AURELIO FROTA  VASCONCELOS        $153,454.37\n",
              "      ***.060.703-**  ALBERTO JORGE PINTO NUNES                $141,090.37\n",
              "      ***.311.163-**  LUIZ ROBERTO DE OLIVEIRA                 $127,490.00\n",
              "      ***.774.083-**  RAQUEL DE MELO ROLIM                     $121,220.50\n",
              "2018  ***.966.093-**  FAUSTO NILO COSTA JUNIOR                 $603,416.80\n",
              "      ***.010.743-**  BRUNO BARROS LEAL DE CARVALHO FERREIRA   $343,558.86\n",
              "      ***.285.893-**  PEDRO ESDRAS FIGUEIREDO GUIMARAES        $343,311.20\n",
              "      ***.457.143-**  DELBERG PONCE DE LEON                    $263,720.83\n",
              "      ***.821.003-**  RODRIGO PONCE DE LEON                    $243,342.66\n",
              "2019  ***.437.873-**  AJALMAR REGO DA ROCHA NETO               $200,567.84\n",
              "      ***.162.073-**  ANTONIO DE BARROS SERRA                  $178,253.92\n",
              "      ***.407.953-**  ROMULO NASCIMENTO GARCIA                 $161,011.60\n",
              "      ***.003.533-**  JARBAS ARYEL NUNES DA SILVEIRA           $153,737.02\n",
              "      ***.541.043-**  MARCOS AURELIO FROTA  VASCONCELOS        $150,043.79\n",
              "2020  ***.206.183-**  ANTONIO SERGIO BEZERRA SOMBRA             $80,500.00\n",
              "      ***.616.743-**  VICTOR AUGUSTO MAIA MARTINS               $74,096.65\n",
              "      ***.407.953-**  ROMULO NASCIMENTO GARCIA                  $57,211.60\n",
              "      ***.481.883-**  ALEXANDRE DA SILVA RIBEIRO                $56,481.69\n",
              "      ***.993.513-**  NAIDA MARIA ROSA MONTENEGRO               $54,406.97\n",
              "Name: valor_numerico, dtype: float64"
            ]
          },
          "metadata": {
            "tags": []
          },
          "execution_count": 12
        }
      ]
    },
    {
      "cell_type": "markdown",
      "metadata": {
        "id": "Otzztud6orYD",
        "colab_type": "text"
      },
      "source": [
        "## Dispersão dos pagamentos"
      ]
    },
    {
      "cell_type": "code",
      "metadata": {
        "id": "f6BhZUXWowYQ",
        "colab_type": "code",
        "outputId": "cb2ef421-8932-4662-e2aa-f0079f38f920",
        "colab": {
          "base_uri": "https://localhost:8080/",
          "height": 351
        }
      },
      "source": [
        "import seaborn as sns\n",
        "sns.scatterplot(data=df, x=\"data_limpa\", y=\"valor_numerico\")"
      ],
      "execution_count": 13,
      "outputs": [
        {
          "output_type": "stream",
          "text": [
            "/usr/local/lib/python3.6/dist-packages/statsmodels/tools/_testing.py:19: FutureWarning: pandas.util.testing is deprecated. Use the functions in the public API at pandas.testing instead.\n",
            "  import pandas.util.testing as tm\n"
          ],
          "name": "stderr"
        },
        {
          "output_type": "execute_result",
          "data": {
            "text/plain": [
              "<matplotlib.axes._subplots.AxesSubplot at 0x7f18822ccb70>"
            ]
          },
          "metadata": {
            "tags": []
          },
          "execution_count": 13
        },
        {
          "output_type": "display_data",
          "data": {
            "image/png": "[encoded data removed]",
            "text/plain": [
              "<Figure size 432x288 with 1 Axes>"
            ]
          },
          "metadata": {
            "tags": [],
            "needs_background": "light"
          }
        }
      ]
    },
    {
      "cell_type": "code",
      "metadata": {
        "id": "p9Y_wqmYqj1P",
        "colab_type": "code",
        "outputId": "fa6307d4-7c17-465d-d055-e2a4a903f2af",
        "colab": {
          "base_uri": "https://localhost:8080/",
          "height": 1000
        }
      },
      "source": [
        "df.query('valor_numerico > 100000').sort_values('valor_numerico', ascending=False)"
      ],
      "execution_count": 14,
      "outputs": [
        {
          "output_type": "execute_result",
          "data": {
            "text/html": [
              "<div>\n",
              "<style scoped>\n",
              "    .dataframe tbody tr th:only-of-type {\n",
              "        vertical-align: middle;\n",
              "    }\n",
              "\n",
              "    .dataframe tbody tr th {\n",
              "        vertical-align: top;\n",
              "    }\n",
              "\n",
              "    .dataframe thead th {\n",
              "        text-align: right;\n",
              "    }\n",
              "</style>\n",
              "<table border=\"1\" class=\"dataframe\">\n",
              "  <thead>\n",
              "    <tr style=\"text-align: right;\">\n",
              "      <th></th>\n",
              "      <th>CPF</th>\n",
              "      <th>NOME</th>\n",
              "      <th>TIPO DE PAGAMENTO</th>\n",
              "      <th>PROJETO</th>\n",
              "      <th>DATA</th>\n",
              "      <th>VALOR (R$)</th>\n",
              "      <th>ano</th>\n",
              "      <th>valor_limpo</th>\n",
              "      <th>valor_numerico</th>\n",
              "      <th>data_limpa</th>\n",
              "    </tr>\n",
              "  </thead>\n",
              "  <tbody>\n",
              "    <tr>\n",
              "      <th>197852</th>\n",
              "      <td>***.839.713-**</td>\n",
              "      <td>FRANCISCO EDUARDO ARAUJO SOARES</td>\n",
              "      <td>RPA [P.FÍSICA]</td>\n",
              "      <td>3098 - CT. FCPC/IPLANFOR - PLANO ESTRATÉGICO F...</td>\n",
              "      <td>19/12/2016</td>\n",
              "      <td>328.428,65</td>\n",
              "      <td>2016</td>\n",
              "      <td>328428.65</td>\n",
              "      <td>$328,428.65</td>\n",
              "      <td>2016-12-19</td>\n",
              "    </tr>\n",
              "    <tr>\n",
              "      <th>193555</th>\n",
              "      <td>***.468.963-**</td>\n",
              "      <td>FRANCISCO SULIANO MESQUITA DE PAULA</td>\n",
              "      <td>RPA [P.FÍSICA]</td>\n",
              "      <td>3098 - CT. FCPC/IPLANFOR - PLANO ESTRATÉGICO F...</td>\n",
              "      <td>19/12/2016</td>\n",
              "      <td>212.758,81</td>\n",
              "      <td>2016</td>\n",
              "      <td>212758.81</td>\n",
              "      <td>$212,758.81</td>\n",
              "      <td>2016-12-19</td>\n",
              "    </tr>\n",
              "    <tr>\n",
              "      <th>199211</th>\n",
              "      <td>***.966.093-**</td>\n",
              "      <td>FAUSTO NILO COSTA JUNIOR</td>\n",
              "      <td>RPA [P.FÍSICA]</td>\n",
              "      <td>3098 - CT. FCPC/IPLANFOR - PLANO ESTRATÉGICO F...</td>\n",
              "      <td>19/12/2016</td>\n",
              "      <td>212.391,25</td>\n",
              "      <td>2016</td>\n",
              "      <td>212391.25</td>\n",
              "      <td>$212,391.25</td>\n",
              "      <td>2016-12-19</td>\n",
              "    </tr>\n",
              "    <tr>\n",
              "      <th>226382</th>\n",
              "      <td>***.966.093-**</td>\n",
              "      <td>FAUSTO NILO COSTA JUNIOR</td>\n",
              "      <td>RPA [P.FÍSICA]</td>\n",
              "      <td>3399 - CT.IPLANFOR/FCPC - FORTALEZA 2040 - PLA...</td>\n",
              "      <td>12/12/2018</td>\n",
              "      <td>192.114,46</td>\n",
              "      <td>2018</td>\n",
              "      <td>192114.46</td>\n",
              "      <td>$192,114.46</td>\n",
              "      <td>2018-12-12</td>\n",
              "    </tr>\n",
              "    <tr>\n",
              "      <th>189533</th>\n",
              "      <td>***.140.963-**</td>\n",
              "      <td>FRANCISCO QUEIROZ D. NETO</td>\n",
              "      <td>RPA [P.FÍSICA]</td>\n",
              "      <td>3098 - CT. FCPC/IPLANFOR - PLANO ESTRATÉGICO F...</td>\n",
              "      <td>19/12/2016</td>\n",
              "      <td>182.058,44</td>\n",
              "      <td>2016</td>\n",
              "      <td>182058.44</td>\n",
              "      <td>$182,058.44</td>\n",
              "      <td>2016-12-19</td>\n",
              "    </tr>\n",
              "    <tr>\n",
              "      <th>185005</th>\n",
              "      <td>***.839.713-**</td>\n",
              "      <td>FRANCISCO EDUARDO ARAUJO SOARES</td>\n",
              "      <td>RPA [P.FÍSICA]</td>\n",
              "      <td>3098 - CT - FCPC/IPLANFOR - PLANO ESTRATÉGICO ...</td>\n",
              "      <td>26/02/2015</td>\n",
              "      <td>154.874,13</td>\n",
              "      <td>2015</td>\n",
              "      <td>154874.13</td>\n",
              "      <td>$154,874.13</td>\n",
              "      <td>2015-02-26</td>\n",
              "    </tr>\n",
              "    <tr>\n",
              "      <th>178411</th>\n",
              "      <td>***.468.963-**</td>\n",
              "      <td>FRANCISCO SULIANO MESQUITA DE PAULA</td>\n",
              "      <td>RPA [P.FÍSICA]</td>\n",
              "      <td>3098 - CT - FCPC/IPLANFOR - PLANO ESTRATÉGICO ...</td>\n",
              "      <td>27/02/2015</td>\n",
              "      <td>150.095,24</td>\n",
              "      <td>2015</td>\n",
              "      <td>150095.24</td>\n",
              "      <td>$150,095.24</td>\n",
              "      <td>2015-02-27</td>\n",
              "    </tr>\n",
              "    <tr>\n",
              "      <th>190740</th>\n",
              "      <td>***.254.288-**</td>\n",
              "      <td>ALEXANDER DE SOUZA LARANJEIRA</td>\n",
              "      <td>RPA [P.FÍSICA]</td>\n",
              "      <td>3098 - CT. FCPC/IPLANFOR - PLANO ESTRATÉGICO F...</td>\n",
              "      <td>19/12/2016</td>\n",
              "      <td>129.695,70</td>\n",
              "      <td>2016</td>\n",
              "      <td>129695.70</td>\n",
              "      <td>$129,695.70</td>\n",
              "      <td>2016-12-19</td>\n",
              "    </tr>\n",
              "    <tr>\n",
              "      <th>193333</th>\n",
              "      <td>***.457.143-**</td>\n",
              "      <td>DELBERG PONCE DE LEON</td>\n",
              "      <td>RPA [P.FÍSICA]</td>\n",
              "      <td>3098 - CT. FCPC/IPLANFOR - PLANO ESTRATÉGICO F...</td>\n",
              "      <td>19/12/2016</td>\n",
              "      <td>120.608,89</td>\n",
              "      <td>2016</td>\n",
              "      <td>120608.89</td>\n",
              "      <td>$120,608.89</td>\n",
              "      <td>2016-12-19</td>\n",
              "    </tr>\n",
              "    <tr>\n",
              "      <th>197853</th>\n",
              "      <td>***.839.713-**</td>\n",
              "      <td>FRANCISCO EDUARDO ARAUJO SOARES</td>\n",
              "      <td>RPA [P.FÍSICA]</td>\n",
              "      <td>3098 - CT. FCPC/IPLANFOR - PLANO ESTRATÉGICO F...</td>\n",
              "      <td>17/06/2016</td>\n",
              "      <td>114.179,77</td>\n",
              "      <td>2016</td>\n",
              "      <td>114179.77</td>\n",
              "      <td>$114,179.77</td>\n",
              "      <td>2016-06-17</td>\n",
              "    </tr>\n",
              "    <tr>\n",
              "      <th>187369</th>\n",
              "      <td>***.966.093-**</td>\n",
              "      <td>FAUSTO NILO COSTA JUNIOR</td>\n",
              "      <td>RPA [P.FÍSICA]</td>\n",
              "      <td>3098 - CT - FCPC/IPLANFOR - PLANO ESTRATÉGICO ...</td>\n",
              "      <td>26/02/2015</td>\n",
              "      <td>114.030,63</td>\n",
              "      <td>2015</td>\n",
              "      <td>114030.63</td>\n",
              "      <td>$114,030.63</td>\n",
              "      <td>2015-02-26</td>\n",
              "    </tr>\n",
              "    <tr>\n",
              "      <th>184997</th>\n",
              "      <td>***.839.713-**</td>\n",
              "      <td>FRANCISCO EDUARDO ARAUJO SOARES</td>\n",
              "      <td>RPA [P.FÍSICA]</td>\n",
              "      <td>3098 - CT - FCPC/IPLANFOR - PLANO ESTRATÉGICO ...</td>\n",
              "      <td>28/12/2015</td>\n",
              "      <td>111.925,60</td>\n",
              "      <td>2015</td>\n",
              "      <td>111925.60</td>\n",
              "      <td>$111,925.60</td>\n",
              "      <td>2015-12-28</td>\n",
              "    </tr>\n",
              "    <tr>\n",
              "      <th>184998</th>\n",
              "      <td>***.839.713-**</td>\n",
              "      <td>FRANCISCO EDUARDO ARAUJO SOARES</td>\n",
              "      <td>RPA [P.FÍSICA]</td>\n",
              "      <td>3098 - CT. FCPC/IPLANFOR - PLANO ESTRATÉGICO F...</td>\n",
              "      <td>28/12/2015</td>\n",
              "      <td>111.925,60</td>\n",
              "      <td>2015</td>\n",
              "      <td>111925.60</td>\n",
              "      <td>$111,925.60</td>\n",
              "      <td>2015-12-28</td>\n",
              "    </tr>\n",
              "    <tr>\n",
              "      <th>191079</th>\n",
              "      <td>***.285.893-**</td>\n",
              "      <td>PEDRO ESDRAS FIGUEIREDO GUIMARAES</td>\n",
              "      <td>RPA [P.FÍSICA]</td>\n",
              "      <td>3098 - CT. FCPC/IPLANFOR - PLANO ESTRATÉGICO F...</td>\n",
              "      <td>19/12/2016</td>\n",
              "      <td>102.125,41</td>\n",
              "      <td>2016</td>\n",
              "      <td>102125.41</td>\n",
              "      <td>$102,125.41</td>\n",
              "      <td>2016-12-19</td>\n",
              "    </tr>\n",
              "  </tbody>\n",
              "</table>\n",
              "</div>"
            ],
            "text/plain": [
              "                   CPF  ... data_limpa\n",
              "197852  ***.839.713-**  ... 2016-12-19\n",
              "193555  ***.468.963-**  ... 2016-12-19\n",
              "199211  ***.966.093-**  ... 2016-12-19\n",
              "226382  ***.966.093-**  ... 2018-12-12\n",
              "189533  ***.140.963-**  ... 2016-12-19\n",
              "185005  ***.839.713-**  ... 2015-02-26\n",
              "178411  ***.468.963-**  ... 2015-02-27\n",
              "190740  ***.254.288-**  ... 2016-12-19\n",
              "193333  ***.457.143-**  ... 2016-12-19\n",
              "197853  ***.839.713-**  ... 2016-06-17\n",
              "187369  ***.966.093-**  ... 2015-02-26\n",
              "184997  ***.839.713-**  ... 2015-12-28\n",
              "184998  ***.839.713-**  ... 2015-12-28\n",
              "191079  ***.285.893-**  ... 2016-12-19\n",
              "\n",
              "[14 rows x 10 columns]"
            ]
          },
          "metadata": {
            "tags": []
          },
          "execution_count": 14
        }
      ]
    },
    {
      "cell_type": "markdown",
      "metadata": {
        "id": "OMJEMEoCrh7h",
        "colab_type": "text"
      },
      "source": [
        "## Análise por projeto"
      ]
    },
    {
      "cell_type": "code",
      "metadata": {
        "id": "MQggk-b2rnRk",
        "colab_type": "code",
        "outputId": "2b5b09bb-3381-4055-ffbe-c18e378421c4",
        "colab": {
          "base_uri": "https://localhost:8080/",
          "height": 391
        }
      },
      "source": [
        "total_projeto_s =  df.groupby(['PROJETO'])['valor_numerico'].sum()\n",
        "total_projeto_s.sort_values(ascending=False).head(20)"
      ],
      "execution_count": 25,
      "outputs": [
        {
          "output_type": "execute_result",
          "data": {
            "text/plain": [
              "PROJETO\n",
              "0101 - FCPC                                                                           $25,707,002.56\n",
              "1089 - RESCISAO CONTRATUAL                                                            $15,772,915.80\n",
              "2924 - CT - UFC/FCPC - IMPLANTACAO E OFERTA DOS CURSOS DE GRADUACAO DA UAB/UFC 2012    $8,885,282.87\n",
              "3098 - CT. FCPC/IPLANFOR - PLANO ESTRATÉGICO FORTALEZA 2040                            $5,688,787.35\n",
              "3143 - TC - LG/UFC/FCPC - MOBILE, TOOLS & CAS                                          $5,646,393.81\n",
              "2922 - CT - PETROBRAS - PROJETO AMBES                                                  $4,976,992.54\n",
              "3052 - TERMO DE COOPERACAO LG/UFC/FCPC - PT 12                                         $4,892,107.64\n",
              "3253 - TC. LG/UFC/FCPC - MOBILE, TOOLS & CAS                                           $4,375,447.20\n",
              "3053 - TERMO DE COOPERACAO LG/UFC/FCPC - PT 13                                         $3,855,831.70\n",
              "2955 - CV - LG/UFC/FCPC - PLANO DE TRABALHO 10                                         $3,306,582.37\n",
              "2208 - CT-FCPC/UFC - EDUCACAO NA SAUDE-UNASUS                                          $3,152,114.47\n",
              "1163 - CT SEDUC/UFC/FCPC-MAGISTERIO/LIC.PLENA                                          $3,128,112.47\n",
              "3098 - CT - FCPC/IPLANFOR - PLANO ESTRATÉGICO FORTALEZA 2040                           $3,115,891.68\n",
              "2427 - CV - HABITAFOR/FCPC - 01/2010                                                   $3,088,039.33\n",
              "3022 - CT.UFC/FCPC - CURSO DE ESPECIALIZAÇÃO EM SAUDE DA FAMILIA                       $3,074,029.49\n",
              "2807 - CV - LG/UFC/FCPC - PLANO DE TRABALHO 08                                         $2,984,541.33\n",
              "3464 - TC. LG/UFC/FCPC - AVANTTE                                                       $2,718,875.24\n",
              "2228 - CV -  PMF/FCPC - HABITAFOR                                                      $2,428,915.55\n",
              "3399 - CT.IPLANFOR/FCPC - FORTALEZA 2040 - PLANOS ESPECIFICOS                          $2,330,833.54\n",
              "2548 - CV - HABITAFOR 03/2010-PLANEJAMENTO E VIABILIZACAO DE PROJETOS                  $2,302,924.71\n",
              "Name: valor_numerico, dtype: float64"
            ]
          },
          "metadata": {
            "tags": []
          },
          "execution_count": 25
        }
      ]
    },
    {
      "cell_type": "code",
      "metadata": {
        "id": "x6gjiPLS6cTG",
        "colab_type": "code",
        "colab": {}
      },
      "source": [
        "total_projeto_df = total_projeto_s.to_frame()\n",
        "total_projeto_df = total_projeto_df.reset_index()"
      ],
      "execution_count": 0,
      "outputs": []
    },
    {
      "cell_type": "code",
      "metadata": {
        "id": "ZhzaHM4UBZto",
        "colab_type": "code",
        "colab": {
          "base_uri": "https://localhost:8080/",
          "height": 68
        },
        "outputId": "3b904c18-657a-4b77-a621-a6921e568a61"
      },
      "source": [
        "total_projeto_df.query(\"PROJETO.str.contains('IPLANFOR')\", engine='python').sum()"
      ],
      "execution_count": 43,
      "outputs": [
        {
          "output_type": "execute_result",
          "data": {
            "text/plain": [
              "PROJETO           3098 - CT - FCPC/IPLANFOR - PLANO ESTRATÉGICO ...\n",
              "valor_numerico                                       $11,851,091.85\n",
              "dtype: object"
            ]
          },
          "metadata": {
            "tags": []
          },
          "execution_count": 43
        }
      ]
    },
    {
      "cell_type": "code",
      "metadata": {
        "id": "vM5gkAIfC1o7",
        "colab_type": "code",
        "colab": {
          "base_uri": "https://localhost:8080/",
          "height": 68
        },
        "outputId": "b20d7125-adaf-4013-bcb4-d191134760c9"
      },
      "source": [
        "total_projeto_df.query(\"PROJETO.str.contains('HABITAFOR')\", engine='python').sum()"
      ],
      "execution_count": 49,
      "outputs": [
        {
          "output_type": "execute_result",
          "data": {
            "text/plain": [
              "PROJETO           1645 - CV - FCPC/HABITAFOR-F.HABIT.DE FORTALEZ...\n",
              "valor_numerico                                       $10,629,537.98\n",
              "dtype: object"
            ]
          },
          "metadata": {
            "tags": []
          },
          "execution_count": 49
        }
      ]
    },
    {
      "cell_type": "code",
      "metadata": {
        "id": "LVV4K9OUDO19",
        "colab_type": "code",
        "colab": {
          "base_uri": "https://localhost:8080/",
          "height": 1000
        },
        "outputId": "d0318f0a-f989-440c-af18-fbe89483ddae"
      },
      "source": [
        "df.dropna().query(\"PROJETO.str.contains('IPLANFOR')\", engine='python').sort_values('ano', ascending=False)"
      ],
      "execution_count": 53,
      "outputs": [
        {
          "output_type": "execute_result",
          "data": {
            "text/html": [
              "<div>\n",
              "<style scoped>\n",
              "    .dataframe tbody tr th:only-of-type {\n",
              "        vertical-align: middle;\n",
              "    }\n",
              "\n",
              "    .dataframe tbody tr th {\n",
              "        vertical-align: top;\n",
              "    }\n",
              "\n",
              "    .dataframe thead th {\n",
              "        text-align: right;\n",
              "    }\n",
              "</style>\n",
              "<table border=\"1\" class=\"dataframe\">\n",
              "  <thead>\n",
              "    <tr style=\"text-align: right;\">\n",
              "      <th></th>\n",
              "      <th>CPF</th>\n",
              "      <th>NOME</th>\n",
              "      <th>TIPO DE PAGAMENTO</th>\n",
              "      <th>PROJETO</th>\n",
              "      <th>DATA</th>\n",
              "      <th>VALOR (R$)</th>\n",
              "      <th>ano</th>\n",
              "      <th>valor_limpo</th>\n",
              "      <th>valor_numerico</th>\n",
              "      <th>data_limpa</th>\n",
              "    </tr>\n",
              "  </thead>\n",
              "  <tbody>\n",
              "    <tr>\n",
              "      <th>239101</th>\n",
              "      <td>***.958.373-**</td>\n",
              "      <td>MARIA ANDRADE LEITE</td>\n",
              "      <td>RPA [P.FÍSICA]</td>\n",
              "      <td>3365 - CT. IPLANFOR/FCPC - FORTALEZA 2040 - FA...</td>\n",
              "      <td>28/02/2019</td>\n",
              "      <td>3.050,00</td>\n",
              "      <td>2019</td>\n",
              "      <td>3050.00</td>\n",
              "      <td>$3,050.00</td>\n",
              "      <td>2019-02-28</td>\n",
              "    </tr>\n",
              "    <tr>\n",
              "      <th>231458</th>\n",
              "      <td>***.364.573-**</td>\n",
              "      <td>FRANCISCO CARLOS FALCAO JUNIOR</td>\n",
              "      <td>RPA [P.FÍSICA]</td>\n",
              "      <td>3365 - CT. IPLANFOR/FCPC - FORTALEZA 2040 - FA...</td>\n",
              "      <td>28/02/2019</td>\n",
              "      <td>3.050,00</td>\n",
              "      <td>2019</td>\n",
              "      <td>3050.00</td>\n",
              "      <td>$3,050.00</td>\n",
              "      <td>2019-02-28</td>\n",
              "    </tr>\n",
              "    <tr>\n",
              "      <th>227020</th>\n",
              "      <td>***.010.773-**</td>\n",
              "      <td>GABRIELLE DE OLIVEIRA SENA</td>\n",
              "      <td>RPA [P.FÍSICA]</td>\n",
              "      <td>3365 - CT. IPLANFOR/FCPC - FORTALEZA 2040 - FA...</td>\n",
              "      <td>08/05/2019</td>\n",
              "      <td>3.050,00</td>\n",
              "      <td>2019</td>\n",
              "      <td>3050.00</td>\n",
              "      <td>$3,050.00</td>\n",
              "      <td>2019-08-05</td>\n",
              "    </tr>\n",
              "    <tr>\n",
              "      <th>227021</th>\n",
              "      <td>***.010.773-**</td>\n",
              "      <td>GABRIELLE DE OLIVEIRA SENA</td>\n",
              "      <td>RPA [P.FÍSICA]</td>\n",
              "      <td>3365 - CT. IPLANFOR/FCPC - FORTALEZA 2040 - FA...</td>\n",
              "      <td>13/03/2019</td>\n",
              "      <td>3.050,00</td>\n",
              "      <td>2019</td>\n",
              "      <td>3050.00</td>\n",
              "      <td>$3,050.00</td>\n",
              "      <td>2019-03-13</td>\n",
              "    </tr>\n",
              "    <tr>\n",
              "      <th>228818</th>\n",
              "      <td>***.143.953-**</td>\n",
              "      <td>BRUNO CASELY CAVALCANTI MEDEIROS</td>\n",
              "      <td>RPA [P.FÍSICA]</td>\n",
              "      <td>3365 - CT. IPLANFOR/FCPC - FORTALEZA 2040 - FA...</td>\n",
              "      <td>12/04/2019</td>\n",
              "      <td>3.800,00</td>\n",
              "      <td>2019</td>\n",
              "      <td>3800.00</td>\n",
              "      <td>$3,800.00</td>\n",
              "      <td>2019-12-04</td>\n",
              "    </tr>\n",
              "    <tr>\n",
              "      <th>...</th>\n",
              "      <td>...</td>\n",
              "      <td>...</td>\n",
              "      <td>...</td>\n",
              "      <td>...</td>\n",
              "      <td>...</td>\n",
              "      <td>...</td>\n",
              "      <td>...</td>\n",
              "      <td>...</td>\n",
              "      <td>...</td>\n",
              "      <td>...</td>\n",
              "    </tr>\n",
              "    <tr>\n",
              "      <th>181591</th>\n",
              "      <td>***.632.373-**</td>\n",
              "      <td>SIMONE LOPES SOARES</td>\n",
              "      <td>RPA [P.FÍSICA]</td>\n",
              "      <td>3098 - CT - FCPC/IPLANFOR - PLANO ESTRATÉGICO ...</td>\n",
              "      <td>28/12/2015</td>\n",
              "      <td>2.810,87</td>\n",
              "      <td>2015</td>\n",
              "      <td>2810.87</td>\n",
              "      <td>$2,810.87</td>\n",
              "      <td>2015-12-28</td>\n",
              "    </tr>\n",
              "    <tr>\n",
              "      <th>181573</th>\n",
              "      <td>***.631.363-**</td>\n",
              "      <td>FRANCISCO DE ASSIS REBOUCAS BARBOSA</td>\n",
              "      <td>RPA [P.FÍSICA]</td>\n",
              "      <td>3098 - CT - FCPC/IPLANFOR - PLANO ESTRATÉGICO ...</td>\n",
              "      <td>23/09/2015</td>\n",
              "      <td>9.000,00</td>\n",
              "      <td>2015</td>\n",
              "      <td>9000.00</td>\n",
              "      <td>$9,000.00</td>\n",
              "      <td>2015-09-23</td>\n",
              "    </tr>\n",
              "    <tr>\n",
              "      <th>180908</th>\n",
              "      <td>***.590.773-**</td>\n",
              "      <td>ALBERTO MAGNO PEDIGAO SILVEIRA</td>\n",
              "      <td>RPA [P.FÍSICA]</td>\n",
              "      <td>3098 - CT - FCPC/IPLANFOR - PLANO ESTRATÉGICO ...</td>\n",
              "      <td>26/02/2015</td>\n",
              "      <td>24.600,00</td>\n",
              "      <td>2015</td>\n",
              "      <td>24600.00</td>\n",
              "      <td>$24,600.00</td>\n",
              "      <td>2015-02-26</td>\n",
              "    </tr>\n",
              "    <tr>\n",
              "      <th>180907</th>\n",
              "      <td>***.590.773-**</td>\n",
              "      <td>ALBERTO MAGNO PEDIGAO SILVEIRA</td>\n",
              "      <td>RPA [P.FÍSICA]</td>\n",
              "      <td>3098 - CT - FCPC/IPLANFOR - PLANO ESTRATÉGICO ...</td>\n",
              "      <td>11/05/2015</td>\n",
              "      <td>24.600,00</td>\n",
              "      <td>2015</td>\n",
              "      <td>24600.00</td>\n",
              "      <td>$24,600.00</td>\n",
              "      <td>2015-11-05</td>\n",
              "    </tr>\n",
              "    <tr>\n",
              "      <th>170056</th>\n",
              "      <td>***.008.193-**</td>\n",
              "      <td>LUCAS LOPES FERREIRA DE SOUZA</td>\n",
              "      <td>RPA [P.FÍSICA]</td>\n",
              "      <td>3098 - CT - FCPC/IPLANFOR - PLANO ESTRATÉGICO ...</td>\n",
              "      <td>23/11/2015</td>\n",
              "      <td>3.773,00</td>\n",
              "      <td>2015</td>\n",
              "      <td>3773.00</td>\n",
              "      <td>$3,773.00</td>\n",
              "      <td>2015-11-23</td>\n",
              "    </tr>\n",
              "  </tbody>\n",
              "</table>\n",
              "<p>694 rows × 10 columns</p>\n",
              "</div>"
            ],
            "text/plain": [
              "                   CPF  ... data_limpa\n",
              "239101  ***.958.373-**  ... 2019-02-28\n",
              "231458  ***.364.573-**  ... 2019-02-28\n",
              "227020  ***.010.773-**  ... 2019-08-05\n",
              "227021  ***.010.773-**  ... 2019-03-13\n",
              "228818  ***.143.953-**  ... 2019-12-04\n",
              "...                ...  ...        ...\n",
              "181591  ***.632.373-**  ... 2015-12-28\n",
              "181573  ***.631.363-**  ... 2015-09-23\n",
              "180908  ***.590.773-**  ... 2015-02-26\n",
              "180907  ***.590.773-**  ... 2015-11-05\n",
              "170056  ***.008.193-**  ... 2015-11-23\n",
              "\n",
              "[694 rows x 10 columns]"
            ]
          },
          "metadata": {
            "tags": []
          },
          "execution_count": 53
        }
      ]
    },
    {
      "cell_type": "markdown",
      "metadata": {
        "id": "U4EDD5pDEynk",
        "colab_type": "text"
      },
      "source": [
        "## Análise de Projetos por ANO"
      ]
    },
    {
      "cell_type": "code",
      "metadata": {
        "id": "Ke-hhENUE1-u",
        "colab_type": "code",
        "colab": {
          "base_uri": "https://localhost:8080/",
          "height": 391
        },
        "outputId": "d95cee80-7b11-49f6-b8cc-b83def413221"
      },
      "source": [
        "total_projeto_ano_s =  df.groupby(['ano','PROJETO'])['valor_numerico'].sum()\n",
        "total_projeto_ano_s.sort_values(ascending=False).head(20)"
      ],
      "execution_count": 56,
      "outputs": [
        {
          "output_type": "execute_result",
          "data": {
            "text/plain": [
              "ano   PROJETO                                                                            \n",
              "2016  3098 - CT. FCPC/IPLANFOR - PLANO ESTRATÉGICO FORTALEZA 2040                           $4,372,959.66\n",
              "2015  3098 - CT - FCPC/IPLANFOR - PLANO ESTRATÉGICO FORTALEZA 2040                          $3,115,891.68\n",
              "      0101 - FCPC                                                                           $3,092,884.39\n",
              "2010  2427 - CV - HABITAFOR/FCPC - 01/2010                                                  $3,088,039.33\n",
              "2015  3143 - TC - LG/UFC/FCPC - MOBILE, TOOLS & CAS                                         $2,883,220.45\n",
              "2019  0101 - FCPC                                                                           $2,683,636.87\n",
              "2016  3143 - TC - LG/UFC/FCPC - MOBILE, TOOLS & CAS                                         $2,671,920.41\n",
              "      0101 - FCPC                                                                           $2,591,622.69\n",
              "2009  2228 - CV -  PMF/FCPC - HABITAFOR                                                     $2,428,915.55\n",
              "2018  0101 - FCPC                                                                           $2,403,505.76\n",
              "2017  0101 - FCPC                                                                           $2,379,748.05\n",
              "2018  3399 - CT.IPLANFOR/FCPC - FORTALEZA 2040 - PLANOS ESPECIFICOS                         $2,330,833.54\n",
              "      3253 - TC. LG/UFC/FCPC - MOBILE, TOOLS & CAS                                          $2,236,907.33\n",
              "2015  2924 - CT - UFC/FCPC - IMPLANTACAO E OFERTA DOS CURSOS DE GRADUACAO DA UAB/UFC 2012   $2,166,975.70\n",
              "2014  3052 - TERMO DE COOPERACAO LG/UFC/FCPC - PT 12                                        $2,122,813.71\n",
              "2017  3253 - TC. LG/UFC/FCPC - MOBILE, TOOLS & CAS                                          $2,106,992.84\n",
              "2014  2922 - CT - PETROBRAS - PROJETO AMBES                                                 $2,106,160.04\n",
              "      0101 - FCPC                                                                           $2,075,066.11\n",
              "2016  1089 - RESCISAO CONTRATUAL                                                            $2,046,049.45\n",
              "2017  1089 - RESCISAO CONTRATUAL                                                            $2,009,390.45\n",
              "Name: valor_numerico, dtype: float64"
            ]
          },
          "metadata": {
            "tags": []
          },
          "execution_count": 56
        }
      ]
    },
    {
      "cell_type": "code",
      "metadata": {
        "id": "T7o-eZbZFDM3",
        "colab_type": "code",
        "colab": {}
      },
      "source": [
        "total_projeto_ano_df = total_projeto_ano_s.to_frame()\n",
        "total_projeto_ano_df = total_projeto_ano_df.reset_index()"
      ],
      "execution_count": 0,
      "outputs": []
    },
    {
      "cell_type": "code",
      "metadata": {
        "id": "CbF__iYtFHCP",
        "colab_type": "code",
        "colab": {
          "base_uri": "https://localhost:8080/",
          "height": 266
        },
        "outputId": "3f27274b-22cf-4e8a-a45f-cc2cb4bdd682"
      },
      "source": [
        "total_projeto_ano_df.query(\"PROJETO.str.contains('IPLANFOR')\", engine='python').sort_values('ano', ascending=False)"
      ],
      "execution_count": 64,
      "outputs": [
        {
          "output_type": "execute_result",
          "data": {
            "text/html": [
              "<div>\n",
              "<style scoped>\n",
              "    .dataframe tbody tr th:only-of-type {\n",
              "        vertical-align: middle;\n",
              "    }\n",
              "\n",
              "    .dataframe tbody tr th {\n",
              "        vertical-align: top;\n",
              "    }\n",
              "\n",
              "    .dataframe thead th {\n",
              "        text-align: right;\n",
              "    }\n",
              "</style>\n",
              "<table border=\"1\" class=\"dataframe\">\n",
              "  <thead>\n",
              "    <tr style=\"text-align: right;\">\n",
              "      <th></th>\n",
              "      <th>ano</th>\n",
              "      <th>PROJETO</th>\n",
              "      <th>valor_numerico</th>\n",
              "    </tr>\n",
              "  </thead>\n",
              "  <tbody>\n",
              "    <tr>\n",
              "      <th>4288</th>\n",
              "      <td>2019</td>\n",
              "      <td>3365 - CT. IPLANFOR/FCPC - FORTALEZA 2040 - FA...</td>\n",
              "      <td>$198,855.00</td>\n",
              "    </tr>\n",
              "    <tr>\n",
              "      <th>4158</th>\n",
              "      <td>2018</td>\n",
              "      <td>3365 - CT. IPLANFOR/FCPC - FORTALEZA 2040 - FA...</td>\n",
              "      <td>$516,724.28</td>\n",
              "    </tr>\n",
              "    <tr>\n",
              "      <th>4190</th>\n",
              "      <td>2018</td>\n",
              "      <td>3399 - CT.IPLANFOR/FCPC - FORTALEZA 2040 - PLA...</td>\n",
              "      <td>$2,330,833.54</td>\n",
              "    </tr>\n",
              "    <tr>\n",
              "      <th>3903</th>\n",
              "      <td>2017</td>\n",
              "      <td>3098 - CT. FCPC/IPLANFOR - PLANO ESTRATÉGICO F...</td>\n",
              "      <td>$130,177.64</td>\n",
              "    </tr>\n",
              "    <tr>\n",
              "      <th>3789</th>\n",
              "      <td>2016</td>\n",
              "      <td>3098 - CT. FCPC/IPLANFOR - PLANO ESTRATÉGICO F...</td>\n",
              "      <td>$4,372,959.66</td>\n",
              "    </tr>\n",
              "    <tr>\n",
              "      <th>3677</th>\n",
              "      <td>2015</td>\n",
              "      <td>3098 - CT - FCPC/IPLANFOR - PLANO ESTRATÉGICO ...</td>\n",
              "      <td>$3,115,891.68</td>\n",
              "    </tr>\n",
              "    <tr>\n",
              "      <th>3678</th>\n",
              "      <td>2015</td>\n",
              "      <td>3098 - CT. FCPC/IPLANFOR - PLANO ESTRATÉGICO F...</td>\n",
              "      <td>$1,185,650.05</td>\n",
              "    </tr>\n",
              "  </tbody>\n",
              "</table>\n",
              "</div>"
            ],
            "text/plain": [
              "       ano                                            PROJETO  valor_numerico\n",
              "4288  2019  3365 - CT. IPLANFOR/FCPC - FORTALEZA 2040 - FA...     $198,855.00\n",
              "4158  2018  3365 - CT. IPLANFOR/FCPC - FORTALEZA 2040 - FA...     $516,724.28\n",
              "4190  2018  3399 - CT.IPLANFOR/FCPC - FORTALEZA 2040 - PLA...   $2,330,833.54\n",
              "3903  2017  3098 - CT. FCPC/IPLANFOR - PLANO ESTRATÉGICO F...     $130,177.64\n",
              "3789  2016  3098 - CT. FCPC/IPLANFOR - PLANO ESTRATÉGICO F...   $4,372,959.66\n",
              "3677  2015  3098 - CT - FCPC/IPLANFOR - PLANO ESTRATÉGICO ...   $3,115,891.68\n",
              "3678  2015  3098 - CT. FCPC/IPLANFOR - PLANO ESTRATÉGICO F...   $1,185,650.05"
            ]
          },
          "metadata": {
            "tags": []
          },
          "execution_count": 64
        }
      ]
    }
  ]
}