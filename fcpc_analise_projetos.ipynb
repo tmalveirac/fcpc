{
  "nbformat": 4,
  "nbformat_minor": 0,
  "metadata": {
    "colab": {
      "name": "fcpc_analise_projetos.ipynb",
      "provenance": [],
      "collapsed_sections": [],
      "authorship_tag": "ABX9TyOZ07xQ/Zk9UquG1iY+cLsd",
      "include_colab_link": true
    },
    "kernelspec": {
      "name": "python3",
      "display_name": "Python 3"
    }
  },
  "cells": [
    {
      "cell_type": "markdown",
      "metadata": {
        "id": "view-in-github",
        "colab_type": "text"
      },
      "source": [
        "<a href=\"https://colab.research.google.com/github/tmalveirac/fcpc/blob/master/fcpc_analise_projetos.ipynb\" target=\"_parent\"><img src=\"https://colab.research.google.com/assets/colab-badge.svg\" alt=\"Open In Colab\"/></a>"
      ]
    },
    {
      "cell_type": "markdown",
      "metadata": {
        "id": "tvJD_FYNJ47J",
        "colab_type": "text"
      },
      "source": [
        "## Análise projetos FCPC - Fundação Cearense de Pesequisa e Cultura - CNPJ 05.330.436/0001-62\n",
        "\n",
        "FCPF é uma Fundação privada - Fundação de Apoio a Universidade Federal do Ceará - UFC\n",
        "\n",
        "CNAE principal: Atividades de apoio à educação, exceto caixas escolares\n",
        "CNAEs Secundários: Atividades de rádio\n",
        "\n",
        "Fonte: RFB\n",
        "\n",
        "Estatuto FCPC: http://www.fcpc.ufc.br/Content/documentos/estatuto_fcpc_v1.pdf\n",
        "\n",
        "Estatuto UFC: http://www.ufc.br/images/_files/a_universidade/estatuto_ufc/estatuto_ufc.pdf"
      ]
    },
    {
      "cell_type": "code",
      "metadata": {
        "id": "qPs8Y0yAMEaA",
        "colab_type": "code",
        "colab": {}
      },
      "source": [
        "import pandas as pd\n",
        "import matplotlib.pyplot as plt\n",
        "from datetime import datetime  \n",
        "plt.rcParams['figure.figsize'] = (20,7)\n",
        "pd.set_option('display.float_format', '{:.2f}'.format)\n",
        "pd.options.display.float_format = '${:,.2f}'.format\n",
        "pd.options.display.max_colwidth = 100"
      ],
      "execution_count": 0,
      "outputs": []
    },
    {
      "cell_type": "code",
      "metadata": {
        "id": "VFZveR25NflG",
        "colab_type": "code",
        "colab": {}
      },
      "source": [
        "#Carregando Dados - Pagamentos pessoa física 2002-2020\n",
        "df_2020 = pd.read_csv('/content/2020.csv')\n",
        "df_2020['ano'] = 2020\n",
        "df_2002_2019 = pd.read_csv('/content/fcpc_despesas_pf_2002_2019.csv')\n",
        "pf_df = df_2020.append(df_2002_2019)\n",
        "pf_df['tipo'] = 'PF'"
      ],
      "execution_count": 0,
      "outputs": []
    },
    {
      "cell_type": "code",
      "metadata": {
        "id": "1APHi5TiNhyu",
        "colab_type": "code",
        "outputId": "704873d4-1567-4fe9-bb35-7a010939e615",
        "colab": {
          "base_uri": "https://localhost:8080/",
          "height": 297
        }
      },
      "source": [
        "#Tratando o valor\n",
        "pf_df['valor_limpo'] = pf_df['VALOR (R$)'].str.replace('.', '').str.replace(',', '.')\n",
        "#Convertendo para Numerico\n",
        "pf_df['valor_numerico'] = pd.to_numeric(pf_df['valor_limpo'])\n",
        "pf_df['data_limpa'] = pd.to_datetime(pf_df['DATA']) \n",
        "pf_df.describe()"
      ],
      "execution_count": 0,
      "outputs": [
        {
          "output_type": "execute_result",
          "data": {
            "text/html": [
              "<div>\n",
              "<style scoped>\n",
              "    .dataframe tbody tr th:only-of-type {\n",
              "        vertical-align: middle;\n",
              "    }\n",
              "\n",
              "    .dataframe tbody tr th {\n",
              "        vertical-align: top;\n",
              "    }\n",
              "\n",
              "    .dataframe thead th {\n",
              "        text-align: right;\n",
              "    }\n",
              "</style>\n",
              "<table border=\"1\" class=\"dataframe\">\n",
              "  <thead>\n",
              "    <tr style=\"text-align: right;\">\n",
              "      <th></th>\n",
              "      <th>ano</th>\n",
              "      <th>valor_numerico</th>\n",
              "    </tr>\n",
              "  </thead>\n",
              "  <tbody>\n",
              "    <tr>\n",
              "      <th>count</th>\n",
              "      <td>$242,299.00</td>\n",
              "      <td>$242,299.00</td>\n",
              "    </tr>\n",
              "    <tr>\n",
              "      <th>mean</th>\n",
              "      <td>$2,011.44</td>\n",
              "      <td>$1,603.80</td>\n",
              "    </tr>\n",
              "    <tr>\n",
              "      <th>std</th>\n",
              "      <td>$4.92</td>\n",
              "      <td>$3,088.20</td>\n",
              "    </tr>\n",
              "    <tr>\n",
              "      <th>min</th>\n",
              "      <td>$2,002.00</td>\n",
              "      <td>$0.00</td>\n",
              "    </tr>\n",
              "    <tr>\n",
              "      <th>25%</th>\n",
              "      <td>$2,007.00</td>\n",
              "      <td>$180.00</td>\n",
              "    </tr>\n",
              "    <tr>\n",
              "      <th>50%</th>\n",
              "      <td>$2,012.00</td>\n",
              "      <td>$622.00</td>\n",
              "    </tr>\n",
              "    <tr>\n",
              "      <th>75%</th>\n",
              "      <td>$2,015.00</td>\n",
              "      <td>$2,000.00</td>\n",
              "    </tr>\n",
              "    <tr>\n",
              "      <th>max</th>\n",
              "      <td>$2,020.00</td>\n",
              "      <td>$328,428.65</td>\n",
              "    </tr>\n",
              "  </tbody>\n",
              "</table>\n",
              "</div>"
            ],
            "text/plain": [
              "              ano  valor_numerico\n",
              "count $242,299.00     $242,299.00\n",
              "mean    $2,011.44       $1,603.80\n",
              "std         $4.92       $3,088.20\n",
              "min     $2,002.00           $0.00\n",
              "25%     $2,007.00         $180.00\n",
              "50%     $2,012.00         $622.00\n",
              "75%     $2,015.00       $2,000.00\n",
              "max     $2,020.00     $328,428.65"
            ]
          },
          "metadata": {
            "tags": []
          },
          "execution_count": 146
        }
      ]
    },
    {
      "cell_type": "code",
      "metadata": {
        "id": "dVnxlIU6cXPp",
        "colab_type": "code",
        "colab": {}
      },
      "source": [
        "# Carregando Dados - Pagamentos Pessoa Jurídica\n",
        "pj_df = pd.read_csv('/content/fcpc_despesas_pj_2010_2019.csv')\n",
        "pj_df['tipo'] = 'PJ'\n",
        "pj_df['TIPO DE PAGAMENTO'] = 'NAO INFORMADO'"
      ],
      "execution_count": 0,
      "outputs": []
    },
    {
      "cell_type": "code",
      "metadata": {
        "id": "JCCBlNoAdDjL",
        "colab_type": "code",
        "outputId": "822333da-f4cf-482e-f7d4-6325958cf002",
        "colab": {
          "base_uri": "https://localhost:8080/",
          "height": 297
        }
      },
      "source": [
        "#Tratando o valor\n",
        "pj_df['valor_limpo'] = pj_df['VALOR (R$)'].str.replace('.', '').str.replace(',', '.')\n",
        "#Convertendo para Numerico\n",
        "pj_df['valor_numerico'] = pd.to_numeric(pj_df['valor_limpo'])\n",
        "#Tratando a data\n",
        "pj_df['data_limpa'] = pd.to_datetime(pj_df['DATA']) \n",
        "pj_df.describe()"
      ],
      "execution_count": 0,
      "outputs": [
        {
          "output_type": "execute_result",
          "data": {
            "text/html": [
              "<div>\n",
              "<style scoped>\n",
              "    .dataframe tbody tr th:only-of-type {\n",
              "        vertical-align: middle;\n",
              "    }\n",
              "\n",
              "    .dataframe tbody tr th {\n",
              "        vertical-align: top;\n",
              "    }\n",
              "\n",
              "    .dataframe thead th {\n",
              "        text-align: right;\n",
              "    }\n",
              "</style>\n",
              "<table border=\"1\" class=\"dataframe\">\n",
              "  <thead>\n",
              "    <tr style=\"text-align: right;\">\n",
              "      <th></th>\n",
              "      <th>ano</th>\n",
              "      <th>valor_numerico</th>\n",
              "    </tr>\n",
              "  </thead>\n",
              "  <tbody>\n",
              "    <tr>\n",
              "      <th>count</th>\n",
              "      <td>$100,155.00</td>\n",
              "      <td>$100,155.00</td>\n",
              "    </tr>\n",
              "    <tr>\n",
              "      <th>mean</th>\n",
              "      <td>$2,014.82</td>\n",
              "      <td>$3,099.62</td>\n",
              "    </tr>\n",
              "    <tr>\n",
              "      <th>std</th>\n",
              "      <td>$3.14</td>\n",
              "      <td>$22,853.43</td>\n",
              "    </tr>\n",
              "    <tr>\n",
              "      <th>min</th>\n",
              "      <td>$2,010.00</td>\n",
              "      <td>$0.00</td>\n",
              "    </tr>\n",
              "    <tr>\n",
              "      <th>25%</th>\n",
              "      <td>$2,012.00</td>\n",
              "      <td>$115.81</td>\n",
              "    </tr>\n",
              "    <tr>\n",
              "      <th>50%</th>\n",
              "      <td>$2,015.00</td>\n",
              "      <td>$422.00</td>\n",
              "    </tr>\n",
              "    <tr>\n",
              "      <th>75%</th>\n",
              "      <td>$2,018.00</td>\n",
              "      <td>$1,395.89</td>\n",
              "    </tr>\n",
              "    <tr>\n",
              "      <th>max</th>\n",
              "      <td>$2,019.00</td>\n",
              "      <td>$2,608,328.00</td>\n",
              "    </tr>\n",
              "  </tbody>\n",
              "</table>\n",
              "</div>"
            ],
            "text/plain": [
              "              ano  valor_numerico\n",
              "count $100,155.00     $100,155.00\n",
              "mean    $2,014.82       $3,099.62\n",
              "std         $3.14      $22,853.43\n",
              "min     $2,010.00           $0.00\n",
              "25%     $2,012.00         $115.81\n",
              "50%     $2,015.00         $422.00\n",
              "75%     $2,018.00       $1,395.89\n",
              "max     $2,019.00   $2,608,328.00"
            ]
          },
          "metadata": {
            "tags": []
          },
          "execution_count": 79
        }
      ]
    },
    {
      "cell_type": "code",
      "metadata": {
        "id": "zTa2drOTdKNg",
        "colab_type": "code",
        "colab": {}
      },
      "source": [
        "#Tratamento para igualar layout PF e PJ para realizar o append\n",
        "pj_df = pj_df.rename({'CNPJ': 'CPF_CNPJ'}, axis='columns')\n",
        "pf_df = pf_df.rename({'CPF': 'CPF_CNPJ'}, axis='columns')\n",
        "pj_df = pj_df[['tipo', 'CPF_CNPJ', 'NOME', 'TIPO DE PAGAMENTO', 'PROJETO', 'DATA', 'VALOR (R$)', 'ano',\n",
        "       'valor_limpo', 'valor_numerico', 'data_limpa']]\n",
        "pf_df = pf_df[['tipo', 'CPF_CNPJ', 'NOME', 'TIPO DE PAGAMENTO', 'PROJETO', 'DATA', 'VALOR (R$)', 'ano',\n",
        "       'valor_limpo', 'valor_numerico', 'data_limpa']]\n",
        "df = pf_df.append(pj_df)"
      ],
      "execution_count": 0,
      "outputs": []
    },
    {
      "cell_type": "markdown",
      "metadata": {
        "id": "C5gL2J1cgDbC",
        "colab_type": "text"
      },
      "source": [
        "## Análise PJ"
      ]
    },
    {
      "cell_type": "code",
      "metadata": {
        "id": "xKDSJ5YDhjWr",
        "colab_type": "code",
        "outputId": "5bd85815-18e0-461f-9e95-3eaee6e71c7e",
        "colab": {
          "base_uri": "https://localhost:8080/",
          "height": 476
        }
      },
      "source": [
        " #25 PJ que mais receberam pagamentos da FCPC\n",
        " total_pj_s = df.query('tipo == \"PJ\"').groupby(['CPF_CNPJ','NOME'])['valor_numerico'].sum()\n",
        " total_pj_s.sort_values(ascending=False).head(25)"
      ],
      "execution_count": 0,
      "outputs": [
        {
          "output_type": "execute_result",
          "data": {
            "text/plain": [
              "CPF_CNPJ            NOME                                         \n",
              "***.10.485/****-48  CONSTRUTORA PLATO LTDA - ME                     $13,954,579.14\n",
              "***.11.739/****-04  NAJA TURISMO LTDA                               $13,258,909.60\n",
              "***.29.979/****-40  INSS - INSTITUTO NACIONAL DO SEGURO SOCIAL      $11,252,708.29\n",
              "***.05.868/****-07  UNIMED FORTALEZA                                $10,336,962.75\n",
              "***.69.034/****-56  SODEXO PASS DO BRASIL SERVICOS E COMERCIO S.A    $9,933,293.22\n",
              "***.05.952/****-82  BIOTEC SOLUCAO AMBIENTAL INDUS                   $8,769,918.11\n",
              "***.69.034/****-32  SODEXHO PASS DO BRASIL SERVICO                   $5,866,479.99\n",
              "***.05.467/****-92  ESFERA COMERCIO E SERVICO LTDA                   $5,313,362.84\n",
              "***.06.246/****-26  JLJ CONSTRUCAO REPRES. LTDA                      $4,717,262.10\n",
              "***.09.675/****-80  CENTRAL DE NEGOCIOS COM. DE EQ                   $3,484,183.68\n",
              "***.09.500/****-26  TEBAS CONSTRUCOES E COMERCIO L                   $3,400,463.53\n",
              "***.03.050/****-23  CENTRO DE ESTAGIO                                $3,358,843.12\n",
              "***.61.600/****-55  CENTRO DE INTEGRACAO EMPRESA-E                   $3,241,502.40\n",
              "***.05.684/****-03  FIT FLEXTRONICS INSTITUTO DE T                   $3,141,751.72\n",
              "NÃO SE APLICA       NEW ROUTE, INC.                                  $2,944,629.23\n",
              "***.05.330/****-62  Y CORPORATION OF AMERICA, INC                    $2,773,410.36\n",
              "***.13.063/****-02  HORLEANS ROSA COSTA (HC EVENTO                   $2,707,731.08\n",
              "***.07.084/****-78  IEL - INSTITUTO EUVALDO LODI                     $2,692,940.74\n",
              "***.05.330/****-62  FUNDACAO CEARENSE DE PESQUISA E CULTURA          $2,565,630.38\n",
              "***.00.565/****-19  VAP CONSTRUCOES                                  $2,563,480.00\n",
              "***.00.360/****-04  CAIXA ECONOMICA FEDERAL                          $2,548,238.38\n",
              "***.00.796/****-03  AM FEIJAO DE MENESES (COMPUTER                   $2,542,694.07\n",
              "***.16.417/****-21  RS TURISMO E EVENTOS LTDA                        $2,511,199.74\n",
              "***.07.789/****-62  R P E ASSESSORIA E CONSULTORIA                   $2,444,707.20\n",
              "***.29.979/****-19  INSTITUTO NACIONAL DO SEGURO S                   $2,165,510.25\n",
              "Name: valor_numerico, dtype: float64"
            ]
          },
          "metadata": {
            "tags": []
          },
          "execution_count": 92
        }
      ]
    },
    {
      "cell_type": "markdown",
      "metadata": {
        "id": "blFZNarP5zIL",
        "colab_type": "text"
      },
      "source": [
        "A primeira da lista possui como sócio-administrador: MARIA ILMA MAGALHAES SILVEIRA PINHEIRO LANDIM, citada em denúncia do MPF (http://www.mpf.mp.br/pgr/documentos/denuncia-no-inquerito-3984)\n"
      ]
    },
    {
      "cell_type": "code",
      "metadata": {
        "id": "TiMcy-JVFVBp",
        "colab_type": "code",
        "outputId": "cdc96c72-fc46-4357-81bf-f0b47d8092c1",
        "colab": {
          "base_uri": "https://localhost:8080/",
          "height": 662
        }
      },
      "source": [
        "total_pj_s.sort_values(ascending=False).head(10).plot(kind='bar')\n",
        "plt.ticklabel_format(axis=\"y\", style=\"sci\", scilimits=(3,3)) #Em milhares\n",
        "plt.show()"
      ],
      "execution_count": 0,
      "outputs": [
        {
          "output_type": "display_data",
          "data": {
            "image/png": "[encoded data removed]",
            "text/plain": [
              "<Figure size 1440x504 with 1 Axes>"
            ]
          },
          "metadata": {
            "tags": [],
            "needs_background": "light"
          }
        }
      ]
    },
    {
      "cell_type": "markdown",
      "metadata": {
        "id": "bjj6Tb9P8kIh",
        "colab_type": "text"
      },
      "source": [
        "## Análise PF"
      ]
    },
    {
      "cell_type": "code",
      "metadata": {
        "id": "VAq7aDs38nx0",
        "colab_type": "code",
        "outputId": "84acab3e-5b53-48e1-d853-b3d638e15e88",
        "colab": {
          "base_uri": "https://localhost:8080/",
          "height": 476
        }
      },
      "source": [
        "#25 PF que mais receberam pagamentos da FCPC\n",
        "total_pf_s =  df.query(\"tipo == 'PF'\").groupby(['CPF_CNPJ', 'NOME'])['valor_numerico'].sum()\n",
        "total_pf_s.sort_values(ascending=False).head(25)"
      ],
      "execution_count": 0,
      "outputs": [
        {
          "output_type": "execute_result",
          "data": {
            "text/plain": [
              "CPF_CNPJ        NOME                               \n",
              "***.488.873-**  ADRIANO CESAR PRADO CYSNE             $1,624,238.71\n",
              "***.966.093-**  FAUSTO NILO COSTA JUNIOR              $1,475,056.29\n",
              "***.374.043-**  DAMIAO CARNEIRO DE ALMEIDA            $1,401,243.11\n",
              "***.162.073-**  ANTONIO DE BARROS SERRA               $1,366,082.34\n",
              "***.775.263-**  JAVAM DE CASTRO MACHADO               $1,264,069.05\n",
              "***.774.083-**  RAQUEL DE MELO ROLIM                  $1,263,226.04\n",
              "***.096.683-**  MARCELO ARAUJO LIMA                   $1,212,615.61\n",
              "***.501.533-**  FRANCISCO RODRIGO PORTO CAVALCANTI    $1,190,588.69\n",
              "***.839.713-**  FRANCISCO EDUARDO ARAUJO SOARES       $1,175,651.56\n",
              "***.725.698-**  LEONILDO ADAO CHRISTOFOLETTI          $1,151,452.15\n",
              "***.311.163-**  LUIZ ROBERTO DE OLIVEIRA              $1,075,104.26\n",
              "***.541.043-**  MARCOS AURELIO FROTA VASCONCELOS      $1,056,103.62\n",
              "***.174.183-**  FRANCISCO VANILSON PINHEIRO LEITE     $1,050,733.77\n",
              "***.830.183-**  ROSSANA MARIA DE CASTRO ANDRADE       $1,040,057.06\n",
              "***.034.523-**  HELANO DE SOUSA CASTRO                $1,008,796.50\n",
              "***.262.273-**  JILSEPH LOPES DA SILVA                $1,002,998.06\n",
              "***.468.963-**  FRANCISCO SULIANO MESQUITA DE PAULA     $983,810.48\n",
              "***.577.653-**  NARODYNAIA DA COSTA RIBEIRO             $983,646.30\n",
              "***.402.813-**  ALYSSON BANDEIRA GURGEL                 $979,312.42\n",
              "***.219.163-**  DIEGO RODRIGUES TAVARES                 $972,584.72\n",
              "***.809.033-**  CLAUDIO ROBERTO FLORENCIO LIMA          $947,210.66\n",
              "***.616.543-**  BRUNO SABOIA ARAGAO                     $945,182.19\n",
              "***.206.183-**  ANTONIO SERGIO BEZERRA SOMBRA           $932,546.75\n",
              "***.832.163-**  JOSE IVAN FERREIRA LUZ                  $928,281.68\n",
              "***.216.183-**  RICARDO JARDEL NUNES DA SILVEIRA        $918,636.62\n",
              "Name: valor_numerico, dtype: float64"
            ]
          },
          "metadata": {
            "tags": []
          },
          "execution_count": 96
        }
      ]
    },
    {
      "cell_type": "code",
      "metadata": {
        "id": "LrjLSp-qMeWO",
        "colab_type": "code",
        "outputId": "419d5467-d047-4471-97ff-3949f7b7b6d3",
        "colab": {
          "base_uri": "https://localhost:8080/",
          "height": 605
        }
      },
      "source": [
        "total_pf_s.sort_values(ascending=False).head(10).plot(kind='bar')\n",
        "plt.ticklabel_format(axis=\"y\", style=\"sci\", scilimits=(3,3)) #Em milhares\n",
        "plt.show()"
      ],
      "execution_count": 0,
      "outputs": [
        {
          "output_type": "display_data",
          "data": {
            "image/png": "[encoded data removed]",
            "text/plain": [
              "<Figure size 1440x504 with 1 Axes>"
            ]
          },
          "metadata": {
            "tags": [],
            "needs_background": "light"
          }
        }
      ]
    },
    {
      "cell_type": "markdown",
      "metadata": {
        "id": "g_fLJHYO9Ms5",
        "colab_type": "text"
      },
      "source": [
        "## Análise por Projeto"
      ]
    },
    {
      "cell_type": "code",
      "metadata": {
        "id": "Fwkd6VlO9PVC",
        "colab_type": "code",
        "outputId": "08014732-a5ad-424e-f76e-7dec7d36c6c2",
        "colab": {
          "base_uri": "https://localhost:8080/",
          "height": 476
        }
      },
      "source": [
        "#25 projetos com maior custo da FCPC\n",
        "total_projeto_s =  df.groupby(['PROJETO'])['valor_numerico'].sum()\n",
        "total_projeto_s.sort_values(ascending=False).head(25)"
      ],
      "execution_count": 0,
      "outputs": [
        {
          "output_type": "execute_result",
          "data": {
            "text/plain": [
              "PROJETO\n",
              "0101 - FCPC                                                                           $53,148,187.16\n",
              "2607 - CT.BNDES/UFC/FCPC - CONSTRUÃ‡ÃƒO DO CPDM                                       $27,089,242.89\n",
              "1089 - RESCISAO CONTRATUAL                                                            $18,121,744.06\n",
              "0104 - FCPC - 124.176-1 - ENCARGOS                                                    $14,145,768.86\n",
              "2924 - CT - UFC/FCPC - IMPLANTACAO E OFERTA DOS CURSOS DE GRADUACAO DA UAB/UFC 2012   $11,796,084.99\n",
              "2155 - CV - FUNCAP/FCPC-09/2008 - PROGRAMA PRONEX                                      $9,659,882.70\n",
              "2209 - CT - UFC/FCPC-INFRA-ESTRUTURA DAS BIBLIOTECAS DE APOIO PRESENCIAL               $9,604,552.65\n",
              "2102 - CV - BB/UFC/FCPC-APOIO AS ATIVIDADES DA UFC                                     $9,321,327.90\n",
              "3143 - TC - LG/UFC/FCPC - MOBILE, TOOLS & CAS                                          $8,894,962.49\n",
              "3253 - TC. LG/UFC/FCPC - MOBILE, TOOLS & CAS                                           $7,977,358.70\n",
              "2922 - CT.PETROBRAS - PROJETO AMBES                                                    $7,457,996.07\n",
              "3052 - TERMO DE COOPERACAO LG/UFC/FCPC - PT 12                                         $6,579,715.48\n",
              "3098 - CT. FCPC/IPLANFOR - PLANO ESTRATÉGICO FORTALEZA 2040                            $6,560,381.11\n",
              "1717 - CV - FUNCAP/FCPC-027/2006 - APOIO DE INFRA ESTRUTURA LABORATORIAL               $5,592,232.01\n",
              "2326 - CV - FINEP/FCPC-CTINFRA - 01/2008 -MODERNIZACAO E CONS.DA INFRA-EST.UFC         $5,258,022.41\n",
              "2971 - CV - LG/UFC/FCPC - TERMO ADITIVO NÂº 12                                         $5,240,662.39\n",
              "3053 - TERMO DE COOPERACAO LG/UFC/FCPC - PT 13                                         $5,051,492.05\n",
              "2922 - CT - PETROBRAS - PROJETO AMBES                                                  $4,976,992.54\n",
              "3464 - TC. LG/UFC/FCPC - AVANTTE                                                       $4,589,514.38\n",
              "2955 - CV - LG/UFC/FCPC - PLANO DE TRABALHO 10                                         $4,544,046.93\n",
              "2585 - CV.FINEP/UFC/FCPC-CTINFRA 09                                                    $4,460,067.06\n",
              "1961 - CT - UFC/FCPC - REUNI                                                           $4,242,257.43\n",
              "3022 - CT.UFC/FCPC - CURSO DE ESPECIALIZAÇÃO EM SAUDE DA FAMILIA                       $4,196,494.34\n",
              "2151 - CV - FUNCAP/FCPC- 03/2008 - SEGURANCA PUBLICA                                   $4,029,223.59\n",
              "3090 - UFC/FCPC - THE NETWORK - ENCONTRO EDUCACIONAL INTERNACIONAL                     $3,826,945.86\n",
              "Name: valor_numerico, dtype: float64"
            ]
          },
          "metadata": {
            "tags": []
          },
          "execution_count": 158
        }
      ]
    },
    {
      "cell_type": "markdown",
      "metadata": {
        "id": "8C2v_Oq89xY0",
        "colab_type": "text"
      },
      "source": [
        "## Análise PMF - Prefeitura de Fortaleza\n",
        "\n",
        "A PMF contrata a FCPC por dispensa ou por meio de celebração de convênio.\n",
        "\n",
        "Segundo o Portal da Transparência da Prefeitura de Fortaleza, as seguintes despesas foram realizadas com a fundação:\n",
        "\n",
        "\n",
        "```\n",
        "*   2010  R$ 11.798.270,08\n",
        "*   2011  R$ 3.464.261,97\n",
        "*   2012  R$ 1.601.679,55\n",
        "*   2013  R$ 1.127.080,15\n",
        "*   2014  R$ 4.016.998,66\n",
        "*   2015  R$ 6.245.564,02\n",
        "*   2016  R$ 5.407.900,24\n",
        "*   2017  R$ 279.892,00\n",
        "*   2018  R$ 4.008.040,58\n",
        "*   2019  R$ 511.229,57\n",
        "*   2020  R$ 279.892,00\n",
        "\n",
        "TOTAL = R$ 38.740.808,82\n",
        "```\n",
        "\n",
        "Fonte: https://transparencia.fortaleza.ce.gov.br/\n",
        "Data: 02/05/2020\n",
        "\n",
        "\n",
        "Há pagamentos para PJ e PF em projetos envolvendo a PMF e a FCPC. A PMF contrata a FCPC por Dispensa de Licitação, a qual, por sua vez, contrata PFs e PJs para execução dos trabalhos.\n",
        "\n",
        "Essa hipótese de Dispensa de Licitação está prevista na Lei 8666/93, Art. 24:\n",
        "\n",
        "```\n",
        "# XIII - na contratação de instituição brasileira incumbida regimental ou estatutariamente da pesquisa, do ensino ou do desenvolvimento institucional, ou de instituição dedicada à recuperação social do preso, desde que a contratada detenha inquestionável reputação ético-profissional e não tenha fins lucrativos;\n",
        "```\n",
        "\n",
        "A Fundação, por sua vez, não é obrigada a licitar, uma vez que não integra a Administração Pública. No âmbito federal, são exigidos apenas a realização de cotação prévia de preços e o respeito aos princípios da impessoalidade, moralidade e economicidade.\n",
        "\n",
        "Fonte: https://www.conjur.com.br/2017-mai-17/entidade-fins-lucrativos-nao-obrigada-licitacao-agu\n",
        "\n",
        "Segundo súmula do TCU sobre o assunto:\n",
        "\n",
        "```\n",
        "# SÚMULA Nº 250\n",
        "A contratação de instituição sem fins lucrativos, com dispensa de licitação, com fulcro no art. 24, inciso XIII, da Lei n.º 8.666/93, somente\n",
        "é admitida nas hipóteses em que houver nexo efetivo entre o mencionado dispositivo, a natureza da instituição e o objeto contratado,\n",
        "além de comprovada a compatibilidade com os preços de mercado. \n",
        "```\n",
        "Fonte: https://portal.tcu.gov.br/lumis/portal/file/fileDownload.jsp?fileId=8A8182A25753C20F0157679AA5617071&inline=1\n",
        "\n",
        "\n",
        "Há processo em curso no TCE-CE questionando contratação do IPLANFOR com a FCPC:\n",
        "\n",
        "Processo: PROCESSO: 35581/2018-8 - Prestação de Contas - Exercício 2014\n",
        "\n",
        "Fonte: blob:https://www.tce.ce.gov.br/4c2a20b8-c187-4331-8497-69f39c918293"
      ]
    },
    {
      "cell_type": "code",
      "metadata": {
        "id": "palP5Sy2901r",
        "colab_type": "code",
        "outputId": "a6cdde49-6581-499b-d8c8-84f8fd6a5e74",
        "colab": {
          "base_uri": "https://localhost:8080/",
          "height": 1000
        }
      },
      "source": [
        "total_projeto_df = total_projeto_s.to_frame();\n",
        "total_projeto_df = total_projeto_df.reset_index()\n",
        "total_projeto_df.query(\"PROJETO.str.contains('PMF|IPLANFOR|HABITAFOR|SECULTFOR|SDE|SECRETARIA ESPORTE', case=False)\", engine='python').sort_values('valor_numerico', ascending=False)\n",
        "#Há dificuldades para determinar quais os projetos da PMF. Busca em string."
      ],
      "execution_count": 0,
      "outputs": [
        {
          "output_type": "execute_result",
          "data": {
            "text/html": [
              "<div>\n",
              "<style scoped>\n",
              "    .dataframe tbody tr th:only-of-type {\n",
              "        vertical-align: middle;\n",
              "    }\n",
              "\n",
              "    .dataframe tbody tr th {\n",
              "        vertical-align: top;\n",
              "    }\n",
              "\n",
              "    .dataframe thead th {\n",
              "        text-align: right;\n",
              "    }\n",
              "</style>\n",
              "<table border=\"1\" class=\"dataframe\">\n",
              "  <thead>\n",
              "    <tr style=\"text-align: right;\">\n",
              "      <th></th>\n",
              "      <th>PROJETO</th>\n",
              "      <th>valor_numerico</th>\n",
              "    </tr>\n",
              "  </thead>\n",
              "  <tbody>\n",
              "    <tr>\n",
              "      <th>1715</th>\n",
              "      <td>3098 - CT. FCPC/IPLANFOR - PLANO ESTRATÉGICO FORTALEZA 2040</td>\n",
              "      <td>$6,560,381.11</td>\n",
              "    </tr>\n",
              "    <tr>\n",
              "      <th>1713</th>\n",
              "      <td>3098 - CT - FCPC/IPLANFOR - PLANO ESTRATÉGICO FORTALEZA 2040</td>\n",
              "      <td>$3,115,891.68</td>\n",
              "    </tr>\n",
              "    <tr>\n",
              "      <th>933</th>\n",
              "      <td>2427 - CV - HABITAFOR/FCPC - 01/2010</td>\n",
              "      <td>$3,088,039.33</td>\n",
              "    </tr>\n",
              "    <tr>\n",
              "      <th>696</th>\n",
              "      <td>2228 - CV -  PMF/FCPC - HABITAFOR</td>\n",
              "      <td>$2,428,915.55</td>\n",
              "    </tr>\n",
              "    <tr>\n",
              "      <th>2047</th>\n",
              "      <td>3399 - CT.IPLANFOR/FCPC - FORTALEZA 2040 - PLANOS ESPECIFICOS</td>\n",
              "      <td>$2,330,833.54</td>\n",
              "    </tr>\n",
              "    <tr>\n",
              "      <th>1063</th>\n",
              "      <td>2548 - CV - HABITAFOR 03/2010-PLANEJAMENTO E VIABILIZACAO DE PROJETOS</td>\n",
              "      <td>$2,302,924.71</td>\n",
              "    </tr>\n",
              "    <tr>\n",
              "      <th>442</th>\n",
              "      <td>1645 - CV - FCPC/HABITAFOR-F.HABIT.DE FORTALEZA</td>\n",
              "      <td>$1,707,058.78</td>\n",
              "    </tr>\n",
              "    <tr>\n",
              "      <th>697</th>\n",
              "      <td>2228 - CV - PMF/FCPC - HABITAFOR</td>\n",
              "      <td>$862,835.80</td>\n",
              "    </tr>\n",
              "    <tr>\n",
              "      <th>2012</th>\n",
              "      <td>3365 - CT. IPLANFOR/FCPC - FORTALEZA 2040 - FASE 2</td>\n",
              "      <td>$761,304.13</td>\n",
              "    </tr>\n",
              "    <tr>\n",
              "      <th>580</th>\n",
              "      <td>2053 - CV - SECRETARIA ESPORTE/FCPC - VILAS OLIMPICAS CONJ.CEARA/GENIBAU</td>\n",
              "      <td>$674,860.99</td>\n",
              "    </tr>\n",
              "    <tr>\n",
              "      <th>581</th>\n",
              "      <td>2054 - CV - SECRETARIA ESPORTE/FCPC - VILAS OLIMPICAS MESSEJANA/CASTELAO</td>\n",
              "      <td>$590,572.88</td>\n",
              "    </tr>\n",
              "    <tr>\n",
              "      <th>979</th>\n",
              "      <td>2474 - CT - PMF/CMF/PACTO POR FORTALEZA</td>\n",
              "      <td>$520,042.84</td>\n",
              "    </tr>\n",
              "    <tr>\n",
              "      <th>365</th>\n",
              "      <td>1544 - CV -  SDE/FCPC/JOVEM  AMBIENTALISTA</td>\n",
              "      <td>$316,695.85</td>\n",
              "    </tr>\n",
              "    <tr>\n",
              "      <th>513</th>\n",
              "      <td>1814 - CT - PMF/FCPC - ETUFOR 014/2007</td>\n",
              "      <td>$299,344.77</td>\n",
              "    </tr>\n",
              "    <tr>\n",
              "      <th>1048</th>\n",
              "      <td>2535 - CV - HABITAFOR/FCPC-02/2010 -PLANO MUNIC.HABITACAO</td>\n",
              "      <td>$211,484.48</td>\n",
              "    </tr>\n",
              "    <tr>\n",
              "      <th>871</th>\n",
              "      <td>2373 - CV - SECULTFOR/FCPC-MAPEAMENTO CULTURAL DO M. DE FORTALEZA</td>\n",
              "      <td>$206,620.10</td>\n",
              "    </tr>\n",
              "    <tr>\n",
              "      <th>765</th>\n",
              "      <td>2286 - CV -  SDE/PMF/FCPC - COZINHA POPULAR DE FORTALEZA</td>\n",
              "      <td>$121,966.35</td>\n",
              "    </tr>\n",
              "    <tr>\n",
              "      <th>1714</th>\n",
              "      <td>3098 - CT. FCPC/IPLANFOR - PLANO ESTRATÃ‰GICO FORTALEZA 2040</td>\n",
              "      <td>$96,460.48</td>\n",
              "    </tr>\n",
              "    <tr>\n",
              "      <th>542</th>\n",
              "      <td>1926 - CT - PMF/FCPC- HABITAFOR - CURSOS DE CAPACITACAO</td>\n",
              "      <td>$77,310.70</td>\n",
              "    </tr>\n",
              "    <tr>\n",
              "      <th>366</th>\n",
              "      <td>1545 - CV - SDE/FCPC/GERACAO DE TRABALHOS</td>\n",
              "      <td>$76,019.60</td>\n",
              "    </tr>\n",
              "    <tr>\n",
              "      <th>859</th>\n",
              "      <td>2365 - CV - HABITAFOR/FCPC - 4 CONFERENCIA DA CIDADE DE FORTALEZA</td>\n",
              "      <td>$40,610.85</td>\n",
              "    </tr>\n",
              "    <tr>\n",
              "      <th>462</th>\n",
              "      <td>1664 - CT - SDE/FCPC-DESEMPREGO SUBEMPREGO</td>\n",
              "      <td>$39,630.96</td>\n",
              "    </tr>\n",
              "    <tr>\n",
              "      <th>856</th>\n",
              "      <td>2363 - CV - SDE/FCPC - FEIRAS DE FORTALEZA</td>\n",
              "      <td>$35,706.33</td>\n",
              "    </tr>\n",
              "    <tr>\n",
              "      <th>870</th>\n",
              "      <td>2373 - CV -  SECULTFOR/FCPC-MAPEAMENTO CULTURAL DO M. DE FORTALEZA</td>\n",
              "      <td>$28,800.00</td>\n",
              "    </tr>\n",
              "    <tr>\n",
              "      <th>872</th>\n",
              "      <td>2374 - CV - SECULTFOR/FCPC-FORTALEZA CIDADE CRIATIVA EM MUSICA</td>\n",
              "      <td>$26,535.87</td>\n",
              "    </tr>\n",
              "    <tr>\n",
              "      <th>519</th>\n",
              "      <td>1844 - CARTA FCPC -PMF - PAULO MAMEDE</td>\n",
              "      <td>$15,633.09</td>\n",
              "    </tr>\n",
              "    <tr>\n",
              "      <th>402</th>\n",
              "      <td>1588 - CT - PMF/FCPC/RESIDENCIA MEDICA</td>\n",
              "      <td>$5,406.00</td>\n",
              "    </tr>\n",
              "    <tr>\n",
              "      <th>858</th>\n",
              "      <td>2365 - CV -  HABITAFOR/FCPC - 4 CONFERENCIA DA CIDADE DE FORTALEZA</td>\n",
              "      <td>$4,452.37</td>\n",
              "    </tr>\n",
              "    <tr>\n",
              "      <th>527</th>\n",
              "      <td>1887 - CV - PMF/SMS/UFC/FCPC - ODONTO SUS</td>\n",
              "      <td>$2,619.64</td>\n",
              "    </tr>\n",
              "    <tr>\n",
              "      <th>855</th>\n",
              "      <td>2363 - CV -  SDE/FCPC - FEIRAS DE FORTALEZA</td>\n",
              "      <td>$2,400.00</td>\n",
              "    </tr>\n",
              "    <tr>\n",
              "      <th>391</th>\n",
              "      <td>1575 - CV - SDE/FCPC/HORTAS ESCOLARES</td>\n",
              "      <td>$1,992.59</td>\n",
              "    </tr>\n",
              "  </tbody>\n",
              "</table>\n",
              "</div>"
            ],
            "text/plain": [
              "                                                                       PROJETO  valor_numerico\n",
              "1715               3098 - CT. FCPC/IPLANFOR - PLANO ESTRATÉGICO FORTALEZA 2040   $6,560,381.11\n",
              "1713              3098 - CT - FCPC/IPLANFOR - PLANO ESTRATÉGICO FORTALEZA 2040   $3,115,891.68\n",
              "933                                       2427 - CV - HABITAFOR/FCPC - 01/2010   $3,088,039.33\n",
              "696                                          2228 - CV -  PMF/FCPC - HABITAFOR   $2,428,915.55\n",
              "2047             3399 - CT.IPLANFOR/FCPC - FORTALEZA 2040 - PLANOS ESPECIFICOS   $2,330,833.54\n",
              "1063     2548 - CV - HABITAFOR 03/2010-PLANEJAMENTO E VIABILIZACAO DE PROJETOS   $2,302,924.71\n",
              "442                            1645 - CV - FCPC/HABITAFOR-F.HABIT.DE FORTALEZA   $1,707,058.78\n",
              "697                                           2228 - CV - PMF/FCPC - HABITAFOR     $862,835.80\n",
              "2012                        3365 - CT. IPLANFOR/FCPC - FORTALEZA 2040 - FASE 2     $761,304.13\n",
              "580   2053 - CV - SECRETARIA ESPORTE/FCPC - VILAS OLIMPICAS CONJ.CEARA/GENIBAU     $674,860.99\n",
              "581   2054 - CV - SECRETARIA ESPORTE/FCPC - VILAS OLIMPICAS MESSEJANA/CASTELAO     $590,572.88\n",
              "979                                    2474 - CT - PMF/CMF/PACTO POR FORTALEZA     $520,042.84\n",
              "365                                 1544 - CV -  SDE/FCPC/JOVEM  AMBIENTALISTA     $316,695.85\n",
              "513                                     1814 - CT - PMF/FCPC - ETUFOR 014/2007     $299,344.77\n",
              "1048                 2535 - CV - HABITAFOR/FCPC-02/2010 -PLANO MUNIC.HABITACAO     $211,484.48\n",
              "871          2373 - CV - SECULTFOR/FCPC-MAPEAMENTO CULTURAL DO M. DE FORTALEZA     $206,620.10\n",
              "765                   2286 - CV -  SDE/PMF/FCPC - COZINHA POPULAR DE FORTALEZA     $121,966.35\n",
              "1714              3098 - CT. FCPC/IPLANFOR - PLANO ESTRATÃ‰GICO FORTALEZA 2040      $96,460.48\n",
              "542                    1926 - CT - PMF/FCPC- HABITAFOR - CURSOS DE CAPACITACAO      $77,310.70\n",
              "366                                  1545 - CV - SDE/FCPC/GERACAO DE TRABALHOS      $76,019.60\n",
              "859          2365 - CV - HABITAFOR/FCPC - 4 CONFERENCIA DA CIDADE DE FORTALEZA      $40,610.85\n",
              "462                                 1664 - CT - SDE/FCPC-DESEMPREGO SUBEMPREGO      $39,630.96\n",
              "856                                 2363 - CV - SDE/FCPC - FEIRAS DE FORTALEZA      $35,706.33\n",
              "870         2373 - CV -  SECULTFOR/FCPC-MAPEAMENTO CULTURAL DO M. DE FORTALEZA      $28,800.00\n",
              "872             2374 - CV - SECULTFOR/FCPC-FORTALEZA CIDADE CRIATIVA EM MUSICA      $26,535.87\n",
              "519                                      1844 - CARTA FCPC -PMF - PAULO MAMEDE      $15,633.09\n",
              "402                                     1588 - CT - PMF/FCPC/RESIDENCIA MEDICA       $5,406.00\n",
              "858         2365 - CV -  HABITAFOR/FCPC - 4 CONFERENCIA DA CIDADE DE FORTALEZA       $4,452.37\n",
              "527                                  1887 - CV - PMF/SMS/UFC/FCPC - ODONTO SUS       $2,619.64\n",
              "855                                2363 - CV -  SDE/FCPC - FEIRAS DE FORTALEZA       $2,400.00\n",
              "391                                      1575 - CV - SDE/FCPC/HORTAS ESCOLARES       $1,992.59"
            ]
          },
          "metadata": {
            "tags": []
          },
          "execution_count": 137
        }
      ]
    },
    {
      "cell_type": "markdown",
      "metadata": {
        "id": "khFHEerJBweg",
        "colab_type": "text"
      },
      "source": [
        "## Análise IPLANFOR"
      ]
    },
    {
      "cell_type": "code",
      "metadata": {
        "id": "hkjuUrAlB1E3",
        "colab_type": "code",
        "outputId": "adb758b7-35ac-4b3c-e3a0-9eaf206f7aa8",
        "colab": {
          "base_uri": "https://localhost:8080/",
          "height": 85
        }
      },
      "source": [
        "#Total pago de projetos do IPLANFOR para PF e PJ\n",
        "df.dropna(subset=['PROJETO']).query(\"PROJETO.str.contains('IPLANFOR', case=False)\", engine='python').groupby('tipo')['valor_numerico'].sum()"
      ],
      "execution_count": 0,
      "outputs": [
        {
          "output_type": "execute_result",
          "data": {
            "text/plain": [
              "tipo\n",
              "PF   $11,851,091.85\n",
              "PJ    $1,013,779.09\n",
              "Name: valor_numerico, dtype: float64"
            ]
          },
          "metadata": {
            "tags": []
          },
          "execution_count": 159
        }
      ]
    },
    {
      "cell_type": "code",
      "metadata": {
        "id": "pEal8rVVhxaX",
        "colab_type": "code",
        "outputId": "e2a3d4f6-53f6-49a1-cc5a-fd0dcf0bb86a",
        "colab": {
          "base_uri": "https://localhost:8080/",
          "height": 391
        }
      },
      "source": [
        "total_cpf_cnpj_iplanfor_s =  df.dropna(subset=['PROJETO']).query(\"PROJETO.str.contains('IPLANFOR', case=False)\", engine='python').groupby(['tipo','CPF_CNPJ', 'NOME'])['valor_numerico'].sum()\n",
        "total_cpf_cnpj_iplanfor_s.sort_values(ascending=False).head(20)\n"
      ],
      "execution_count": 0,
      "outputs": [
        {
          "output_type": "execute_result",
          "data": {
            "text/plain": [
              "tipo  CPF_CNPJ            NOME                                  \n",
              "PF    ***.966.093-**      FAUSTO NILO COSTA JUNIOR                 $1,474,256.29\n",
              "      ***.839.713-**      FRANCISCO EDUARDO ARAUJO SOARES          $1,175,651.56\n",
              "      ***.468.963-**      FRANCISCO SULIANO MESQUITA DE PAULA        $983,810.48\n",
              "      ***.457.143-**      DELBERG PONCE DE LEON                      $611,420.88\n",
              "      ***.285.893-**      PEDRO ESDRAS FIGUEIREDO GUIMARAES          $486,069.04\n",
              "      ***.254.288-**      ALEXANDER DE SOUZA LARANJEIRA              $467,384.42\n",
              "      ***.332.674-**      SERGIO JOSE CALVALCANTI BUARQUE            $457,303.92\n",
              "      ***.140.963-**      FRANCISCO QUEIROZ D. NETO                  $363,124.86\n",
              "      ***.010.743-**      BRUNO BARROS LEAL DE CARVALHO FERREIRA     $356,292.76\n",
              "      ***.821.003-**      RODRIGO PONCE DE LEON                      $323,897.48\n",
              "      ***.660.063-**      FERGUS ARAUJO GALAS                        $285,171.00\n",
              "      ***.823.803-**      MARINA PARENTE COSTA                       $261,804.99\n",
              "      ***.202.323-**      EXPEDITO JOSE DE SA PARENTE JUNIOR         $208,410.00\n",
              "      ***.853.394-**      PABLO RIBEIRO FRANCELINO                   $189,609.81\n",
              "      ***.172.788-**      ROSANA GARJULLI SALES COSTA                $172,570.00\n",
              "      ***.129.163-**      FERNANDO FARIAS BEZERRA                    $166,755.08\n",
              "PJ    ***.12.043/****-66  KFC ENGENHARIA E PROJETOS LTDA ME          $148,500.00\n",
              "PF    ***.436.603-**      MARIANA QUEZADO COSTA LIMA                 $146,040.45\n",
              "      ***.905.808-**      FRANCISCO EDILSON ALVES DE OLIVEIRA        $141,213.39\n",
              "      ***.535.503-**      FRANCELINO FRANCO LEITE DE M. SOUSA        $127,069.65\n",
              "Name: valor_numerico, dtype: float64"
            ]
          },
          "metadata": {
            "tags": []
          },
          "execution_count": 163
        }
      ]
    },
    {
      "cell_type": "markdown",
      "metadata": {
        "id": "zeoeD76Ji_sp",
        "colab_type": "text"
      },
      "source": [
        "Observa-se que os pagamentos dos projetos IPLANFOR se destacam por seus valores expressivos. \n",
        "\n",
        "Por exemplo, a quantia recebida por FAUSTO NILO COSTA JUNIOR nos projetos IPLANFOR o colocam em 2º do ranking total da história das despesas da FCPC. \n",
        "\n",
        "Da mesma forma, a quantia recebida por FRANCISCO EDUARDO ARAUJO SOARES nos projetos IPLANFOR o colocam no top 10 dos maiores pagamentos da história da FCPC."
      ]
    }
  ]
}