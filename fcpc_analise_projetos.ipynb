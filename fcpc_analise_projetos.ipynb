{
  "nbformat": 4,
  "nbformat_minor": 0,
  "metadata": {
    "colab": {
      "name": "fcpc_analise_projetos.ipynb",
      "provenance": [],
      "collapsed_sections": [],
      "authorship_tag": "ABX9TyNJW8d/KdYXegWtAwfyZwaU",
      "include_colab_link": true
    },
    "kernelspec": {
      "name": "python3",
      "display_name": "Python 3"
    }
  },
  "cells": [
    {
      "cell_type": "markdown",
      "metadata": {
        "id": "view-in-github",
        "colab_type": "text"
      },
      "source": [
        "<a href=\"https://colab.research.google.com/github/tmalveirac/fcpc/blob/master/fcpc_analise_projetos.ipynb\" target=\"_parent\"><img src=\"https://colab.research.google.com/assets/colab-badge.svg\" alt=\"Open In Colab\"/></a>"
      ]
    },
    {
      "cell_type": "markdown",
      "metadata": {
        "id": "tvJD_FYNJ47J",
        "colab_type": "text"
      },
      "source": [
        "## Análise projetos FCPC - Fundação Cearense de Pesquisa e Cultura - CNPJ 05.330.436/0001-62\n",
        "\n",
        "FCPF é uma Fundação privada - Fundação de Apoio a Universidade Federal do Ceará - UFC\n",
        "\n",
        "CNAE principal: Atividades de apoio à educação, exceto caixas escolares\n",
        "CNAEs Secundários: Atividades de rádio\n",
        "\n",
        "Fonte: RFB\n",
        "\n",
        "Estatuto FCPC: http://www.fcpc.ufc.br/Content/documentos/estatuto_fcpc_v1.pdf\n",
        "\n",
        "Estatuto UFC: http://www.ufc.br/images/_files/a_universidade/estatuto_ufc/estatuto_ufc.pdf"
      ]
    },
    {
      "cell_type": "code",
      "metadata": {
        "id": "qPs8Y0yAMEaA",
        "colab_type": "code",
        "colab": {}
      },
      "source": [
        "import pandas as pd\n",
        "import matplotlib.pyplot as plt\n",
        "from datetime import datetime  \n",
        "import numpy as np\n",
        "plt.rcParams['figure.figsize'] = (20,7)\n",
        "pd.set_option('display.float_format', '{:.2f}'.format)\n",
        "pd.options.display.float_format = '${:,.2f}'.format\n",
        "pd.options.display.max_colwidth = 100"
      ],
      "execution_count": 0,
      "outputs": []
    },
    {
      "cell_type": "code",
      "metadata": {
        "id": "VFZveR25NflG",
        "colab_type": "code",
        "colab": {}
      },
      "source": [
        "#Carregando Dados - Pagamentos pessoa física 2002-2020\n",
        "df_2020 = pd.read_csv('/content/2020.csv')\n",
        "df_2020['ano'] = 2020\n",
        "df_2002_2019 = pd.read_csv('/content/fcpc_despesas_pf_2002_2019.csv')\n",
        "pf_df = df_2020.append(df_2002_2019)\n",
        "pf_df['tipo'] = 'PF'"
      ],
      "execution_count": 0,
      "outputs": []
    },
    {
      "cell_type": "code",
      "metadata": {
        "id": "1APHi5TiNhyu",
        "colab_type": "code",
        "outputId": "774a5468-e99f-408a-817d-a3a8cd0cdf01",
        "colab": {
          "base_uri": "https://localhost:8080/",
          "height": 297
        }
      },
      "source": [
        "#Tratando o valor\n",
        "pf_df['valor_limpo'] = pf_df['VALOR (R$)'].str.replace('.', '').str.replace(',', '.')\n",
        "#Convertendo para Numerico\n",
        "pf_df['valor_numerico'] = pd.to_numeric(pf_df['valor_limpo'])\n",
        "pf_df['data_limpa'] = pd.to_datetime(pf_df['DATA'], dayfirst=True) \n",
        "pf_df.describe()"
      ],
      "execution_count": 88,
      "outputs": [
        {
          "output_type": "execute_result",
          "data": {
            "text/html": [
              "<div>\n",
              "<style scoped>\n",
              "    .dataframe tbody tr th:only-of-type {\n",
              "        vertical-align: middle;\n",
              "    }\n",
              "\n",
              "    .dataframe tbody tr th {\n",
              "        vertical-align: top;\n",
              "    }\n",
              "\n",
              "    .dataframe thead th {\n",
              "        text-align: right;\n",
              "    }\n",
              "</style>\n",
              "<table border=\"1\" class=\"dataframe\">\n",
              "  <thead>\n",
              "    <tr style=\"text-align: right;\">\n",
              "      <th></th>\n",
              "      <th>ano</th>\n",
              "      <th>valor_numerico</th>\n",
              "    </tr>\n",
              "  </thead>\n",
              "  <tbody>\n",
              "    <tr>\n",
              "      <th>count</th>\n",
              "      <td>$242,299.00</td>\n",
              "      <td>$242,299.00</td>\n",
              "    </tr>\n",
              "    <tr>\n",
              "      <th>mean</th>\n",
              "      <td>$2,011.44</td>\n",
              "      <td>$1,603.80</td>\n",
              "    </tr>\n",
              "    <tr>\n",
              "      <th>std</th>\n",
              "      <td>$4.92</td>\n",
              "      <td>$3,088.20</td>\n",
              "    </tr>\n",
              "    <tr>\n",
              "      <th>min</th>\n",
              "      <td>$2,002.00</td>\n",
              "      <td>$0.00</td>\n",
              "    </tr>\n",
              "    <tr>\n",
              "      <th>25%</th>\n",
              "      <td>$2,007.00</td>\n",
              "      <td>$180.00</td>\n",
              "    </tr>\n",
              "    <tr>\n",
              "      <th>50%</th>\n",
              "      <td>$2,012.00</td>\n",
              "      <td>$622.00</td>\n",
              "    </tr>\n",
              "    <tr>\n",
              "      <th>75%</th>\n",
              "      <td>$2,015.00</td>\n",
              "      <td>$2,000.00</td>\n",
              "    </tr>\n",
              "    <tr>\n",
              "      <th>max</th>\n",
              "      <td>$2,020.00</td>\n",
              "      <td>$328,428.65</td>\n",
              "    </tr>\n",
              "  </tbody>\n",
              "</table>\n",
              "</div>"
            ],
            "text/plain": [
              "              ano  valor_numerico\n",
              "count $242,299.00     $242,299.00\n",
              "mean    $2,011.44       $1,603.80\n",
              "std         $4.92       $3,088.20\n",
              "min     $2,002.00           $0.00\n",
              "25%     $2,007.00         $180.00\n",
              "50%     $2,012.00         $622.00\n",
              "75%     $2,015.00       $2,000.00\n",
              "max     $2,020.00     $328,428.65"
            ]
          },
          "metadata": {
            "tags": []
          },
          "execution_count": 88
        }
      ]
    },
    {
      "cell_type": "code",
      "metadata": {
        "id": "dVnxlIU6cXPp",
        "colab_type": "code",
        "colab": {}
      },
      "source": [
        "# Carregando Dados - Pagamentos Pessoa Jurídica\n",
        "pj_df = pd.read_csv('/content/fcpc_despesas_pj_2010_2019.csv')\n",
        "pj_df['tipo'] = 'PJ'\n",
        "pj_df['TIPO DE PAGAMENTO'] = 'NAO INFORMADO'"
      ],
      "execution_count": 0,
      "outputs": []
    },
    {
      "cell_type": "code",
      "metadata": {
        "id": "JCCBlNoAdDjL",
        "colab_type": "code",
        "outputId": "2855c91d-0cbb-47a7-c059-0ec8efb90c9e",
        "colab": {
          "base_uri": "https://localhost:8080/",
          "height": 297
        }
      },
      "source": [
        "#Tratando o valor\n",
        "pj_df['valor_limpo'] = pj_df['VALOR (R$)'].str.replace('.', '').str.replace(',', '.')\n",
        "#Convertendo para Numerico\n",
        "pj_df['valor_numerico'] = pd.to_numeric(pj_df['valor_limpo'])\n",
        "#Tratando a data\n",
        "pj_df['data_limpa'] = pd.to_datetime(pj_df['DATA'], dayfirst=True) \n",
        "pj_df.describe()"
      ],
      "execution_count": 90,
      "outputs": [
        {
          "output_type": "execute_result",
          "data": {
            "text/html": [
              "<div>\n",
              "<style scoped>\n",
              "    .dataframe tbody tr th:only-of-type {\n",
              "        vertical-align: middle;\n",
              "    }\n",
              "\n",
              "    .dataframe tbody tr th {\n",
              "        vertical-align: top;\n",
              "    }\n",
              "\n",
              "    .dataframe thead th {\n",
              "        text-align: right;\n",
              "    }\n",
              "</style>\n",
              "<table border=\"1\" class=\"dataframe\">\n",
              "  <thead>\n",
              "    <tr style=\"text-align: right;\">\n",
              "      <th></th>\n",
              "      <th>ano</th>\n",
              "      <th>valor_numerico</th>\n",
              "    </tr>\n",
              "  </thead>\n",
              "  <tbody>\n",
              "    <tr>\n",
              "      <th>count</th>\n",
              "      <td>$100,155.00</td>\n",
              "      <td>$100,155.00</td>\n",
              "    </tr>\n",
              "    <tr>\n",
              "      <th>mean</th>\n",
              "      <td>$2,014.82</td>\n",
              "      <td>$3,099.62</td>\n",
              "    </tr>\n",
              "    <tr>\n",
              "      <th>std</th>\n",
              "      <td>$3.14</td>\n",
              "      <td>$22,853.43</td>\n",
              "    </tr>\n",
              "    <tr>\n",
              "      <th>min</th>\n",
              "      <td>$2,010.00</td>\n",
              "      <td>$0.00</td>\n",
              "    </tr>\n",
              "    <tr>\n",
              "      <th>25%</th>\n",
              "      <td>$2,012.00</td>\n",
              "      <td>$115.81</td>\n",
              "    </tr>\n",
              "    <tr>\n",
              "      <th>50%</th>\n",
              "      <td>$2,015.00</td>\n",
              "      <td>$422.00</td>\n",
              "    </tr>\n",
              "    <tr>\n",
              "      <th>75%</th>\n",
              "      <td>$2,018.00</td>\n",
              "      <td>$1,395.89</td>\n",
              "    </tr>\n",
              "    <tr>\n",
              "      <th>max</th>\n",
              "      <td>$2,019.00</td>\n",
              "      <td>$2,608,328.00</td>\n",
              "    </tr>\n",
              "  </tbody>\n",
              "</table>\n",
              "</div>"
            ],
            "text/plain": [
              "              ano  valor_numerico\n",
              "count $100,155.00     $100,155.00\n",
              "mean    $2,014.82       $3,099.62\n",
              "std         $3.14      $22,853.43\n",
              "min     $2,010.00           $0.00\n",
              "25%     $2,012.00         $115.81\n",
              "50%     $2,015.00         $422.00\n",
              "75%     $2,018.00       $1,395.89\n",
              "max     $2,019.00   $2,608,328.00"
            ]
          },
          "metadata": {
            "tags": []
          },
          "execution_count": 90
        }
      ]
    },
    {
      "cell_type": "code",
      "metadata": {
        "id": "zTa2drOTdKNg",
        "colab_type": "code",
        "colab": {}
      },
      "source": [
        "#Tratamento para igualar layout PF e PJ para realizar o append\n",
        "pj_df = pj_df.rename({'CNPJ': 'CPF_CNPJ'}, axis='columns')\n",
        "pf_df = pf_df.rename({'CPF': 'CPF_CNPJ'}, axis='columns')\n",
        "pj_df = pj_df[['tipo', 'CPF_CNPJ', 'NOME', 'TIPO DE PAGAMENTO', 'PROJETO', 'DATA', 'VALOR (R$)', 'ano',\n",
        "       'valor_limpo', 'valor_numerico', 'data_limpa']]\n",
        "pf_df = pf_df[['tipo', 'CPF_CNPJ', 'NOME', 'TIPO DE PAGAMENTO', 'PROJETO', 'DATA', 'VALOR (R$)', 'ano',\n",
        "       'valor_limpo', 'valor_numerico', 'data_limpa']]\n",
        "df = pf_df.append(pj_df)"
      ],
      "execution_count": 0,
      "outputs": []
    },
    {
      "cell_type": "markdown",
      "metadata": {
        "id": "C5gL2J1cgDbC",
        "colab_type": "text"
      },
      "source": [
        "## Análise PJ"
      ]
    },
    {
      "cell_type": "code",
      "metadata": {
        "id": "xKDSJ5YDhjWr",
        "colab_type": "code",
        "outputId": "53c04b65-9a8a-4b47-8aac-fa0039caccee",
        "colab": {
          "base_uri": "https://localhost:8080/",
          "height": 476
        }
      },
      "source": [
        " #25 PJ que mais receberam pagamentos da FCPC\n",
        " total_pj_s = df.query('tipo == \"PJ\"').groupby(['CPF_CNPJ','NOME'])['valor_numerico'].sum()\n",
        " total_pj_s.sort_values(ascending=False).head(25)"
      ],
      "execution_count": 92,
      "outputs": [
        {
          "output_type": "execute_result",
          "data": {
            "text/plain": [
              "CPF_CNPJ            NOME                                         \n",
              "***.10.485/****-48  CONSTRUTORA PLATO LTDA - ME                     $13,954,579.14\n",
              "***.11.739/****-04  NAJA TURISMO LTDA                               $13,258,909.60\n",
              "***.29.979/****-40  INSS - INSTITUTO NACIONAL DO SEGURO SOCIAL      $11,252,708.29\n",
              "***.05.868/****-07  UNIMED FORTALEZA                                $10,336,962.75\n",
              "***.69.034/****-56  SODEXO PASS DO BRASIL SERVICOS E COMERCIO S.A    $9,933,293.22\n",
              "***.05.952/****-82  BIOTEC SOLUCAO AMBIENTAL INDUS                   $8,769,918.11\n",
              "***.69.034/****-32  SODEXHO PASS DO BRASIL SERVICO                   $5,866,479.99\n",
              "***.05.467/****-92  ESFERA COMERCIO E SERVICO LTDA                   $5,313,362.84\n",
              "***.06.246/****-26  JLJ CONSTRUCAO REPRES. LTDA                      $4,717,262.10\n",
              "***.09.675/****-80  CENTRAL DE NEGOCIOS COM. DE EQ                   $3,484,183.68\n",
              "***.09.500/****-26  TEBAS CONSTRUCOES E COMERCIO L                   $3,400,463.53\n",
              "***.03.050/****-23  CENTRO DE ESTAGIO                                $3,358,843.12\n",
              "***.61.600/****-55  CENTRO DE INTEGRACAO EMPRESA-E                   $3,241,502.40\n",
              "***.05.684/****-03  FIT FLEXTRONICS INSTITUTO DE T                   $3,141,751.72\n",
              "NÃO SE APLICA       NEW ROUTE, INC.                                  $2,944,629.23\n",
              "***.05.330/****-62  Y CORPORATION OF AMERICA, INC                    $2,773,410.36\n",
              "***.13.063/****-02  HORLEANS ROSA COSTA (HC EVENTO                   $2,707,731.08\n",
              "***.07.084/****-78  IEL - INSTITUTO EUVALDO LODI                     $2,692,940.74\n",
              "***.05.330/****-62  FUNDACAO CEARENSE DE PESQUISA E CULTURA          $2,565,630.38\n",
              "***.00.565/****-19  VAP CONSTRUCOES                                  $2,563,480.00\n",
              "***.00.360/****-04  CAIXA ECONOMICA FEDERAL                          $2,548,238.38\n",
              "***.00.796/****-03  AM FEIJAO DE MENESES (COMPUTER                   $2,542,694.07\n",
              "***.16.417/****-21  RS TURISMO E EVENTOS LTDA                        $2,511,199.74\n",
              "***.07.789/****-62  R P E ASSESSORIA E CONSULTORIA                   $2,444,707.20\n",
              "***.29.979/****-19  INSTITUTO NACIONAL DO SEGURO S                   $2,165,510.25\n",
              "Name: valor_numerico, dtype: float64"
            ]
          },
          "metadata": {
            "tags": []
          },
          "execution_count": 92
        }
      ]
    },
    {
      "cell_type": "markdown",
      "metadata": {
        "id": "blFZNarP5zIL",
        "colab_type": "text"
      },
      "source": [
        "A primeira da lista possui como sócio-administrador: MARIA ILMA MAGALHAES SILVEIRA PINHEIRO LANDIM, citada em denúncia do MPF (http://www.mpf.mp.br/pgr/documentos/denuncia-no-inquerito-3984)\n"
      ]
    },
    {
      "cell_type": "code",
      "metadata": {
        "id": "TiMcy-JVFVBp",
        "colab_type": "code",
        "outputId": "8e345e7d-e637-444f-ed4e-1e64e2596034",
        "colab": {
          "base_uri": "https://localhost:8080/",
          "height": 662
        }
      },
      "source": [
        "total_pj_s.sort_values(ascending=False).head(10).plot(kind='bar')\n",
        "plt.ticklabel_format(axis=\"y\", style=\"sci\", scilimits=(3,3)) #Em milhares\n",
        "plt.show()"
      ],
      "execution_count": 93,
      "outputs": [
        {
          "output_type": "display_data",
          "data": {
            "image/png": "[encoded data removed]",
            "text/plain": [
              "<Figure size 1440x504 with 1 Axes>"
            ]
          },
          "metadata": {
            "tags": [],
            "needs_background": "light"
          }
        }
      ]
    },
    {
      "cell_type": "markdown",
      "metadata": {
        "id": "bjj6Tb9P8kIh",
        "colab_type": "text"
      },
      "source": [
        "## Análise PF"
      ]
    },
    {
      "cell_type": "code",
      "metadata": {
        "id": "VAq7aDs38nx0",
        "colab_type": "code",
        "outputId": "7e4412c7-a901-46fd-baaf-c96a99296a00",
        "colab": {
          "base_uri": "https://localhost:8080/",
          "height": 476
        }
      },
      "source": [
        "#25 PF que mais receberam pagamentos da FCPC\n",
        "total_pf_s =  df.query(\"tipo == 'PF'\").groupby(['CPF_CNPJ', 'NOME'])['valor_numerico'].sum()\n",
        "total_pf_s.sort_values(ascending=False).head(25)"
      ],
      "execution_count": 94,
      "outputs": [
        {
          "output_type": "execute_result",
          "data": {
            "text/plain": [
              "CPF_CNPJ        NOME                               \n",
              "***.488.873-**  ADRIANO CESAR PRADO CYSNE             $1,624,238.71\n",
              "***.966.093-**  FAUSTO NILO COSTA JUNIOR              $1,475,056.29\n",
              "***.374.043-**  DAMIAO CARNEIRO DE ALMEIDA            $1,401,243.11\n",
              "***.162.073-**  ANTONIO DE BARROS SERRA               $1,366,082.34\n",
              "***.775.263-**  JAVAM DE CASTRO MACHADO               $1,264,069.05\n",
              "***.774.083-**  RAQUEL DE MELO ROLIM                  $1,263,226.04\n",
              "***.096.683-**  MARCELO ARAUJO LIMA                   $1,212,615.61\n",
              "***.501.533-**  FRANCISCO RODRIGO PORTO CAVALCANTI    $1,190,588.69\n",
              "***.839.713-**  FRANCISCO EDUARDO ARAUJO SOARES       $1,175,651.56\n",
              "***.725.698-**  LEONILDO ADAO CHRISTOFOLETTI          $1,151,452.15\n",
              "***.311.163-**  LUIZ ROBERTO DE OLIVEIRA              $1,075,104.26\n",
              "***.541.043-**  MARCOS AURELIO FROTA VASCONCELOS      $1,056,103.62\n",
              "***.174.183-**  FRANCISCO VANILSON PINHEIRO LEITE     $1,050,733.77\n",
              "***.830.183-**  ROSSANA MARIA DE CASTRO ANDRADE       $1,040,057.06\n",
              "***.034.523-**  HELANO DE SOUSA CASTRO                $1,008,796.50\n",
              "***.262.273-**  JILSEPH LOPES DA SILVA                $1,002,998.06\n",
              "***.468.963-**  FRANCISCO SULIANO MESQUITA DE PAULA     $983,810.48\n",
              "***.577.653-**  NARODYNAIA DA COSTA RIBEIRO             $983,646.30\n",
              "***.402.813-**  ALYSSON BANDEIRA GURGEL                 $979,312.42\n",
              "***.219.163-**  DIEGO RODRIGUES TAVARES                 $972,584.72\n",
              "***.809.033-**  CLAUDIO ROBERTO FLORENCIO LIMA          $947,210.66\n",
              "***.616.543-**  BRUNO SABOIA ARAGAO                     $945,182.19\n",
              "***.206.183-**  ANTONIO SERGIO BEZERRA SOMBRA           $932,546.75\n",
              "***.832.163-**  JOSE IVAN FERREIRA LUZ                  $928,281.68\n",
              "***.216.183-**  RICARDO JARDEL NUNES DA SILVEIRA        $918,636.62\n",
              "Name: valor_numerico, dtype: float64"
            ]
          },
          "metadata": {
            "tags": []
          },
          "execution_count": 94
        }
      ]
    },
    {
      "cell_type": "code",
      "metadata": {
        "id": "LrjLSp-qMeWO",
        "colab_type": "code",
        "outputId": "f4975ea3-970e-4224-b375-4f9fa70ecf0a",
        "colab": {
          "base_uri": "https://localhost:8080/",
          "height": 605
        }
      },
      "source": [
        "total_pf_s.sort_values(ascending=False).head(10).plot(kind='bar')\n",
        "plt.ticklabel_format(axis=\"y\", style=\"sci\", scilimits=(3,3)) #Em milhares\n",
        "plt.show()"
      ],
      "execution_count": 95,
      "outputs": [
        {
          "output_type": "display_data",
          "data": {
            "image/png": "[encoded data removed]",
            "text/plain": [
              "<Figure size 1440x504 with 1 Axes>"
            ]
          },
          "metadata": {
            "tags": [],
            "needs_background": "light"
          }
        }
      ]
    },
    {
      "cell_type": "markdown",
      "metadata": {
        "id": "g_fLJHYO9Ms5",
        "colab_type": "text"
      },
      "source": [
        "## Análise por Projeto"
      ]
    },
    {
      "cell_type": "code",
      "metadata": {
        "id": "Fwkd6VlO9PVC",
        "colab_type": "code",
        "outputId": "e109074f-b0ab-4068-ce4b-931eccd5bfee",
        "colab": {
          "base_uri": "https://localhost:8080/",
          "height": 476
        }
      },
      "source": [
        "#25 projetos com maior custo da FCPC\n",
        "total_projeto_s =  df.groupby(['PROJETO'])['valor_numerico'].sum()\n",
        "total_projeto_s.sort_values(ascending=False).head(25)"
      ],
      "execution_count": 96,
      "outputs": [
        {
          "output_type": "execute_result",
          "data": {
            "text/plain": [
              "PROJETO\n",
              "0101 - FCPC                                                                           $53,148,187.16\n",
              "2607 - CT.BNDES/UFC/FCPC - CONSTRUÃ‡ÃƒO DO CPDM                                       $27,089,242.89\n",
              "1089 - RESCISAO CONTRATUAL                                                            $18,121,744.06\n",
              "0104 - FCPC - 124.176-1 - ENCARGOS                                                    $14,145,768.86\n",
              "2924 - CT - UFC/FCPC - IMPLANTACAO E OFERTA DOS CURSOS DE GRADUACAO DA UAB/UFC 2012   $11,796,084.99\n",
              "2155 - CV - FUNCAP/FCPC-09/2008 - PROGRAMA PRONEX                                      $9,659,882.70\n",
              "2209 - CT - UFC/FCPC-INFRA-ESTRUTURA DAS BIBLIOTECAS DE APOIO PRESENCIAL               $9,604,552.65\n",
              "2102 - CV - BB/UFC/FCPC-APOIO AS ATIVIDADES DA UFC                                     $9,321,327.90\n",
              "3143 - TC - LG/UFC/FCPC - MOBILE, TOOLS & CAS                                          $8,894,962.49\n",
              "3253 - TC. LG/UFC/FCPC - MOBILE, TOOLS & CAS                                           $7,977,358.70\n",
              "2922 - CT.PETROBRAS - PROJETO AMBES                                                    $7,457,996.07\n",
              "3052 - TERMO DE COOPERACAO LG/UFC/FCPC - PT 12                                         $6,579,715.48\n",
              "3098 - CT. FCPC/IPLANFOR - PLANO ESTRATÉGICO FORTALEZA 2040                            $6,560,381.11\n",
              "1717 - CV - FUNCAP/FCPC-027/2006 - APOIO DE INFRA ESTRUTURA LABORATORIAL               $5,592,232.01\n",
              "2326 - CV - FINEP/FCPC-CTINFRA - 01/2008 -MODERNIZACAO E CONS.DA INFRA-EST.UFC         $5,258,022.41\n",
              "2971 - CV - LG/UFC/FCPC - TERMO ADITIVO NÂº 12                                         $5,240,662.39\n",
              "3053 - TERMO DE COOPERACAO LG/UFC/FCPC - PT 13                                         $5,051,492.05\n",
              "2922 - CT - PETROBRAS - PROJETO AMBES                                                  $4,976,992.54\n",
              "3464 - TC. LG/UFC/FCPC - AVANTTE                                                       $4,589,514.38\n",
              "2955 - CV - LG/UFC/FCPC - PLANO DE TRABALHO 10                                         $4,544,046.93\n",
              "2585 - CV.FINEP/UFC/FCPC-CTINFRA 09                                                    $4,460,067.06\n",
              "1961 - CT - UFC/FCPC - REUNI                                                           $4,242,257.43\n",
              "3022 - CT.UFC/FCPC - CURSO DE ESPECIALIZAÇÃO EM SAUDE DA FAMILIA                       $4,196,494.34\n",
              "2151 - CV - FUNCAP/FCPC- 03/2008 - SEGURANCA PUBLICA                                   $4,029,223.59\n",
              "3090 - UFC/FCPC - THE NETWORK - ENCONTRO EDUCACIONAL INTERNACIONAL                     $3,826,945.86\n",
              "Name: valor_numerico, dtype: float64"
            ]
          },
          "metadata": {
            "tags": []
          },
          "execution_count": 96
        }
      ]
    },
    {
      "cell_type": "markdown",
      "metadata": {
        "id": "8C2v_Oq89xY0",
        "colab_type": "text"
      },
      "source": [
        "## Análise PMF - Prefeitura de Fortaleza\n",
        "\n",
        "A PMF contrata a FCPC por dispensa ou por meio de celebração de convênio.\n",
        "\n",
        "Segundo o Portal da Transparência da Prefeitura de Fortaleza, as seguintes despesas foram realizadas com a fundação:\n",
        "\n",
        "\n",
        "```\n",
        "*   2010  R$ 11.798.270,08\n",
        "*   2011  R$ 3.464.261,97\n",
        "*   2012  R$ 1.601.679,55\n",
        "*   2013  R$ 1.127.080,15\n",
        "*   2014  R$ 4.016.998,66\n",
        "*   2015  R$ 6.245.564,02\n",
        "*   2016  R$ 5.407.900,24\n",
        "*   2017  R$ 279.892,00\n",
        "*   2018  R$ 4.008.040,58\n",
        "*   2019  R$ 511.229,57\n",
        "*   2020  R$ 279.892,00\n",
        "\n",
        "TOTAL = R$ 38.740.808,82\n",
        "```\n",
        "\n",
        "Fonte: https://transparencia.fortaleza.ce.gov.br/\n",
        "Data: 02/05/2020\n",
        "\n",
        "\n",
        "Há pagamentos para PJ e PF em projetos envolvendo a PMF e a FCPC. A PMF contrata a FCPC por Dispensa de Licitação, a qual, por sua vez, contrata PFs e PJs para execução dos trabalhos.\n",
        "\n",
        "Essa hipótese de Dispensa de Licitação está prevista na Lei 8666/93, Art. 24:\n",
        "\n",
        "```\n",
        "# XIII - na contratação de instituição brasileira incumbida regimental ou estatutariamente da pesquisa, do ensino ou do desenvolvimento institucional, ou de instituição dedicada à recuperação social do preso, desde que a contratada detenha inquestionável reputação ético-profissional e não tenha fins lucrativos;\n",
        "```\n",
        "\n",
        "A Fundação, por sua vez, não é obrigada a licitar, uma vez que não integra a Administração Pública. No âmbito federal, são exigidos apenas a realização de cotação prévia de preços e o respeito aos princípios da impessoalidade, moralidade e economicidade.\n",
        "\n",
        "Fonte: https://www.conjur.com.br/2017-mai-17/entidade-fins-lucrativos-nao-obrigada-licitacao-agu\n",
        "\n",
        "Segundo súmula do TCU sobre o assunto:\n",
        "\n",
        "```\n",
        "# SÚMULA Nº 250\n",
        "A contratação de instituição sem fins lucrativos, com dispensa de licitação, com fulcro no art. 24, inciso XIII, da Lei n.º 8.666/93, somente\n",
        "é admitida nas hipóteses em que houver nexo efetivo entre o mencionado dispositivo, a natureza da instituição e o objeto contratado,\n",
        "além de comprovada a compatibilidade com os preços de mercado. \n",
        "```\n",
        "Fonte: https://portal.tcu.gov.br/lumis/portal/file/fileDownload.jsp?fileId=8A8182A25753C20F0157679AA5617071&inline=1\n",
        "\n",
        "\n",
        "Há processo em curso no TCE-CE questionando contratação do IPLANFOR com a FCPC:\n",
        "\n",
        "Processo: PROCESSO: 35581/2018-8 - Prestação de Contas - Exercício 2014\n",
        "\n",
        "Fonte: blob:https://www.tce.ce.gov.br/4c2a20b8-c187-4331-8497-69f39c918293"
      ]
    },
    {
      "cell_type": "code",
      "metadata": {
        "id": "palP5Sy2901r",
        "colab_type": "code",
        "outputId": "46d7bf66-478b-4f3e-86e1-0e01d0d411f8",
        "colab": {
          "base_uri": "https://localhost:8080/",
          "height": 1000
        }
      },
      "source": [
        "total_projeto_df = total_projeto_s.to_frame();\n",
        "total_projeto_df = total_projeto_df.reset_index()\n",
        "total_projeto_df.query(\"PROJETO.str.contains('PMF|IPLANFOR|HABITAFOR|SECULTFOR|SDE|SECRETARIA ESPORTE', case=False)\", engine='python').sort_values('valor_numerico', ascending=False)\n",
        "#Há dificuldades para determinar quais os projetos da PMF. Busca em string."
      ],
      "execution_count": 97,
      "outputs": [
        {
          "output_type": "execute_result",
          "data": {
            "text/html": [
              "<div>\n",
              "<style scoped>\n",
              "    .dataframe tbody tr th:only-of-type {\n",
              "        vertical-align: middle;\n",
              "    }\n",
              "\n",
              "    .dataframe tbody tr th {\n",
              "        vertical-align: top;\n",
              "    }\n",
              "\n",
              "    .dataframe thead th {\n",
              "        text-align: right;\n",
              "    }\n",
              "</style>\n",
              "<table border=\"1\" class=\"dataframe\">\n",
              "  <thead>\n",
              "    <tr style=\"text-align: right;\">\n",
              "      <th></th>\n",
              "      <th>PROJETO</th>\n",
              "      <th>valor_numerico</th>\n",
              "    </tr>\n",
              "  </thead>\n",
              "  <tbody>\n",
              "    <tr>\n",
              "      <th>1715</th>\n",
              "      <td>3098 - CT. FCPC/IPLANFOR - PLANO ESTRATÉGICO FORTALEZA 2040</td>\n",
              "      <td>$6,560,381.11</td>\n",
              "    </tr>\n",
              "    <tr>\n",
              "      <th>1713</th>\n",
              "      <td>3098 - CT - FCPC/IPLANFOR - PLANO ESTRATÉGICO FORTALEZA 2040</td>\n",
              "      <td>$3,115,891.68</td>\n",
              "    </tr>\n",
              "    <tr>\n",
              "      <th>933</th>\n",
              "      <td>2427 - CV - HABITAFOR/FCPC - 01/2010</td>\n",
              "      <td>$3,088,039.33</td>\n",
              "    </tr>\n",
              "    <tr>\n",
              "      <th>696</th>\n",
              "      <td>2228 - CV -  PMF/FCPC - HABITAFOR</td>\n",
              "      <td>$2,428,915.55</td>\n",
              "    </tr>\n",
              "    <tr>\n",
              "      <th>2047</th>\n",
              "      <td>3399 - CT.IPLANFOR/FCPC - FORTALEZA 2040 - PLANOS ESPECIFICOS</td>\n",
              "      <td>$2,330,833.54</td>\n",
              "    </tr>\n",
              "    <tr>\n",
              "      <th>1063</th>\n",
              "      <td>2548 - CV - HABITAFOR 03/2010-PLANEJAMENTO E VIABILIZACAO DE PROJETOS</td>\n",
              "      <td>$2,302,924.71</td>\n",
              "    </tr>\n",
              "    <tr>\n",
              "      <th>442</th>\n",
              "      <td>1645 - CV - FCPC/HABITAFOR-F.HABIT.DE FORTALEZA</td>\n",
              "      <td>$1,707,058.78</td>\n",
              "    </tr>\n",
              "    <tr>\n",
              "      <th>697</th>\n",
              "      <td>2228 - CV - PMF/FCPC - HABITAFOR</td>\n",
              "      <td>$862,835.80</td>\n",
              "    </tr>\n",
              "    <tr>\n",
              "      <th>2012</th>\n",
              "      <td>3365 - CT. IPLANFOR/FCPC - FORTALEZA 2040 - FASE 2</td>\n",
              "      <td>$761,304.13</td>\n",
              "    </tr>\n",
              "    <tr>\n",
              "      <th>580</th>\n",
              "      <td>2053 - CV - SECRETARIA ESPORTE/FCPC - VILAS OLIMPICAS CONJ.CEARA/GENIBAU</td>\n",
              "      <td>$674,860.99</td>\n",
              "    </tr>\n",
              "    <tr>\n",
              "      <th>581</th>\n",
              "      <td>2054 - CV - SECRETARIA ESPORTE/FCPC - VILAS OLIMPICAS MESSEJANA/CASTELAO</td>\n",
              "      <td>$590,572.88</td>\n",
              "    </tr>\n",
              "    <tr>\n",
              "      <th>979</th>\n",
              "      <td>2474 - CT - PMF/CMF/PACTO POR FORTALEZA</td>\n",
              "      <td>$520,042.84</td>\n",
              "    </tr>\n",
              "    <tr>\n",
              "      <th>365</th>\n",
              "      <td>1544 - CV -  SDE/FCPC/JOVEM  AMBIENTALISTA</td>\n",
              "      <td>$316,695.85</td>\n",
              "    </tr>\n",
              "    <tr>\n",
              "      <th>513</th>\n",
              "      <td>1814 - CT - PMF/FCPC - ETUFOR 014/2007</td>\n",
              "      <td>$299,344.77</td>\n",
              "    </tr>\n",
              "    <tr>\n",
              "      <th>1048</th>\n",
              "      <td>2535 - CV - HABITAFOR/FCPC-02/2010 -PLANO MUNIC.HABITACAO</td>\n",
              "      <td>$211,484.48</td>\n",
              "    </tr>\n",
              "    <tr>\n",
              "      <th>871</th>\n",
              "      <td>2373 - CV - SECULTFOR/FCPC-MAPEAMENTO CULTURAL DO M. DE FORTALEZA</td>\n",
              "      <td>$206,620.10</td>\n",
              "    </tr>\n",
              "    <tr>\n",
              "      <th>765</th>\n",
              "      <td>2286 - CV -  SDE/PMF/FCPC - COZINHA POPULAR DE FORTALEZA</td>\n",
              "      <td>$121,966.35</td>\n",
              "    </tr>\n",
              "    <tr>\n",
              "      <th>1714</th>\n",
              "      <td>3098 - CT. FCPC/IPLANFOR - PLANO ESTRATÃ‰GICO FORTALEZA 2040</td>\n",
              "      <td>$96,460.48</td>\n",
              "    </tr>\n",
              "    <tr>\n",
              "      <th>542</th>\n",
              "      <td>1926 - CT - PMF/FCPC- HABITAFOR - CURSOS DE CAPACITACAO</td>\n",
              "      <td>$77,310.70</td>\n",
              "    </tr>\n",
              "    <tr>\n",
              "      <th>366</th>\n",
              "      <td>1545 - CV - SDE/FCPC/GERACAO DE TRABALHOS</td>\n",
              "      <td>$76,019.60</td>\n",
              "    </tr>\n",
              "    <tr>\n",
              "      <th>859</th>\n",
              "      <td>2365 - CV - HABITAFOR/FCPC - 4 CONFERENCIA DA CIDADE DE FORTALEZA</td>\n",
              "      <td>$40,610.85</td>\n",
              "    </tr>\n",
              "    <tr>\n",
              "      <th>462</th>\n",
              "      <td>1664 - CT - SDE/FCPC-DESEMPREGO SUBEMPREGO</td>\n",
              "      <td>$39,630.96</td>\n",
              "    </tr>\n",
              "    <tr>\n",
              "      <th>856</th>\n",
              "      <td>2363 - CV - SDE/FCPC - FEIRAS DE FORTALEZA</td>\n",
              "      <td>$35,706.33</td>\n",
              "    </tr>\n",
              "    <tr>\n",
              "      <th>870</th>\n",
              "      <td>2373 - CV -  SECULTFOR/FCPC-MAPEAMENTO CULTURAL DO M. DE FORTALEZA</td>\n",
              "      <td>$28,800.00</td>\n",
              "    </tr>\n",
              "    <tr>\n",
              "      <th>872</th>\n",
              "      <td>2374 - CV - SECULTFOR/FCPC-FORTALEZA CIDADE CRIATIVA EM MUSICA</td>\n",
              "      <td>$26,535.87</td>\n",
              "    </tr>\n",
              "    <tr>\n",
              "      <th>519</th>\n",
              "      <td>1844 - CARTA FCPC -PMF - PAULO MAMEDE</td>\n",
              "      <td>$15,633.09</td>\n",
              "    </tr>\n",
              "    <tr>\n",
              "      <th>402</th>\n",
              "      <td>1588 - CT - PMF/FCPC/RESIDENCIA MEDICA</td>\n",
              "      <td>$5,406.00</td>\n",
              "    </tr>\n",
              "    <tr>\n",
              "      <th>858</th>\n",
              "      <td>2365 - CV -  HABITAFOR/FCPC - 4 CONFERENCIA DA CIDADE DE FORTALEZA</td>\n",
              "      <td>$4,452.37</td>\n",
              "    </tr>\n",
              "    <tr>\n",
              "      <th>527</th>\n",
              "      <td>1887 - CV - PMF/SMS/UFC/FCPC - ODONTO SUS</td>\n",
              "      <td>$2,619.64</td>\n",
              "    </tr>\n",
              "    <tr>\n",
              "      <th>855</th>\n",
              "      <td>2363 - CV -  SDE/FCPC - FEIRAS DE FORTALEZA</td>\n",
              "      <td>$2,400.00</td>\n",
              "    </tr>\n",
              "    <tr>\n",
              "      <th>391</th>\n",
              "      <td>1575 - CV - SDE/FCPC/HORTAS ESCOLARES</td>\n",
              "      <td>$1,992.59</td>\n",
              "    </tr>\n",
              "  </tbody>\n",
              "</table>\n",
              "</div>"
            ],
            "text/plain": [
              "                                                                       PROJETO  valor_numerico\n",
              "1715               3098 - CT. FCPC/IPLANFOR - PLANO ESTRATÉGICO FORTALEZA 2040   $6,560,381.11\n",
              "1713              3098 - CT - FCPC/IPLANFOR - PLANO ESTRATÉGICO FORTALEZA 2040   $3,115,891.68\n",
              "933                                       2427 - CV - HABITAFOR/FCPC - 01/2010   $3,088,039.33\n",
              "696                                          2228 - CV -  PMF/FCPC - HABITAFOR   $2,428,915.55\n",
              "2047             3399 - CT.IPLANFOR/FCPC - FORTALEZA 2040 - PLANOS ESPECIFICOS   $2,330,833.54\n",
              "1063     2548 - CV - HABITAFOR 03/2010-PLANEJAMENTO E VIABILIZACAO DE PROJETOS   $2,302,924.71\n",
              "442                            1645 - CV - FCPC/HABITAFOR-F.HABIT.DE FORTALEZA   $1,707,058.78\n",
              "697                                           2228 - CV - PMF/FCPC - HABITAFOR     $862,835.80\n",
              "2012                        3365 - CT. IPLANFOR/FCPC - FORTALEZA 2040 - FASE 2     $761,304.13\n",
              "580   2053 - CV - SECRETARIA ESPORTE/FCPC - VILAS OLIMPICAS CONJ.CEARA/GENIBAU     $674,860.99\n",
              "581   2054 - CV - SECRETARIA ESPORTE/FCPC - VILAS OLIMPICAS MESSEJANA/CASTELAO     $590,572.88\n",
              "979                                    2474 - CT - PMF/CMF/PACTO POR FORTALEZA     $520,042.84\n",
              "365                                 1544 - CV -  SDE/FCPC/JOVEM  AMBIENTALISTA     $316,695.85\n",
              "513                                     1814 - CT - PMF/FCPC - ETUFOR 014/2007     $299,344.77\n",
              "1048                 2535 - CV - HABITAFOR/FCPC-02/2010 -PLANO MUNIC.HABITACAO     $211,484.48\n",
              "871          2373 - CV - SECULTFOR/FCPC-MAPEAMENTO CULTURAL DO M. DE FORTALEZA     $206,620.10\n",
              "765                   2286 - CV -  SDE/PMF/FCPC - COZINHA POPULAR DE FORTALEZA     $121,966.35\n",
              "1714              3098 - CT. FCPC/IPLANFOR - PLANO ESTRATÃ‰GICO FORTALEZA 2040      $96,460.48\n",
              "542                    1926 - CT - PMF/FCPC- HABITAFOR - CURSOS DE CAPACITACAO      $77,310.70\n",
              "366                                  1545 - CV - SDE/FCPC/GERACAO DE TRABALHOS      $76,019.60\n",
              "859          2365 - CV - HABITAFOR/FCPC - 4 CONFERENCIA DA CIDADE DE FORTALEZA      $40,610.85\n",
              "462                                 1664 - CT - SDE/FCPC-DESEMPREGO SUBEMPREGO      $39,630.96\n",
              "856                                 2363 - CV - SDE/FCPC - FEIRAS DE FORTALEZA      $35,706.33\n",
              "870         2373 - CV -  SECULTFOR/FCPC-MAPEAMENTO CULTURAL DO M. DE FORTALEZA      $28,800.00\n",
              "872             2374 - CV - SECULTFOR/FCPC-FORTALEZA CIDADE CRIATIVA EM MUSICA      $26,535.87\n",
              "519                                      1844 - CARTA FCPC -PMF - PAULO MAMEDE      $15,633.09\n",
              "402                                     1588 - CT - PMF/FCPC/RESIDENCIA MEDICA       $5,406.00\n",
              "858         2365 - CV -  HABITAFOR/FCPC - 4 CONFERENCIA DA CIDADE DE FORTALEZA       $4,452.37\n",
              "527                                  1887 - CV - PMF/SMS/UFC/FCPC - ODONTO SUS       $2,619.64\n",
              "855                                2363 - CV -  SDE/FCPC - FEIRAS DE FORTALEZA       $2,400.00\n",
              "391                                      1575 - CV - SDE/FCPC/HORTAS ESCOLARES       $1,992.59"
            ]
          },
          "metadata": {
            "tags": []
          },
          "execution_count": 97
        }
      ]
    },
    {
      "cell_type": "markdown",
      "metadata": {
        "id": "khFHEerJBweg",
        "colab_type": "text"
      },
      "source": [
        "## Análise IPLANFOR"
      ]
    },
    {
      "cell_type": "code",
      "metadata": {
        "id": "hkjuUrAlB1E3",
        "colab_type": "code",
        "outputId": "18cdee77-a1a9-4784-8343-fddf222403fd",
        "colab": {
          "base_uri": "https://localhost:8080/",
          "height": 85
        }
      },
      "source": [
        "#Total pago de projetos do IPLANFOR para PF e PJ\n",
        "df.dropna(subset=['PROJETO']).query(\"PROJETO.str.contains('IPLANFOR', case=False)\", engine='python').groupby('tipo')['valor_numerico'].sum()"
      ],
      "execution_count": 98,
      "outputs": [
        {
          "output_type": "execute_result",
          "data": {
            "text/plain": [
              "tipo\n",
              "PF   $11,851,091.85\n",
              "PJ    $1,013,779.09\n",
              "Name: valor_numerico, dtype: float64"
            ]
          },
          "metadata": {
            "tags": []
          },
          "execution_count": 98
        }
      ]
    },
    {
      "cell_type": "code",
      "metadata": {
        "id": "pEal8rVVhxaX",
        "colab_type": "code",
        "outputId": "cb966543-e451-4418-d275-4c91b871adb2",
        "colab": {
          "base_uri": "https://localhost:8080/",
          "height": 391
        }
      },
      "source": [
        "total_cpf_cnpj_iplanfor_s =  df.dropna(subset=['PROJETO']).query(\"PROJETO.str.contains('IPLANFOR', case=False)\", engine='python').groupby(['tipo','CPF_CNPJ', 'NOME'])['valor_numerico'].sum()\n",
        "total_cpf_cnpj_iplanfor_s.sort_values(ascending=False).head(20)\n"
      ],
      "execution_count": 99,
      "outputs": [
        {
          "output_type": "execute_result",
          "data": {
            "text/plain": [
              "tipo  CPF_CNPJ            NOME                                  \n",
              "PF    ***.966.093-**      FAUSTO NILO COSTA JUNIOR                 $1,474,256.29\n",
              "      ***.839.713-**      FRANCISCO EDUARDO ARAUJO SOARES          $1,175,651.56\n",
              "      ***.468.963-**      FRANCISCO SULIANO MESQUITA DE PAULA        $983,810.48\n",
              "      ***.457.143-**      DELBERG PONCE DE LEON                      $611,420.88\n",
              "      ***.285.893-**      PEDRO ESDRAS FIGUEIREDO GUIMARAES          $486,069.04\n",
              "      ***.254.288-**      ALEXANDER DE SOUZA LARANJEIRA              $467,384.42\n",
              "      ***.332.674-**      SERGIO JOSE CALVALCANTI BUARQUE            $457,303.92\n",
              "      ***.140.963-**      FRANCISCO QUEIROZ D. NETO                  $363,124.86\n",
              "      ***.010.743-**      BRUNO BARROS LEAL DE CARVALHO FERREIRA     $356,292.76\n",
              "      ***.821.003-**      RODRIGO PONCE DE LEON                      $323,897.48\n",
              "      ***.660.063-**      FERGUS ARAUJO GALAS                        $285,171.00\n",
              "      ***.823.803-**      MARINA PARENTE COSTA                       $261,804.99\n",
              "      ***.202.323-**      EXPEDITO JOSE DE SA PARENTE JUNIOR         $208,410.00\n",
              "      ***.853.394-**      PABLO RIBEIRO FRANCELINO                   $189,609.81\n",
              "      ***.172.788-**      ROSANA GARJULLI SALES COSTA                $172,570.00\n",
              "      ***.129.163-**      FERNANDO FARIAS BEZERRA                    $166,755.08\n",
              "PJ    ***.12.043/****-66  KFC ENGENHARIA E PROJETOS LTDA ME          $148,500.00\n",
              "PF    ***.436.603-**      MARIANA QUEZADO COSTA LIMA                 $146,040.45\n",
              "      ***.905.808-**      FRANCISCO EDILSON ALVES DE OLIVEIRA        $141,213.39\n",
              "      ***.535.503-**      FRANCELINO FRANCO LEITE DE M. SOUSA        $127,069.65\n",
              "Name: valor_numerico, dtype: float64"
            ]
          },
          "metadata": {
            "tags": []
          },
          "execution_count": 99
        }
      ]
    },
    {
      "cell_type": "markdown",
      "metadata": {
        "id": "zeoeD76Ji_sp",
        "colab_type": "text"
      },
      "source": [
        "Observa-se que os pagamentos dos projetos IPLANFOR se destacam por seus valores expressivos. \n",
        "\n",
        "Por exemplo, a quantia recebida por FAUSTO NILO COSTA JUNIOR nos projetos IPLANFOR o colocam em 2º do ranking total da história das despesas da FCPC. \n",
        "\n",
        "Da mesma forma, a quantia recebida por FRANCISCO EDUARDO ARAUJO SOARES nos projetos IPLANFOR o colocam no top 10 dos maiores pagamentos da história da FCPC."
      ]
    },
    {
      "cell_type": "markdown",
      "metadata": {
        "id": "BoPyVALU48JO",
        "colab_type": "text"
      },
      "source": [
        "## Análise histórica\n",
        "\n",
        "Preparação de um dataframe com \n",
        "tipo, CPF_CNPJ, NOME, qtd_pagamentos, valor_total, tempo, max_data, min_data"
      ]
    },
    {
      "cell_type": "code",
      "metadata": {
        "id": "SOYybT0EuOf5",
        "colab_type": "code",
        "colab": {
          "base_uri": "https://localhost:8080/",
          "height": 419
        },
        "outputId": "75990077-92cd-4670-dd78-cb2b5b00b78d"
      },
      "source": [
        "cpf_cnpj_nome_df = df.groupby(['tipo','CPF_CNPJ', 'NOME'])['data_limpa'].agg(['count', 'min', 'max'])\n",
        "cpf_cnpj_nome_df = cpf_cnpj_nome_df.reset_index()\n",
        "cpf_cnpj_nome_df['tempo'] = (cpf_cnpj_nome_df['max'] - cpf_cnpj_nome_df['min']) / np.timedelta64(1, 'M')\n",
        "valor_total_df = df.groupby(['tipo','CPF_CNPJ', 'NOME'])['valor_numerico'].sum()\n",
        "cpf_cnpj_nome_df = cpf_cnpj_nome_df.join(valor_total_df, on=['tipo','CPF_CNPJ', 'NOME'])\n",
        "cpf_cnpj_nome_df"
      ],
      "execution_count": 119,
      "outputs": [
        {
          "output_type": "execute_result",
          "data": {
            "text/html": [
              "<div>\n",
              "<style scoped>\n",
              "    .dataframe tbody tr th:only-of-type {\n",
              "        vertical-align: middle;\n",
              "    }\n",
              "\n",
              "    .dataframe tbody tr th {\n",
              "        vertical-align: top;\n",
              "    }\n",
              "\n",
              "    .dataframe thead th {\n",
              "        text-align: right;\n",
              "    }\n",
              "</style>\n",
              "<table border=\"1\" class=\"dataframe\">\n",
              "  <thead>\n",
              "    <tr style=\"text-align: right;\">\n",
              "      <th></th>\n",
              "      <th>tipo</th>\n",
              "      <th>CPF_CNPJ</th>\n",
              "      <th>NOME</th>\n",
              "      <th>count</th>\n",
              "      <th>min</th>\n",
              "      <th>max</th>\n",
              "      <th>tempo</th>\n",
              "      <th>valor_numerico</th>\n",
              "    </tr>\n",
              "  </thead>\n",
              "  <tbody>\n",
              "    <tr>\n",
              "      <th>0</th>\n",
              "      <td>PF</td>\n",
              "      <td>***.000.033-**</td>\n",
              "      <td>PAULO ROBERTO DE QUEIROZ DANTAS</td>\n",
              "      <td>1</td>\n",
              "      <td>2006-07-28</td>\n",
              "      <td>2006-07-28</td>\n",
              "      <td>$0.00</td>\n",
              "      <td>$250.00</td>\n",
              "    </tr>\n",
              "    <tr>\n",
              "      <th>1</th>\n",
              "      <td>PF</td>\n",
              "      <td>***.000.053-**</td>\n",
              "      <td>DANILO GOMES VIANA</td>\n",
              "      <td>2</td>\n",
              "      <td>2018-08-23</td>\n",
              "      <td>2018-11-22</td>\n",
              "      <td>$2.99</td>\n",
              "      <td>$190.48</td>\n",
              "    </tr>\n",
              "    <tr>\n",
              "      <th>2</th>\n",
              "      <td>PF</td>\n",
              "      <td>***.000.093-**</td>\n",
              "      <td>IARA DA SILVA NOGUEIRA</td>\n",
              "      <td>1</td>\n",
              "      <td>2018-11-23</td>\n",
              "      <td>2018-11-23</td>\n",
              "      <td>$0.00</td>\n",
              "      <td>$95.24</td>\n",
              "    </tr>\n",
              "    <tr>\n",
              "      <th>3</th>\n",
              "      <td>PF</td>\n",
              "      <td>***.000.103-**</td>\n",
              "      <td>REGILDA RODRIGUES DE SOUSA</td>\n",
              "      <td>9</td>\n",
              "      <td>2009-09-18</td>\n",
              "      <td>2010-11-22</td>\n",
              "      <td>$14.13</td>\n",
              "      <td>$1,920.00</td>\n",
              "    </tr>\n",
              "    <tr>\n",
              "      <th>4</th>\n",
              "      <td>PF</td>\n",
              "      <td>***.000.123-**</td>\n",
              "      <td>GRACE BASTOS BARBOSA</td>\n",
              "      <td>3</td>\n",
              "      <td>2015-04-09</td>\n",
              "      <td>2015-10-09</td>\n",
              "      <td>$6.01</td>\n",
              "      <td>$57,600.00</td>\n",
              "    </tr>\n",
              "    <tr>\n",
              "      <th>...</th>\n",
              "      <td>...</td>\n",
              "      <td>...</td>\n",
              "      <td>...</td>\n",
              "      <td>...</td>\n",
              "      <td>...</td>\n",
              "      <td>...</td>\n",
              "      <td>...</td>\n",
              "      <td>...</td>\n",
              "    </tr>\n",
              "    <tr>\n",
              "      <th>32697</th>\n",
              "      <td>PJ</td>\n",
              "      <td>NÃO SE APLICA</td>\n",
              "      <td>VETEC - QUIMICA FINA LTDA</td>\n",
              "      <td>2</td>\n",
              "      <td>2013-08-08</td>\n",
              "      <td>2013-08-08</td>\n",
              "      <td>$0.00</td>\n",
              "      <td>$1,850.00</td>\n",
              "    </tr>\n",
              "    <tr>\n",
              "      <th>32698</th>\n",
              "      <td>PJ</td>\n",
              "      <td>NÃO SE APLICA</td>\n",
              "      <td>VIANA PRESTACAO DE SERVICOS DE</td>\n",
              "      <td>2</td>\n",
              "      <td>2012-10-02</td>\n",
              "      <td>2012-12-21</td>\n",
              "      <td>$2.63</td>\n",
              "      <td>$45,778.00</td>\n",
              "    </tr>\n",
              "    <tr>\n",
              "      <th>32699</th>\n",
              "      <td>PJ</td>\n",
              "      <td>NÃO SE APLICA</td>\n",
              "      <td>VIRTUOUS TECN. DA INFORMACAO L</td>\n",
              "      <td>1</td>\n",
              "      <td>2012-04-04</td>\n",
              "      <td>2012-04-04</td>\n",
              "      <td>$0.00</td>\n",
              "      <td>$276.20</td>\n",
              "    </tr>\n",
              "    <tr>\n",
              "      <th>32700</th>\n",
              "      <td>PJ</td>\n",
              "      <td>NÃO SE APLICA</td>\n",
              "      <td>WALY INDUSTRIA DE CONFECCOES L</td>\n",
              "      <td>2</td>\n",
              "      <td>2010-06-29</td>\n",
              "      <td>2010-07-06</td>\n",
              "      <td>$0.23</td>\n",
              "      <td>$2,400.00</td>\n",
              "    </tr>\n",
              "    <tr>\n",
              "      <th>32701</th>\n",
              "      <td>PJ</td>\n",
              "      <td>NÃO SE APLICA</td>\n",
              "      <td>WATERS CORPORATION</td>\n",
              "      <td>3</td>\n",
              "      <td>2012-05-08</td>\n",
              "      <td>2014-05-30</td>\n",
              "      <td>$24.71</td>\n",
              "      <td>$451,367.96</td>\n",
              "    </tr>\n",
              "  </tbody>\n",
              "</table>\n",
              "<p>32702 rows × 8 columns</p>\n",
              "</div>"
            ],
            "text/plain": [
              "      tipo        CPF_CNPJ  ...  tempo  valor_numerico\n",
              "0       PF  ***.000.033-**  ...  $0.00         $250.00\n",
              "1       PF  ***.000.053-**  ...  $2.99         $190.48\n",
              "2       PF  ***.000.093-**  ...  $0.00          $95.24\n",
              "3       PF  ***.000.103-**  ... $14.13       $1,920.00\n",
              "4       PF  ***.000.123-**  ...  $6.01      $57,600.00\n",
              "...    ...             ...  ...    ...             ...\n",
              "32697   PJ   NÃO SE APLICA  ...  $0.00       $1,850.00\n",
              "32698   PJ   NÃO SE APLICA  ...  $2.63      $45,778.00\n",
              "32699   PJ   NÃO SE APLICA  ...  $0.00         $276.20\n",
              "32700   PJ   NÃO SE APLICA  ...  $0.23       $2,400.00\n",
              "32701   PJ   NÃO SE APLICA  ... $24.71     $451,367.96\n",
              "\n",
              "[32702 rows x 8 columns]"
            ]
          },
          "metadata": {
            "tags": []
          },
          "execution_count": 119
        }
      ]
    },
    {
      "cell_type": "code",
      "metadata": {
        "id": "MrpjFyA97bFy",
        "colab_type": "code",
        "colab": {
          "base_uri": "https://localhost:8080/",
          "height": 669
        },
        "outputId": "706f6a17-8f5a-4aca-91ca-3313b6a7545f"
      },
      "source": [
        "#PJ\n",
        "cpf_cnpj_nome_df.query('tipo == \"PJ\"').sort_values(by='tempo', ascending=False).head(20)"
      ],
      "execution_count": 120,
      "outputs": [
        {
          "output_type": "execute_result",
          "data": {
            "text/html": [
              "<div>\n",
              "<style scoped>\n",
              "    .dataframe tbody tr th:only-of-type {\n",
              "        vertical-align: middle;\n",
              "    }\n",
              "\n",
              "    .dataframe tbody tr th {\n",
              "        vertical-align: top;\n",
              "    }\n",
              "\n",
              "    .dataframe thead th {\n",
              "        text-align: right;\n",
              "    }\n",
              "</style>\n",
              "<table border=\"1\" class=\"dataframe\">\n",
              "  <thead>\n",
              "    <tr style=\"text-align: right;\">\n",
              "      <th></th>\n",
              "      <th>tipo</th>\n",
              "      <th>CPF_CNPJ</th>\n",
              "      <th>NOME</th>\n",
              "      <th>count</th>\n",
              "      <th>min</th>\n",
              "      <th>max</th>\n",
              "      <th>tempo</th>\n",
              "      <th>valor_numerico</th>\n",
              "    </tr>\n",
              "  </thead>\n",
              "  <tbody>\n",
              "    <tr>\n",
              "      <th>28461</th>\n",
              "      <td>PJ</td>\n",
              "      <td>***.00.676/****-06</td>\n",
              "      <td>FEDERAL EXPRESS CORPORATION</td>\n",
              "      <td>178</td>\n",
              "      <td>2010-01-22</td>\n",
              "      <td>2019-12-30</td>\n",
              "      <td>$119.23</td>\n",
              "      <td>$298,780.30</td>\n",
              "    </tr>\n",
              "    <tr>\n",
              "      <th>29568</th>\n",
              "      <td>PJ</td>\n",
              "      <td>***.05.868/****-07</td>\n",
              "      <td>UNIMED FORTALEZA</td>\n",
              "      <td>678</td>\n",
              "      <td>2010-02-01</td>\n",
              "      <td>2019-12-18</td>\n",
              "      <td>$118.51</td>\n",
              "      <td>$10,336,962.75</td>\n",
              "    </tr>\n",
              "    <tr>\n",
              "      <th>29571</th>\n",
              "      <td>PJ</td>\n",
              "      <td>***.05.869/****-35</td>\n",
              "      <td>PLAYLIST SOLUCOES LTDA</td>\n",
              "      <td>18</td>\n",
              "      <td>2010-01-14</td>\n",
              "      <td>2019-10-23</td>\n",
              "      <td>$117.26</td>\n",
              "      <td>$21,950.00</td>\n",
              "    </tr>\n",
              "    <tr>\n",
              "      <th>28652</th>\n",
              "      <td>PJ</td>\n",
              "      <td>***.01.771/****-15</td>\n",
              "      <td>INGRAM MICRO BRASIL LTDA</td>\n",
              "      <td>3</td>\n",
              "      <td>2010-03-22</td>\n",
              "      <td>2019-11-11</td>\n",
              "      <td>$115.68</td>\n",
              "      <td>$17,192.21</td>\n",
              "    </tr>\n",
              "    <tr>\n",
              "      <th>31871</th>\n",
              "      <td>PJ</td>\n",
              "      <td>***.33.000/****-74</td>\n",
              "      <td>TELEMAR NORTE LESTE S/A</td>\n",
              "      <td>113</td>\n",
              "      <td>2010-06-07</td>\n",
              "      <td>2019-11-01</td>\n",
              "      <td>$112.82</td>\n",
              "      <td>$13,651.68</td>\n",
              "    </tr>\n",
              "    <tr>\n",
              "      <th>28694</th>\n",
              "      <td>PJ</td>\n",
              "      <td>***.01.999/****-20</td>\n",
              "      <td>ELETRONICA APOLO ALDEOTA LTDA</td>\n",
              "      <td>59</td>\n",
              "      <td>2010-02-01</td>\n",
              "      <td>2019-05-17</td>\n",
              "      <td>$111.44</td>\n",
              "      <td>$24,999.65</td>\n",
              "    </tr>\n",
              "    <tr>\n",
              "      <th>28682</th>\n",
              "      <td>PJ</td>\n",
              "      <td>***.01.961/****-18</td>\n",
              "      <td>ALL CHEMISTRY DO BRASIL LTDA</td>\n",
              "      <td>89</td>\n",
              "      <td>2010-02-09</td>\n",
              "      <td>2018-12-21</td>\n",
              "      <td>$106.35</td>\n",
              "      <td>$135,242.21</td>\n",
              "    </tr>\n",
              "    <tr>\n",
              "      <th>32214</th>\n",
              "      <td>PJ</td>\n",
              "      <td>***.60.717/****-90</td>\n",
              "      <td>ELETRONICA SANTANA LTDA</td>\n",
              "      <td>9</td>\n",
              "      <td>2011-02-17</td>\n",
              "      <td>2019-08-09</td>\n",
              "      <td>$101.69</td>\n",
              "      <td>$11,261.80</td>\n",
              "    </tr>\n",
              "    <tr>\n",
              "      <th>32023</th>\n",
              "      <td>PJ</td>\n",
              "      <td>***.41.587/****-48</td>\n",
              "      <td>LANLINK INFORMATICA LTDA</td>\n",
              "      <td>21</td>\n",
              "      <td>2010-01-05</td>\n",
              "      <td>2018-03-23</td>\n",
              "      <td>$98.53</td>\n",
              "      <td>$1,953,203.80</td>\n",
              "    </tr>\n",
              "    <tr>\n",
              "      <th>30216</th>\n",
              "      <td>PJ</td>\n",
              "      <td>***.07.973/****-07</td>\n",
              "      <td>LINSELETRICA LTDA</td>\n",
              "      <td>10</td>\n",
              "      <td>2011-12-08</td>\n",
              "      <td>2019-10-15</td>\n",
              "      <td>$94.23</td>\n",
              "      <td>$34,662.46</td>\n",
              "    </tr>\n",
              "    <tr>\n",
              "      <th>29738</th>\n",
              "      <td>PJ</td>\n",
              "      <td>***.06.887/****-71</td>\n",
              "      <td>LOCAWEB IDC LTDA</td>\n",
              "      <td>72</td>\n",
              "      <td>2012-03-22</td>\n",
              "      <td>2019-12-26</td>\n",
              "      <td>$93.14</td>\n",
              "      <td>$79,093.56</td>\n",
              "    </tr>\n",
              "    <tr>\n",
              "      <th>31011</th>\n",
              "      <td>PJ</td>\n",
              "      <td>***.11.739/****-04</td>\n",
              "      <td>NAJA TURISMO LTDA</td>\n",
              "      <td>8880</td>\n",
              "      <td>2010-01-06</td>\n",
              "      <td>2017-10-04</td>\n",
              "      <td>$92.91</td>\n",
              "      <td>$13,258,909.60</td>\n",
              "    </tr>\n",
              "    <tr>\n",
              "      <th>30214</th>\n",
              "      <td>PJ</td>\n",
              "      <td>***.07.965/****-05</td>\n",
              "      <td>AUTO PECAS PADRE CICERO LTDA</td>\n",
              "      <td>4</td>\n",
              "      <td>2010-03-31</td>\n",
              "      <td>2017-08-24</td>\n",
              "      <td>$88.81</td>\n",
              "      <td>$698.37</td>\n",
              "    </tr>\n",
              "    <tr>\n",
              "      <th>31232</th>\n",
              "      <td>PJ</td>\n",
              "      <td>***.13.409/****-10</td>\n",
              "      <td>RCBI INSTRUMENTOS LTDA</td>\n",
              "      <td>4</td>\n",
              "      <td>2012-08-29</td>\n",
              "      <td>2019-12-09</td>\n",
              "      <td>$87.33</td>\n",
              "      <td>$19,320.14</td>\n",
              "    </tr>\n",
              "    <tr>\n",
              "      <th>32002</th>\n",
              "      <td>PJ</td>\n",
              "      <td>***.41.443/****-64</td>\n",
              "      <td>MARIA EDISEUDA MUNIZ SILVEIRA</td>\n",
              "      <td>17</td>\n",
              "      <td>2011-07-15</td>\n",
              "      <td>2018-10-17</td>\n",
              "      <td>$87.10</td>\n",
              "      <td>$12,724.96</td>\n",
              "    </tr>\n",
              "    <tr>\n",
              "      <th>30375</th>\n",
              "      <td>PJ</td>\n",
              "      <td>***.08.802/****-25</td>\n",
              "      <td>REGINA MARTA DE A. BRAGA - ME</td>\n",
              "      <td>3</td>\n",
              "      <td>2010-03-25</td>\n",
              "      <td>2017-04-18</td>\n",
              "      <td>$84.80</td>\n",
              "      <td>$10,032.80</td>\n",
              "    </tr>\n",
              "    <tr>\n",
              "      <th>32379</th>\n",
              "      <td>PJ</td>\n",
              "      <td>***.69.366/****-05</td>\n",
              "      <td>NISSEI VEICULOS LTDA</td>\n",
              "      <td>42</td>\n",
              "      <td>2010-02-11</td>\n",
              "      <td>2016-08-11</td>\n",
              "      <td>$77.96</td>\n",
              "      <td>$167,347.55</td>\n",
              "    </tr>\n",
              "    <tr>\n",
              "      <th>32489</th>\n",
              "      <td>PJ</td>\n",
              "      <td>***.86.906/****-33</td>\n",
              "      <td>LOGOS COMERCIAL E TECNICA LTDA</td>\n",
              "      <td>9</td>\n",
              "      <td>2010-04-16</td>\n",
              "      <td>2016-08-03</td>\n",
              "      <td>$75.60</td>\n",
              "      <td>$22,653.00</td>\n",
              "    </tr>\n",
              "    <tr>\n",
              "      <th>29926</th>\n",
              "      <td>PJ</td>\n",
              "      <td>***.07.275/****-88</td>\n",
              "      <td>MIAMI COMERCIAL E TECNICA LTDA</td>\n",
              "      <td>5</td>\n",
              "      <td>2010-01-20</td>\n",
              "      <td>2016-04-18</td>\n",
              "      <td>$74.91</td>\n",
              "      <td>$2,460.38</td>\n",
              "    </tr>\n",
              "    <tr>\n",
              "      <th>29623</th>\n",
              "      <td>PJ</td>\n",
              "      <td>***.06.045/****-00</td>\n",
              "      <td>METALURGICA LCR LTDA</td>\n",
              "      <td>2</td>\n",
              "      <td>2010-01-20</td>\n",
              "      <td>2016-03-16</td>\n",
              "      <td>$73.82</td>\n",
              "      <td>$2,494.56</td>\n",
              "    </tr>\n",
              "  </tbody>\n",
              "</table>\n",
              "</div>"
            ],
            "text/plain": [
              "      tipo            CPF_CNPJ  ...   tempo  valor_numerico\n",
              "28461   PJ  ***.00.676/****-06  ... $119.23     $298,780.30\n",
              "29568   PJ  ***.05.868/****-07  ... $118.51  $10,336,962.75\n",
              "29571   PJ  ***.05.869/****-35  ... $117.26      $21,950.00\n",
              "28652   PJ  ***.01.771/****-15  ... $115.68      $17,192.21\n",
              "31871   PJ  ***.33.000/****-74  ... $112.82      $13,651.68\n",
              "28694   PJ  ***.01.999/****-20  ... $111.44      $24,999.65\n",
              "28682   PJ  ***.01.961/****-18  ... $106.35     $135,242.21\n",
              "32214   PJ  ***.60.717/****-90  ... $101.69      $11,261.80\n",
              "32023   PJ  ***.41.587/****-48  ...  $98.53   $1,953,203.80\n",
              "30216   PJ  ***.07.973/****-07  ...  $94.23      $34,662.46\n",
              "29738   PJ  ***.06.887/****-71  ...  $93.14      $79,093.56\n",
              "31011   PJ  ***.11.739/****-04  ...  $92.91  $13,258,909.60\n",
              "30214   PJ  ***.07.965/****-05  ...  $88.81         $698.37\n",
              "31232   PJ  ***.13.409/****-10  ...  $87.33      $19,320.14\n",
              "32002   PJ  ***.41.443/****-64  ...  $87.10      $12,724.96\n",
              "30375   PJ  ***.08.802/****-25  ...  $84.80      $10,032.80\n",
              "32379   PJ  ***.69.366/****-05  ...  $77.96     $167,347.55\n",
              "32489   PJ  ***.86.906/****-33  ...  $75.60      $22,653.00\n",
              "29926   PJ  ***.07.275/****-88  ...  $74.91       $2,460.38\n",
              "29623   PJ  ***.06.045/****-00  ...  $73.82       $2,494.56\n",
              "\n",
              "[20 rows x 8 columns]"
            ]
          },
          "metadata": {
            "tags": []
          },
          "execution_count": 120
        }
      ]
    },
    {
      "cell_type": "code",
      "metadata": {
        "id": "Pnf0Emwa5JWJ",
        "colab_type": "code",
        "colab": {
          "base_uri": "https://localhost:8080/",
          "height": 979
        },
        "outputId": "883a2672-8c9e-4a8c-f9f0-4b1da6b7aff4"
      },
      "source": [
        "#PF\n",
        "cpf_cnpj_nome_df.query('tipo == \"PF\"').sort_values(by='tempo', ascending=False).head(30)"
      ],
      "execution_count": 112,
      "outputs": [
        {
          "output_type": "execute_result",
          "data": {
            "text/html": [
              "<div>\n",
              "<style scoped>\n",
              "    .dataframe tbody tr th:only-of-type {\n",
              "        vertical-align: middle;\n",
              "    }\n",
              "\n",
              "    .dataframe tbody tr th {\n",
              "        vertical-align: top;\n",
              "    }\n",
              "\n",
              "    .dataframe thead th {\n",
              "        text-align: right;\n",
              "    }\n",
              "</style>\n",
              "<table border=\"1\" class=\"dataframe\">\n",
              "  <thead>\n",
              "    <tr style=\"text-align: right;\">\n",
              "      <th></th>\n",
              "      <th>tipo</th>\n",
              "      <th>CPF_CNPJ</th>\n",
              "      <th>NOME</th>\n",
              "      <th>count</th>\n",
              "      <th>min</th>\n",
              "      <th>max</th>\n",
              "      <th>tempo</th>\n",
              "    </tr>\n",
              "  </thead>\n",
              "  <tbody>\n",
              "    <tr>\n",
              "      <th>7332</th>\n",
              "      <td>PF</td>\n",
              "      <td>***.256.603-**</td>\n",
              "      <td>CICERO SILVA OTAVIANO JUNIOR</td>\n",
              "      <td>289</td>\n",
              "      <td>2002-01-20</td>\n",
              "      <td>2020-04-22</td>\n",
              "      <td>$219.04</td>\n",
              "    </tr>\n",
              "    <tr>\n",
              "      <th>2429</th>\n",
              "      <td>PF</td>\n",
              "      <td>***.084.943-**</td>\n",
              "      <td>CRISTINA SAMPAIO GOMES</td>\n",
              "      <td>262</td>\n",
              "      <td>2002-01-20</td>\n",
              "      <td>2020-04-22</td>\n",
              "      <td>$219.04</td>\n",
              "    </tr>\n",
              "    <tr>\n",
              "      <th>19291</th>\n",
              "      <td>PF</td>\n",
              "      <td>***.678.153-**</td>\n",
              "      <td>MARCIA MARIA ANDRADE DE QUEIROZ</td>\n",
              "      <td>295</td>\n",
              "      <td>2002-01-20</td>\n",
              "      <td>2020-04-22</td>\n",
              "      <td>$219.04</td>\n",
              "    </tr>\n",
              "    <tr>\n",
              "      <th>17862</th>\n",
              "      <td>PF</td>\n",
              "      <td>***.628.013-**</td>\n",
              "      <td>JURANDIR BEZERRA ROCHA</td>\n",
              "      <td>267</td>\n",
              "      <td>2002-01-20</td>\n",
              "      <td>2020-04-22</td>\n",
              "      <td>$219.04</td>\n",
              "    </tr>\n",
              "    <tr>\n",
              "      <th>18744</th>\n",
              "      <td>PF</td>\n",
              "      <td>***.658.353-**</td>\n",
              "      <td>JOSE RAIMUNDO LUSTOSA</td>\n",
              "      <td>268</td>\n",
              "      <td>2002-01-20</td>\n",
              "      <td>2020-04-22</td>\n",
              "      <td>$219.04</td>\n",
              "    </tr>\n",
              "    <tr>\n",
              "      <th>6967</th>\n",
              "      <td>PF</td>\n",
              "      <td>***.243.513-**</td>\n",
              "      <td>DENISE ROCHA DA SILVA</td>\n",
              "      <td>311</td>\n",
              "      <td>2002-01-20</td>\n",
              "      <td>2020-04-22</td>\n",
              "      <td>$219.04</td>\n",
              "    </tr>\n",
              "    <tr>\n",
              "      <th>12774</th>\n",
              "      <td>PF</td>\n",
              "      <td>***.449.783-**</td>\n",
              "      <td>IVANETE GOMES DA SILVA</td>\n",
              "      <td>265</td>\n",
              "      <td>2002-01-20</td>\n",
              "      <td>2020-04-22</td>\n",
              "      <td>$219.04</td>\n",
              "    </tr>\n",
              "    <tr>\n",
              "      <th>11690</th>\n",
              "      <td>PF</td>\n",
              "      <td>***.412.303-**</td>\n",
              "      <td>JOAO FERREIRA MARQUES</td>\n",
              "      <td>248</td>\n",
              "      <td>2002-01-20</td>\n",
              "      <td>2020-04-22</td>\n",
              "      <td>$219.04</td>\n",
              "    </tr>\n",
              "    <tr>\n",
              "      <th>13871</th>\n",
              "      <td>PF</td>\n",
              "      <td>***.488.873-**</td>\n",
              "      <td>ADRIANO CESAR PRADO CYSNE</td>\n",
              "      <td>311</td>\n",
              "      <td>2002-01-20</td>\n",
              "      <td>2020-04-22</td>\n",
              "      <td>$219.04</td>\n",
              "    </tr>\n",
              "    <tr>\n",
              "      <th>10600</th>\n",
              "      <td>PF</td>\n",
              "      <td>***.374.043-**</td>\n",
              "      <td>DAMIAO CARNEIRO DE ALMEIDA</td>\n",
              "      <td>246</td>\n",
              "      <td>2002-01-20</td>\n",
              "      <td>2020-04-22</td>\n",
              "      <td>$219.04</td>\n",
              "    </tr>\n",
              "    <tr>\n",
              "      <th>24392</th>\n",
              "      <td>PF</td>\n",
              "      <td>***.858.423-**</td>\n",
              "      <td>LILIA MARIA FARIAS PONTE</td>\n",
              "      <td>269</td>\n",
              "      <td>2002-01-20</td>\n",
              "      <td>2020-04-22</td>\n",
              "      <td>$219.04</td>\n",
              "    </tr>\n",
              "    <tr>\n",
              "      <th>16456</th>\n",
              "      <td>PF</td>\n",
              "      <td>***.577.653-**</td>\n",
              "      <td>NARODYNAIA DA COSTA RIBEIRO</td>\n",
              "      <td>403</td>\n",
              "      <td>2002-01-20</td>\n",
              "      <td>2020-04-22</td>\n",
              "      <td>$219.04</td>\n",
              "    </tr>\n",
              "    <tr>\n",
              "      <th>10109</th>\n",
              "      <td>PF</td>\n",
              "      <td>***.357.233-**</td>\n",
              "      <td>RITA CLAUDIA FERREIRA DOS SANTOS</td>\n",
              "      <td>258</td>\n",
              "      <td>2002-01-20</td>\n",
              "      <td>2020-04-22</td>\n",
              "      <td>$219.04</td>\n",
              "    </tr>\n",
              "    <tr>\n",
              "      <th>4265</th>\n",
              "      <td>PF</td>\n",
              "      <td>***.148.363-**</td>\n",
              "      <td>FRANCISCO AMARO LIMA ALMEIDA</td>\n",
              "      <td>289</td>\n",
              "      <td>2002-01-20</td>\n",
              "      <td>2020-04-22</td>\n",
              "      <td>$219.04</td>\n",
              "    </tr>\n",
              "    <tr>\n",
              "      <th>14663</th>\n",
              "      <td>PF</td>\n",
              "      <td>***.515.833-**</td>\n",
              "      <td>ALEXANDRE QUEIROZ PEIXOTO</td>\n",
              "      <td>272</td>\n",
              "      <td>2002-01-22</td>\n",
              "      <td>2020-04-22</td>\n",
              "      <td>$218.98</td>\n",
              "    </tr>\n",
              "    <tr>\n",
              "      <th>1575</th>\n",
              "      <td>PF</td>\n",
              "      <td>***.055.123-**</td>\n",
              "      <td>CARLOS EDUARDO DE LUCENA CASTRO</td>\n",
              "      <td>170</td>\n",
              "      <td>2002-01-22</td>\n",
              "      <td>2020-04-03</td>\n",
              "      <td>$218.35</td>\n",
              "    </tr>\n",
              "    <tr>\n",
              "      <th>808</th>\n",
              "      <td>PF</td>\n",
              "      <td>***.028.053-**</td>\n",
              "      <td>MARIA DURVALINA NANTUA BESERRA</td>\n",
              "      <td>126</td>\n",
              "      <td>2002-01-23</td>\n",
              "      <td>2020-04-03</td>\n",
              "      <td>$218.32</td>\n",
              "    </tr>\n",
              "    <tr>\n",
              "      <th>6225</th>\n",
              "      <td>PF</td>\n",
              "      <td>***.219.053-**</td>\n",
              "      <td>EVALDO BEZERRA RIOLO</td>\n",
              "      <td>104</td>\n",
              "      <td>2002-01-23</td>\n",
              "      <td>2020-04-03</td>\n",
              "      <td>$218.32</td>\n",
              "    </tr>\n",
              "    <tr>\n",
              "      <th>25916</th>\n",
              "      <td>PF</td>\n",
              "      <td>***.913.353-**</td>\n",
              "      <td>DIANA DE SOUSA SIQUEIRA</td>\n",
              "      <td>124</td>\n",
              "      <td>2002-01-23</td>\n",
              "      <td>2020-04-03</td>\n",
              "      <td>$218.32</td>\n",
              "    </tr>\n",
              "    <tr>\n",
              "      <th>21177</th>\n",
              "      <td>PF</td>\n",
              "      <td>***.746.543-**</td>\n",
              "      <td>KARLA KAROLINE VIEIRA LOPES</td>\n",
              "      <td>92</td>\n",
              "      <td>2002-01-23</td>\n",
              "      <td>2020-03-30</td>\n",
              "      <td>$218.19</td>\n",
              "    </tr>\n",
              "    <tr>\n",
              "      <th>25886</th>\n",
              "      <td>PF</td>\n",
              "      <td>***.912.263-**</td>\n",
              "      <td>JOSE ALBERTO DA SILVA</td>\n",
              "      <td>120</td>\n",
              "      <td>2002-02-19</td>\n",
              "      <td>2020-04-22</td>\n",
              "      <td>$218.06</td>\n",
              "    </tr>\n",
              "    <tr>\n",
              "      <th>11028</th>\n",
              "      <td>PF</td>\n",
              "      <td>***.388.903-**</td>\n",
              "      <td>DARILU MARTINS DA SILVA</td>\n",
              "      <td>302</td>\n",
              "      <td>2002-02-26</td>\n",
              "      <td>2020-04-22</td>\n",
              "      <td>$217.83</td>\n",
              "    </tr>\n",
              "    <tr>\n",
              "      <th>10483</th>\n",
              "      <td>PF</td>\n",
              "      <td>***.369.843-**</td>\n",
              "      <td>EDVANIA FERNANDES SABOIA</td>\n",
              "      <td>128</td>\n",
              "      <td>2002-01-23</td>\n",
              "      <td>2020-03-11</td>\n",
              "      <td>$217.57</td>\n",
              "    </tr>\n",
              "    <tr>\n",
              "      <th>3364</th>\n",
              "      <td>PF</td>\n",
              "      <td>***.117.623-**</td>\n",
              "      <td>LUCIA DE FATIMA NOBRE GOMES</td>\n",
              "      <td>116</td>\n",
              "      <td>2002-01-23</td>\n",
              "      <td>2020-03-09</td>\n",
              "      <td>$217.50</td>\n",
              "    </tr>\n",
              "    <tr>\n",
              "      <th>15338</th>\n",
              "      <td>PF</td>\n",
              "      <td>***.538.343-**</td>\n",
              "      <td>MARIA ZELIA MESSIAS DE MARIA</td>\n",
              "      <td>247</td>\n",
              "      <td>2002-03-20</td>\n",
              "      <td>2020-04-22</td>\n",
              "      <td>$217.11</td>\n",
              "    </tr>\n",
              "    <tr>\n",
              "      <th>8634</th>\n",
              "      <td>PF</td>\n",
              "      <td>***.304.173-**</td>\n",
              "      <td>MARY DE SOUZA NUNES</td>\n",
              "      <td>56</td>\n",
              "      <td>2002-02-20</td>\n",
              "      <td>2020-03-16</td>\n",
              "      <td>$216.81</td>\n",
              "    </tr>\n",
              "    <tr>\n",
              "      <th>22543</th>\n",
              "      <td>PF</td>\n",
              "      <td>***.796.043-**</td>\n",
              "      <td>JOSE NEUMAN DE SOUZA</td>\n",
              "      <td>156</td>\n",
              "      <td>2002-04-12</td>\n",
              "      <td>2020-04-02</td>\n",
              "      <td>$215.69</td>\n",
              "    </tr>\n",
              "    <tr>\n",
              "      <th>28223</th>\n",
              "      <td>PF</td>\n",
              "      <td>***.995.893-**</td>\n",
              "      <td>FRANCISCO DAS CHAGAS NETO</td>\n",
              "      <td>9</td>\n",
              "      <td>2002-02-20</td>\n",
              "      <td>2020-01-27</td>\n",
              "      <td>$215.20</td>\n",
              "    </tr>\n",
              "    <tr>\n",
              "      <th>17428</th>\n",
              "      <td>PF</td>\n",
              "      <td>***.612.543-**</td>\n",
              "      <td>WILSON FRANKLIN JUNIOR</td>\n",
              "      <td>77</td>\n",
              "      <td>2002-05-22</td>\n",
              "      <td>2020-04-24</td>\n",
              "      <td>$215.10</td>\n",
              "    </tr>\n",
              "    <tr>\n",
              "      <th>7132</th>\n",
              "      <td>PF</td>\n",
              "      <td>***.248.793-**</td>\n",
              "      <td>IVANHOE BRIGIDO JUNIOR</td>\n",
              "      <td>250</td>\n",
              "      <td>2002-05-20</td>\n",
              "      <td>2020-04-22</td>\n",
              "      <td>$215.10</td>\n",
              "    </tr>\n",
              "  </tbody>\n",
              "</table>\n",
              "</div>"
            ],
            "text/plain": [
              "      tipo        CPF_CNPJ  ...        max   tempo\n",
              "7332    PF  ***.256.603-**  ... 2020-04-22 $219.04\n",
              "2429    PF  ***.084.943-**  ... 2020-04-22 $219.04\n",
              "19291   PF  ***.678.153-**  ... 2020-04-22 $219.04\n",
              "17862   PF  ***.628.013-**  ... 2020-04-22 $219.04\n",
              "18744   PF  ***.658.353-**  ... 2020-04-22 $219.04\n",
              "6967    PF  ***.243.513-**  ... 2020-04-22 $219.04\n",
              "12774   PF  ***.449.783-**  ... 2020-04-22 $219.04\n",
              "11690   PF  ***.412.303-**  ... 2020-04-22 $219.04\n",
              "13871   PF  ***.488.873-**  ... 2020-04-22 $219.04\n",
              "10600   PF  ***.374.043-**  ... 2020-04-22 $219.04\n",
              "24392   PF  ***.858.423-**  ... 2020-04-22 $219.04\n",
              "16456   PF  ***.577.653-**  ... 2020-04-22 $219.04\n",
              "10109   PF  ***.357.233-**  ... 2020-04-22 $219.04\n",
              "4265    PF  ***.148.363-**  ... 2020-04-22 $219.04\n",
              "14663   PF  ***.515.833-**  ... 2020-04-22 $218.98\n",
              "1575    PF  ***.055.123-**  ... 2020-04-03 $218.35\n",
              "808     PF  ***.028.053-**  ... 2020-04-03 $218.32\n",
              "6225    PF  ***.219.053-**  ... 2020-04-03 $218.32\n",
              "25916   PF  ***.913.353-**  ... 2020-04-03 $218.32\n",
              "21177   PF  ***.746.543-**  ... 2020-03-30 $218.19\n",
              "25886   PF  ***.912.263-**  ... 2020-04-22 $218.06\n",
              "11028   PF  ***.388.903-**  ... 2020-04-22 $217.83\n",
              "10483   PF  ***.369.843-**  ... 2020-03-11 $217.57\n",
              "3364    PF  ***.117.623-**  ... 2020-03-09 $217.50\n",
              "15338   PF  ***.538.343-**  ... 2020-04-22 $217.11\n",
              "8634    PF  ***.304.173-**  ... 2020-03-16 $216.81\n",
              "22543   PF  ***.796.043-**  ... 2020-04-02 $215.69\n",
              "28223   PF  ***.995.893-**  ... 2020-01-27 $215.20\n",
              "17428   PF  ***.612.543-**  ... 2020-04-24 $215.10\n",
              "7132    PF  ***.248.793-**  ... 2020-04-22 $215.10\n",
              "\n",
              "[30 rows x 7 columns]"
            ]
          },
          "metadata": {
            "tags": []
          },
          "execution_count": 112
        }
      ]
    },
    {
      "cell_type": "code",
      "metadata": {
        "id": "xi-rJQpk9-uy",
        "colab_type": "code",
        "colab": {
          "base_uri": "https://localhost:8080/",
          "height": 142
        },
        "outputId": "e83d7597-e618-4554-eb2d-1885544657d0"
      },
      "source": [
        "cpf_cnpj_nome_df[['count', 'tempo', 'valor_numerico']].corr()"
      ],
      "execution_count": 121,
      "outputs": [
        {
          "output_type": "execute_result",
          "data": {
            "text/html": [
              "<div>\n",
              "<style scoped>\n",
              "    .dataframe tbody tr th:only-of-type {\n",
              "        vertical-align: middle;\n",
              "    }\n",
              "\n",
              "    .dataframe tbody tr th {\n",
              "        vertical-align: top;\n",
              "    }\n",
              "\n",
              "    .dataframe thead th {\n",
              "        text-align: right;\n",
              "    }\n",
              "</style>\n",
              "<table border=\"1\" class=\"dataframe\">\n",
              "  <thead>\n",
              "    <tr style=\"text-align: right;\">\n",
              "      <th></th>\n",
              "      <th>count</th>\n",
              "      <th>tempo</th>\n",
              "      <th>valor_numerico</th>\n",
              "    </tr>\n",
              "  </thead>\n",
              "  <tbody>\n",
              "    <tr>\n",
              "      <th>count</th>\n",
              "      <td>$1.00</td>\n",
              "      <td>$0.14</td>\n",
              "      <td>$0.50</td>\n",
              "    </tr>\n",
              "    <tr>\n",
              "      <th>tempo</th>\n",
              "      <td>$0.14</td>\n",
              "      <td>$1.00</td>\n",
              "      <td>$0.17</td>\n",
              "    </tr>\n",
              "    <tr>\n",
              "      <th>valor_numerico</th>\n",
              "      <td>$0.50</td>\n",
              "      <td>$0.17</td>\n",
              "      <td>$1.00</td>\n",
              "    </tr>\n",
              "  </tbody>\n",
              "</table>\n",
              "</div>"
            ],
            "text/plain": [
              "                count  tempo  valor_numerico\n",
              "count           $1.00  $0.14           $0.50\n",
              "tempo           $0.14  $1.00           $0.17\n",
              "valor_numerico  $0.50  $0.17           $1.00"
            ]
          },
          "metadata": {
            "tags": []
          },
          "execution_count": 121
        }
      ]
    },
    {
      "cell_type": "code",
      "metadata": {
        "id": "ZC_WkHsV9xWD",
        "colab_type": "code",
        "colab": {
          "base_uri": "https://localhost:8080/",
          "height": 350
        },
        "outputId": "4af6e3a0-0d72-4be4-8ca4-ffa87bc9ec6d"
      },
      "source": [
        "import seaborn as sns\n",
        "sns.scatterplot(data= cpf_cnpj_nome_df.query('count < 100'), y='valor_numerico', x='count')\n",
        "plt.ticklabel_format(axis=\"y\", style=\"plain\") \n",
        "plt.show()"
      ],
      "execution_count": 151,
      "outputs": [
        {
          "output_type": "display_data",
          "data": {
            "image/png": "[encoded data removed]",
            "text/plain": [
              "<Figure size 1440x504 with 1 Axes>"
            ]
          },
          "metadata": {
            "tags": [],
            "needs_background": "light"
          }
        }
      ]
    },
    {
      "cell_type": "code",
      "metadata": {
        "id": "8Ae9dW_jCwJF",
        "colab_type": "code",
        "colab": {
          "base_uri": "https://localhost:8080/",
          "height": 142
        },
        "outputId": "49515740-67cb-4202-d835-f7be52e2d1a4"
      },
      "source": [
        "#Observações atípicas \n",
        "cpf_cnpj_nome_df.query('count < 50 & valor_numerico > 4000000')"
      ],
      "execution_count": 141,
      "outputs": [
        {
          "output_type": "execute_result",
          "data": {
            "text/html": [
              "<div>\n",
              "<style scoped>\n",
              "    .dataframe tbody tr th:only-of-type {\n",
              "        vertical-align: middle;\n",
              "    }\n",
              "\n",
              "    .dataframe tbody tr th {\n",
              "        vertical-align: top;\n",
              "    }\n",
              "\n",
              "    .dataframe thead th {\n",
              "        text-align: right;\n",
              "    }\n",
              "</style>\n",
              "<table border=\"1\" class=\"dataframe\">\n",
              "  <thead>\n",
              "    <tr style=\"text-align: right;\">\n",
              "      <th></th>\n",
              "      <th>tipo</th>\n",
              "      <th>CPF_CNPJ</th>\n",
              "      <th>NOME</th>\n",
              "      <th>count</th>\n",
              "      <th>min</th>\n",
              "      <th>max</th>\n",
              "      <th>tempo</th>\n",
              "      <th>valor_numerico</th>\n",
              "    </tr>\n",
              "  </thead>\n",
              "  <tbody>\n",
              "    <tr>\n",
              "      <th>29592</th>\n",
              "      <td>PJ</td>\n",
              "      <td>***.05.952/****-82</td>\n",
              "      <td>BIOTEC SOLUCAO AMBIENTAL INDUS</td>\n",
              "      <td>21</td>\n",
              "      <td>2014-09-03</td>\n",
              "      <td>2015-11-30</td>\n",
              "      <td>$14.88</td>\n",
              "      <td>$8,769,918.11</td>\n",
              "    </tr>\n",
              "    <tr>\n",
              "      <th>29675</th>\n",
              "      <td>PJ</td>\n",
              "      <td>***.06.246/****-26</td>\n",
              "      <td>JLJ CONSTRUCAO REPRES. LTDA</td>\n",
              "      <td>37</td>\n",
              "      <td>2012-02-13</td>\n",
              "      <td>2013-11-13</td>\n",
              "      <td>$20.99</td>\n",
              "      <td>$4,717,262.10</td>\n",
              "    </tr>\n",
              "    <tr>\n",
              "      <th>30723</th>\n",
              "      <td>PJ</td>\n",
              "      <td>***.10.485/****-48</td>\n",
              "      <td>CONSTRUTORA PLATO LTDA - ME</td>\n",
              "      <td>44</td>\n",
              "      <td>2010-04-26</td>\n",
              "      <td>2014-09-30</td>\n",
              "      <td>$53.16</td>\n",
              "      <td>$13,954,579.14</td>\n",
              "    </tr>\n",
              "  </tbody>\n",
              "</table>\n",
              "</div>"
            ],
            "text/plain": [
              "      tipo            CPF_CNPJ  ...  tempo  valor_numerico\n",
              "29592   PJ  ***.05.952/****-82  ... $14.88   $8,769,918.11\n",
              "29675   PJ  ***.06.246/****-26  ... $20.99   $4,717,262.10\n",
              "30723   PJ  ***.10.485/****-48  ... $53.16  $13,954,579.14\n",
              "\n",
              "[3 rows x 8 columns]"
            ]
          },
          "metadata": {
            "tags": []
          },
          "execution_count": 141
        }
      ]
    },
    {
      "cell_type": "code",
      "metadata": {
        "id": "wnU0pV-bDgr-",
        "colab_type": "code",
        "colab": {
          "base_uri": "https://localhost:8080/",
          "height": 68
        },
        "outputId": "f481e84d-c252-4343-a142-709918c7da07"
      },
      "source": [
        "df.query('NOME == \"BIOTEC SOLUCAO AMBIENTAL INDUS\"')['PROJETO'].value_counts()"
      ],
      "execution_count": 149,
      "outputs": [
        {
          "output_type": "execute_result",
          "data": {
            "text/plain": [
              "2607 - CT.BNDES/UFC/FCPC - CONSTRUÃ‡ÃƒO DO CPDM    14\n",
              "2585 - CV.FINEP/UFC/FCPC-CTINFRA 09                 7\n",
              "Name: PROJETO, dtype: int64"
            ]
          },
          "metadata": {
            "tags": []
          },
          "execution_count": 149
        }
      ]
    },
    {
      "cell_type": "code",
      "metadata": {
        "id": "GD0wuNAlD2Yv",
        "colab_type": "code",
        "colab": {
          "base_uri": "https://localhost:8080/",
          "height": 51
        },
        "outputId": "fc304e51-7d41-4a10-dfb0-7ec24feedf70"
      },
      "source": [
        "df.query('NOME == \"JLJ CONSTRUCAO REPRES. LTDA\"')['PROJETO'].value_counts()"
      ],
      "execution_count": 146,
      "outputs": [
        {
          "output_type": "execute_result",
          "data": {
            "text/plain": [
              "2102 - CV - BB/UFC/FCPC-APOIO AS ATIVIDADES DA UFC    37\n",
              "Name: PROJETO, dtype: int64"
            ]
          },
          "metadata": {
            "tags": []
          },
          "execution_count": 146
        }
      ]
    },
    {
      "cell_type": "code",
      "metadata": {
        "id": "dGgvoCJPD4hk",
        "colab_type": "code",
        "colab": {
          "base_uri": "https://localhost:8080/",
          "height": 119
        },
        "outputId": "74a8d337-4d4a-45fb-b2a7-35c8593133e9"
      },
      "source": [
        "df.query('NOME == \"CONSTRUTORA PLATO LTDA - ME\"')['PROJETO'].value_counts()"
      ],
      "execution_count": 147,
      "outputs": [
        {
          "output_type": "execute_result",
          "data": {
            "text/plain": [
              "2607 - CT.BNDES/UFC/FCPC - CONSTRUÃ‡ÃƒO DO CPDM                   28\n",
              "1715 - CV - FINEP/FCPC-CT INFRA PROINFRA-01/2005                   6\n",
              "2013 - T UFC/SEAP/FCPC - PRODUÃ‡ÃƒO DE PEIXES MARINHO NO CEARA     6\n",
              "2189 - CV - SICONV/SEAP/UFC/FCPC - CEBIAQUA                        2\n",
              "1526 - CV - FINEP/FCPC/CT - INFRA 04 - PROINFRA 01/2004            2\n",
              "Name: PROJETO, dtype: int64"
            ]
          },
          "metadata": {
            "tags": []
          },
          "execution_count": 147
        }
      ]
    },
    {
      "cell_type": "code",
      "metadata": {
        "id": "_kibjbnMErjU",
        "colab_type": "code",
        "colab": {
          "base_uri": "https://localhost:8080/",
          "height": 352
        },
        "outputId": "5f77e7c0-4141-4cfa-ef9c-2c7c35a7dfb3"
      },
      "source": [
        "sns.scatterplot(data= cpf_cnpj_nome_df.query('count < 10'), y='valor_numerico', x='count')\n",
        "plt.ticklabel_format(axis=\"y\", style=\"plain\") \n",
        "plt.show()"
      ],
      "execution_count": 152,
      "outputs": [
        {
          "output_type": "display_data",
          "data": {
            "image/png": "[encoded data removed]",
            "text/plain": [
              "<Figure size 1440x504 with 1 Axes>"
            ]
          },
          "metadata": {
            "tags": [],
            "needs_background": "light"
          }
        }
      ]
    },
    {
      "cell_type": "code",
      "metadata": {
        "id": "NRYrOqBTEuOH",
        "colab_type": "code",
        "colab": {
          "base_uri": "https://localhost:8080/",
          "height": 289
        },
        "outputId": "0441fb16-b042-456f-a2f0-4630b1c12b49"
      },
      "source": [
        "cpf_cnpj_nome_df.query('count < 10 & valor_numerico > 1000000')"
      ],
      "execution_count": 153,
      "outputs": [
        {
          "output_type": "execute_result",
          "data": {
            "text/html": [
              "<div>\n",
              "<style scoped>\n",
              "    .dataframe tbody tr th:only-of-type {\n",
              "        vertical-align: middle;\n",
              "    }\n",
              "\n",
              "    .dataframe tbody tr th {\n",
              "        vertical-align: top;\n",
              "    }\n",
              "\n",
              "    .dataframe thead th {\n",
              "        text-align: right;\n",
              "    }\n",
              "</style>\n",
              "<table border=\"1\" class=\"dataframe\">\n",
              "  <thead>\n",
              "    <tr style=\"text-align: right;\">\n",
              "      <th></th>\n",
              "      <th>tipo</th>\n",
              "      <th>CPF_CNPJ</th>\n",
              "      <th>NOME</th>\n",
              "      <th>count</th>\n",
              "      <th>min</th>\n",
              "      <th>max</th>\n",
              "      <th>tempo</th>\n",
              "      <th>valor_numerico</th>\n",
              "    </tr>\n",
              "  </thead>\n",
              "  <tbody>\n",
              "    <tr>\n",
              "      <th>28440</th>\n",
              "      <td>PJ</td>\n",
              "      <td>***.00.565/****-19</td>\n",
              "      <td>VAP CONSTRUCOES</td>\n",
              "      <td>1</td>\n",
              "      <td>2014-04-03</td>\n",
              "      <td>2014-04-03</td>\n",
              "      <td>$0.00</td>\n",
              "      <td>$2,563,480.00</td>\n",
              "    </tr>\n",
              "    <tr>\n",
              "      <th>29433</th>\n",
              "      <td>PJ</td>\n",
              "      <td>***.05.330/****-62</td>\n",
              "      <td>Y CORPORATION OF AMERICA, INC</td>\n",
              "      <td>3</td>\n",
              "      <td>2010-05-21</td>\n",
              "      <td>2014-08-13</td>\n",
              "      <td>$50.76</td>\n",
              "      <td>$2,773,410.36</td>\n",
              "    </tr>\n",
              "    <tr>\n",
              "      <th>30152</th>\n",
              "      <td>PJ</td>\n",
              "      <td>***.07.827/****-87</td>\n",
              "      <td>DATAINFO PESQUISA E CONSULTORIA S/S LTDA</td>\n",
              "      <td>2</td>\n",
              "      <td>2019-08-28</td>\n",
              "      <td>2019-12-09</td>\n",
              "      <td>$3.38</td>\n",
              "      <td>$1,099,000.00</td>\n",
              "    </tr>\n",
              "    <tr>\n",
              "      <th>30253</th>\n",
              "      <td>PJ</td>\n",
              "      <td>***.08.178/****-25</td>\n",
              "      <td>STILUS PROMOCOES DE EVENTOS LT</td>\n",
              "      <td>8</td>\n",
              "      <td>2013-02-20</td>\n",
              "      <td>2015-04-15</td>\n",
              "      <td>$25.76</td>\n",
              "      <td>$1,204,141.97</td>\n",
              "    </tr>\n",
              "    <tr>\n",
              "      <th>30607</th>\n",
              "      <td>PJ</td>\n",
              "      <td>***.09.613/****-79</td>\n",
              "      <td>PROJLAB INDUSTRIA E COMERCIO P</td>\n",
              "      <td>6</td>\n",
              "      <td>2014-10-13</td>\n",
              "      <td>2015-02-13</td>\n",
              "      <td>$4.04</td>\n",
              "      <td>$2,152,746.88</td>\n",
              "    </tr>\n",
              "  </tbody>\n",
              "</table>\n",
              "</div>"
            ],
            "text/plain": [
              "      tipo            CPF_CNPJ  ...  tempo  valor_numerico\n",
              "28440   PJ  ***.00.565/****-19  ...  $0.00   $2,563,480.00\n",
              "29433   PJ  ***.05.330/****-62  ... $50.76   $2,773,410.36\n",
              "30152   PJ  ***.07.827/****-87  ...  $3.38   $1,099,000.00\n",
              "30253   PJ  ***.08.178/****-25  ... $25.76   $1,204,141.97\n",
              "30607   PJ  ***.09.613/****-79  ...  $4.04   $2,152,746.88\n",
              "\n",
              "[5 rows x 8 columns]"
            ]
          },
          "metadata": {
            "tags": []
          },
          "execution_count": 153
        }
      ]
    },
    {
      "cell_type": "code",
      "metadata": {
        "id": "25_mX8QLE7wW",
        "colab_type": "code",
        "colab": {
          "base_uri": "https://localhost:8080/",
          "height": 51
        },
        "outputId": "3993953c-3ab1-49cf-d0cc-60b837179f7b"
      },
      "source": [
        "df.query('NOME == \"VAP CONSTRUCOES\"')['PROJETO'].value_counts()"
      ],
      "execution_count": 154,
      "outputs": [
        {
          "output_type": "execute_result",
          "data": {
            "text/plain": [
              "2971 - CV - LG/UFC/FCPC - TERMO ADITIVO NÂº 12    1\n",
              "Name: PROJETO, dtype: int64"
            ]
          },
          "metadata": {
            "tags": []
          },
          "execution_count": 154
        }
      ]
    },
    {
      "cell_type": "code",
      "metadata": {
        "id": "xDA0dXbTE90t",
        "colab_type": "code",
        "colab": {
          "base_uri": "https://localhost:8080/",
          "height": 68
        },
        "outputId": "3078edb5-bbd6-4631-9e46-52e1c0c9d051"
      },
      "source": [
        "df.query('NOME == \"Y CORPORATION OF AMERICA, INC\"')['PROJETO'].value_counts()"
      ],
      "execution_count": 157,
      "outputs": [
        {
          "output_type": "execute_result",
          "data": {
            "text/plain": [
              "2274 - CV - FINEP/FCPC-AVALIACAO DA EFICACIA E SEG.DE ALGUMAS P.MEDICINAIS    2\n",
              "2607 - CT.BNDES/UFC/FCPC - CONSTRUÃ‡ÃƒO DO CPDM                               1\n",
              "Name: PROJETO, dtype: int64"
            ]
          },
          "metadata": {
            "tags": []
          },
          "execution_count": 157
        }
      ]
    },
    {
      "cell_type": "code",
      "metadata": {
        "id": "ojvUKpHvFDrz",
        "colab_type": "code",
        "colab": {
          "base_uri": "https://localhost:8080/",
          "height": 71
        },
        "outputId": "69245d90-417a-43e5-ac3f-5212009aaa75"
      },
      "source": [
        "df.query('NOME == \"DATAINFO PESQUISA E CONSULTORIA S/S LTDA\"')['PROJETO'].value_counts()"
      ],
      "execution_count": 159,
      "outputs": [
        {
          "output_type": "execute_result",
          "data": {
            "text/plain": [
              "3472 - CT. UFC/FCPC - PESQUISA DE CONDIÇÕES SOCIOECONOMICAS E VIOLENCIA DOMESTICA E FAMILIAR CONTRA A MULHER - 3º ONDA (PCSVDF3)    2\n",
              "Name: PROJETO, dtype: int64"
            ]
          },
          "metadata": {
            "tags": []
          },
          "execution_count": 159
        }
      ]
    },
    {
      "cell_type": "code",
      "metadata": {
        "id": "2hrtK4ssFKma",
        "colab_type": "code",
        "colab": {
          "base_uri": "https://localhost:8080/",
          "height": 102
        },
        "outputId": "383009ac-3bda-4938-aa85-67c387b34f4d"
      },
      "source": [
        "df.query('NOME == \"STILUS PROMOCOES DE EVENTOS LT\"')['PROJETO'].value_counts()"
      ],
      "execution_count": 162,
      "outputs": [
        {
          "output_type": "execute_result",
          "data": {
            "text/plain": [
              "2945 - CARTA ACORDO OPAS/FCPC FAIMER 2014                             3\n",
              "3090 - UFC/FCPC - THE NETWORK - ENCONTRO EDUCACIONAL INTERNACIONAL    2\n",
              "2926 - CART ACORDO OPAS/FCPC - SESSOES PRESENCIAIS DE 201             2\n",
              "3119 - CARTA ACORDO OPAS/OMS/FCPC - FAIMER BRASIL - SEMIN             1\n",
              "Name: PROJETO, dtype: int64"
            ]
          },
          "metadata": {
            "tags": []
          },
          "execution_count": 162
        }
      ]
    },
    {
      "cell_type": "code",
      "metadata": {
        "id": "sMTQwuB1FPcj",
        "colab_type": "code",
        "colab": {
          "base_uri": "https://localhost:8080/",
          "height": 51
        },
        "outputId": "ed03b805-def6-4e04-cd52-6b545f242a59"
      },
      "source": [
        "df.query('NOME == \"PROJLAB INDUSTRIA E COMERCIO P\"')['PROJETO'].value_counts()"
      ],
      "execution_count": 164,
      "outputs": [
        {
          "output_type": "execute_result",
          "data": {
            "text/plain": [
              "2607 - CT.BNDES/UFC/FCPC - CONSTRUÃ‡ÃƒO DO CPDM    6\n",
              "Name: PROJETO, dtype: int64"
            ]
          },
          "metadata": {
            "tags": []
          },
          "execution_count": 164
        }
      ]
    },
    {
      "cell_type": "code",
      "metadata": {
        "id": "UO5SxFk7HMhI",
        "colab_type": "code",
        "colab": {
          "base_uri": "https://localhost:8080/",
          "height": 388
        },
        "outputId": "9c1854cf-1ae1-417a-a5ec-9373f29612b5"
      },
      "source": [
        "#Gasto histórico\n",
        "df.groupby('ano').sum().plot(kind='bar')\n",
        "plt.ticklabel_format(axis=\"y\", style=\"sci\", scilimits=(6,6)) #Em milhões\n",
        "plt.show()"
      ],
      "execution_count": 174,
      "outputs": [
        {
          "output_type": "display_data",
          "data": {
            "image/png": "[encoded data removed]",
            "text/plain": [
              "<Figure size 1440x504 with 1 Axes>"
            ]
          },
          "metadata": {
            "tags": [],
            "needs_background": "light"
          }
        }
      ]
    },
    {
      "cell_type": "code",
      "metadata": {
        "id": "mCnubRb0Irt6",
        "colab_type": "code",
        "colab": {}
      },
      "source": [
        ""
      ],
      "execution_count": 0,
      "outputs": []
    }
  ]
}