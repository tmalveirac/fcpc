{
  "nbformat": 4,
  "nbformat_minor": 0,
  "metadata": {
    "colab": {
      "name": "fcpf_append_arquivos.ipynb",
      "provenance": [],
      "collapsed_sections": [],
      "toc_visible": true
    },
    "kernelspec": {
      "name": "python3",
      "display_name": "Python 3"
    }
  },
  "cells": [
    {
      "cell_type": "markdown",
      "metadata": {
        "id": "XLpy-0kc3tS1",
        "colab_type": "text"
      },
      "source": [
        "## Preparação do arquivo histórico 2002-2019 Pagamento PF FCPF\n",
        "\n",
        "```\n",
        "# Será incluído o ano em cada df e feito um append\n",
        "\n",
        "```\n",
        "\n"
      ]
    },
    {
      "cell_type": "code",
      "metadata": {
        "id": "Jnspg7Jw3n4T",
        "colab_type": "code",
        "colab": {}
      },
      "source": [
        "import pandas as pd"
      ],
      "execution_count": 0,
      "outputs": []
    },
    {
      "cell_type": "code",
      "metadata": {
        "id": "VHpNY-094K7B",
        "colab_type": "code",
        "colab": {}
      },
      "source": [
        "df_2002 = pd.read_csv('/content/2002.csv')\n",
        "df_2003 = pd.read_csv('/content/2003.csv')\n",
        "df_2004 = pd.read_csv('/content/2004.csv')\n",
        "df_2005 = pd.read_csv('/content/2005.csv')\n",
        "df_2006 = pd.read_csv('/content/2006.csv')\n",
        "df_2007 = pd.read_csv('/content/2007.csv')\n",
        "df_2008 = pd.read_csv('/content/2008.csv')\n",
        "df_2009 = pd.read_csv('/content/2009.csv')\n",
        "df_2010 = pd.read_csv('/content/2010.csv')\n",
        "df_2011 = pd.read_csv('/content/2011.csv')\n",
        "df_2012 = pd.read_csv('/content/2012.csv')\n",
        "df_2013 = pd.read_csv('/content/2013.csv')\n",
        "df_2014 = pd.read_csv('/content/2014.csv')\n",
        "df_2015 = pd.read_csv('/content/2015.csv')\n",
        "df_2016 = pd.read_csv('/content/2016.csv')\n",
        "df_2017 = pd.read_csv('/content/2017.csv')\n",
        "df_2018 = pd.read_csv('/content/2018.csv')\n",
        "df_2019 = pd.read_csv('/content/2019.csv')"
      ],
      "execution_count": 0,
      "outputs": []
    },
    {
      "cell_type": "code",
      "metadata": {
        "id": "Q2aBF8yZ5DhL",
        "colab_type": "code",
        "colab": {}
      },
      "source": [
        "# Inserção do ano\n",
        "df_2002['ano'] = '2002'\n",
        "df_2003['ano'] = '2003'\n",
        "df_2004['ano'] = '2004'\n",
        "df_2005['ano'] = '2005'\n",
        "df_2006['ano'] = '2006'\n",
        "df_2007['ano'] = '2007'\n",
        "df_2008['ano'] = '2008'\n",
        "df_2009['ano'] = '2009'\n",
        "df_2010['ano'] = '2010'\n",
        "df_2011['ano'] = '2011'\n",
        "df_2012['ano'] = '2012'\n",
        "df_2013['ano'] = '2013'\n",
        "df_2014['ano'] = '2014'\n",
        "df_2015['ano'] = '2015'\n",
        "df_2016['ano'] = '2016'\n",
        "df_2017['ano'] = '2017'\n",
        "df_2018['ano'] = '2018'\n",
        "df_2019['ano'] = '2019'"
      ],
      "execution_count": 0,
      "outputs": []
    },
    {
      "cell_type": "code",
      "metadata": {
        "id": "NeseqjJr5oVq",
        "colab_type": "code",
        "colab": {}
      },
      "source": [
        "#App\n",
        "df = df_2002\n",
        "df_total = df.append(df_2002).append(df_2003).append(df_2004).append(df_2005).append(df_2006).append(df_2007).append(df_2008).append(df_2009).append(df_2010).append(df_2011).append(df_2012).append(df_2013).append(df_2014).append(df_2015).append(df_2016).append(df_2017).append(df_2018).append(df_2019)"
      ],
      "execution_count": 0,
      "outputs": []
    },
    {
      "cell_type": "code",
      "metadata": {
        "id": "eUqebNAS6CIM",
        "colab_type": "code",
        "colab": {
          "base_uri": "https://localhost:8080/",
          "height": 34
        },
        "outputId": "bf6321a0-90f0-46e0-eea2-f85a20f206a4"
      },
      "source": [
        "df_total.shape"
      ],
      "execution_count": 17,
      "outputs": [
        {
          "output_type": "execute_result",
          "data": {
            "text/plain": [
              "(239609, 7)"
            ]
          },
          "metadata": {
            "tags": []
          },
          "execution_count": 17
        }
      ]
    },
    {
      "cell_type": "code",
      "metadata": {
        "id": "_MlslXmn6I2u",
        "colab_type": "code",
        "colab": {}
      },
      "source": [
        "df_total.to_csv('/content/fcpc_despesas_pf_2002_2019.csv')"
      ],
      "execution_count": 0,
      "outputs": []
    }
  ]
}